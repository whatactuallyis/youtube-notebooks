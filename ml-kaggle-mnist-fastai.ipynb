{
  "nbformat": 4,
  "nbformat_minor": 0,
  "metadata": {
    "colab": {
      "provenance": []
    },
    "kernelspec": {
      "name": "python3",
      "display_name": "Python 3"
    },
    "language_info": {
      "name": "python"
    },
    "accelerator": "GPU",
    "gpuClass": "standard",
    "widgets": {
      "application/vnd.jupyter.widget-state+json": {
        "82a8b1212dba422b9f3d3561e8d8c7f8": {
          "model_module": "@jupyter-widgets/controls",
          "model_name": "HBoxModel",
          "model_module_version": "1.5.0",
          "state": {
            "_dom_classes": [],
            "_model_module": "@jupyter-widgets/controls",
            "_model_module_version": "1.5.0",
            "_model_name": "HBoxModel",
            "_view_count": null,
            "_view_module": "@jupyter-widgets/controls",
            "_view_module_version": "1.5.0",
            "_view_name": "HBoxView",
            "box_style": "",
            "children": [
              "IPY_MODEL_7b89c2f866d64df59e68a6e7054a6514",
              "IPY_MODEL_a9ca9ff55a294d2982caefbbc01e0bbb",
              "IPY_MODEL_6f63f99879d44e129c05a9174feee749"
            ],
            "layout": "IPY_MODEL_b7db601b540c4f66b76ec4704f1f0e88"
          }
        },
        "7b89c2f866d64df59e68a6e7054a6514": {
          "model_module": "@jupyter-widgets/controls",
          "model_name": "HTMLModel",
          "model_module_version": "1.5.0",
          "state": {
            "_dom_classes": [],
            "_model_module": "@jupyter-widgets/controls",
            "_model_module_version": "1.5.0",
            "_model_name": "HTMLModel",
            "_view_count": null,
            "_view_module": "@jupyter-widgets/controls",
            "_view_module_version": "1.5.0",
            "_view_name": "HTMLView",
            "description": "",
            "description_tooltip": null,
            "layout": "IPY_MODEL_18a785783cff4d5ba70cd94990a2ba78",
            "placeholder": "​",
            "style": "IPY_MODEL_7e9d369c5ca44e14959d49681aa31f75",
            "value": "100%"
          }
        },
        "a9ca9ff55a294d2982caefbbc01e0bbb": {
          "model_module": "@jupyter-widgets/controls",
          "model_name": "FloatProgressModel",
          "model_module_version": "1.5.0",
          "state": {
            "_dom_classes": [],
            "_model_module": "@jupyter-widgets/controls",
            "_model_module_version": "1.5.0",
            "_model_name": "FloatProgressModel",
            "_view_count": null,
            "_view_module": "@jupyter-widgets/controls",
            "_view_module_version": "1.5.0",
            "_view_name": "ProgressView",
            "bar_style": "success",
            "description": "",
            "description_tooltip": null,
            "layout": "IPY_MODEL_261cad987bf64b9f8ef60ac1fa656601",
            "max": 46830571,
            "min": 0,
            "orientation": "horizontal",
            "style": "IPY_MODEL_293a679fdcb44cada78feca5b6233b8e",
            "value": 46830571
          }
        },
        "6f63f99879d44e129c05a9174feee749": {
          "model_module": "@jupyter-widgets/controls",
          "model_name": "HTMLModel",
          "model_module_version": "1.5.0",
          "state": {
            "_dom_classes": [],
            "_model_module": "@jupyter-widgets/controls",
            "_model_module_version": "1.5.0",
            "_model_name": "HTMLModel",
            "_view_count": null,
            "_view_module": "@jupyter-widgets/controls",
            "_view_module_version": "1.5.0",
            "_view_name": "HTMLView",
            "description": "",
            "description_tooltip": null,
            "layout": "IPY_MODEL_9526e387dea04037946c27c3be09b1d4",
            "placeholder": "​",
            "style": "IPY_MODEL_5e91dbe69d34462fbc55197f606ba254",
            "value": " 44.7M/44.7M [00:00&lt;00:00, 160MB/s]"
          }
        },
        "b7db601b540c4f66b76ec4704f1f0e88": {
          "model_module": "@jupyter-widgets/base",
          "model_name": "LayoutModel",
          "model_module_version": "1.2.0",
          "state": {
            "_model_module": "@jupyter-widgets/base",
            "_model_module_version": "1.2.0",
            "_model_name": "LayoutModel",
            "_view_count": null,
            "_view_module": "@jupyter-widgets/base",
            "_view_module_version": "1.2.0",
            "_view_name": "LayoutView",
            "align_content": null,
            "align_items": null,
            "align_self": null,
            "border": null,
            "bottom": null,
            "display": null,
            "flex": null,
            "flex_flow": null,
            "grid_area": null,
            "grid_auto_columns": null,
            "grid_auto_flow": null,
            "grid_auto_rows": null,
            "grid_column": null,
            "grid_gap": null,
            "grid_row": null,
            "grid_template_areas": null,
            "grid_template_columns": null,
            "grid_template_rows": null,
            "height": null,
            "justify_content": null,
            "justify_items": null,
            "left": null,
            "margin": null,
            "max_height": null,
            "max_width": null,
            "min_height": null,
            "min_width": null,
            "object_fit": null,
            "object_position": null,
            "order": null,
            "overflow": null,
            "overflow_x": null,
            "overflow_y": null,
            "padding": null,
            "right": null,
            "top": null,
            "visibility": null,
            "width": null
          }
        },
        "18a785783cff4d5ba70cd94990a2ba78": {
          "model_module": "@jupyter-widgets/base",
          "model_name": "LayoutModel",
          "model_module_version": "1.2.0",
          "state": {
            "_model_module": "@jupyter-widgets/base",
            "_model_module_version": "1.2.0",
            "_model_name": "LayoutModel",
            "_view_count": null,
            "_view_module": "@jupyter-widgets/base",
            "_view_module_version": "1.2.0",
            "_view_name": "LayoutView",
            "align_content": null,
            "align_items": null,
            "align_self": null,
            "border": null,
            "bottom": null,
            "display": null,
            "flex": null,
            "flex_flow": null,
            "grid_area": null,
            "grid_auto_columns": null,
            "grid_auto_flow": null,
            "grid_auto_rows": null,
            "grid_column": null,
            "grid_gap": null,
            "grid_row": null,
            "grid_template_areas": null,
            "grid_template_columns": null,
            "grid_template_rows": null,
            "height": null,
            "justify_content": null,
            "justify_items": null,
            "left": null,
            "margin": null,
            "max_height": null,
            "max_width": null,
            "min_height": null,
            "min_width": null,
            "object_fit": null,
            "object_position": null,
            "order": null,
            "overflow": null,
            "overflow_x": null,
            "overflow_y": null,
            "padding": null,
            "right": null,
            "top": null,
            "visibility": null,
            "width": null
          }
        },
        "7e9d369c5ca44e14959d49681aa31f75": {
          "model_module": "@jupyter-widgets/controls",
          "model_name": "DescriptionStyleModel",
          "model_module_version": "1.5.0",
          "state": {
            "_model_module": "@jupyter-widgets/controls",
            "_model_module_version": "1.5.0",
            "_model_name": "DescriptionStyleModel",
            "_view_count": null,
            "_view_module": "@jupyter-widgets/base",
            "_view_module_version": "1.2.0",
            "_view_name": "StyleView",
            "description_width": ""
          }
        },
        "261cad987bf64b9f8ef60ac1fa656601": {
          "model_module": "@jupyter-widgets/base",
          "model_name": "LayoutModel",
          "model_module_version": "1.2.0",
          "state": {
            "_model_module": "@jupyter-widgets/base",
            "_model_module_version": "1.2.0",
            "_model_name": "LayoutModel",
            "_view_count": null,
            "_view_module": "@jupyter-widgets/base",
            "_view_module_version": "1.2.0",
            "_view_name": "LayoutView",
            "align_content": null,
            "align_items": null,
            "align_self": null,
            "border": null,
            "bottom": null,
            "display": null,
            "flex": null,
            "flex_flow": null,
            "grid_area": null,
            "grid_auto_columns": null,
            "grid_auto_flow": null,
            "grid_auto_rows": null,
            "grid_column": null,
            "grid_gap": null,
            "grid_row": null,
            "grid_template_areas": null,
            "grid_template_columns": null,
            "grid_template_rows": null,
            "height": null,
            "justify_content": null,
            "justify_items": null,
            "left": null,
            "margin": null,
            "max_height": null,
            "max_width": null,
            "min_height": null,
            "min_width": null,
            "object_fit": null,
            "object_position": null,
            "order": null,
            "overflow": null,
            "overflow_x": null,
            "overflow_y": null,
            "padding": null,
            "right": null,
            "top": null,
            "visibility": null,
            "width": null
          }
        },
        "293a679fdcb44cada78feca5b6233b8e": {
          "model_module": "@jupyter-widgets/controls",
          "model_name": "ProgressStyleModel",
          "model_module_version": "1.5.0",
          "state": {
            "_model_module": "@jupyter-widgets/controls",
            "_model_module_version": "1.5.0",
            "_model_name": "ProgressStyleModel",
            "_view_count": null,
            "_view_module": "@jupyter-widgets/base",
            "_view_module_version": "1.2.0",
            "_view_name": "StyleView",
            "bar_color": null,
            "description_width": ""
          }
        },
        "9526e387dea04037946c27c3be09b1d4": {
          "model_module": "@jupyter-widgets/base",
          "model_name": "LayoutModel",
          "model_module_version": "1.2.0",
          "state": {
            "_model_module": "@jupyter-widgets/base",
            "_model_module_version": "1.2.0",
            "_model_name": "LayoutModel",
            "_view_count": null,
            "_view_module": "@jupyter-widgets/base",
            "_view_module_version": "1.2.0",
            "_view_name": "LayoutView",
            "align_content": null,
            "align_items": null,
            "align_self": null,
            "border": null,
            "bottom": null,
            "display": null,
            "flex": null,
            "flex_flow": null,
            "grid_area": null,
            "grid_auto_columns": null,
            "grid_auto_flow": null,
            "grid_auto_rows": null,
            "grid_column": null,
            "grid_gap": null,
            "grid_row": null,
            "grid_template_areas": null,
            "grid_template_columns": null,
            "grid_template_rows": null,
            "height": null,
            "justify_content": null,
            "justify_items": null,
            "left": null,
            "margin": null,
            "max_height": null,
            "max_width": null,
            "min_height": null,
            "min_width": null,
            "object_fit": null,
            "object_position": null,
            "order": null,
            "overflow": null,
            "overflow_x": null,
            "overflow_y": null,
            "padding": null,
            "right": null,
            "top": null,
            "visibility": null,
            "width": null
          }
        },
        "5e91dbe69d34462fbc55197f606ba254": {
          "model_module": "@jupyter-widgets/controls",
          "model_name": "DescriptionStyleModel",
          "model_module_version": "1.5.0",
          "state": {
            "_model_module": "@jupyter-widgets/controls",
            "_model_module_version": "1.5.0",
            "_model_name": "DescriptionStyleModel",
            "_view_count": null,
            "_view_module": "@jupyter-widgets/base",
            "_view_module_version": "1.2.0",
            "_view_name": "StyleView",
            "description_width": ""
          }
        }
      }
    }
  },
  "cells": [
    {
      "cell_type": "code",
      "execution_count": null,
      "metadata": {
        "colab": {
          "base_uri": "https://localhost:8080/"
        },
        "id": "aR7upEI63hhy",
        "outputId": "ddf6ddd3-9cc6-4647-c84c-6cef68eef688"
      },
      "outputs": [
        {
          "output_type": "stream",
          "name": "stdout",
          "text": [
            "\u001b[2K     \u001b[90m━━━━━━━━━━━━━━━━━━━━━━━━━━━━━━━━━━━━━━\u001b[0m \u001b[32m719.8/719.8 KB\u001b[0m \u001b[31m14.6 MB/s\u001b[0m eta \u001b[36m0:00:00\u001b[0m\n",
            "\u001b[2K     \u001b[90m━━━━━━━━━━━━━━━━━━━━━━━━━━━━━━━━━━━━━━\u001b[0m \u001b[32m469.0/469.0 KB\u001b[0m \u001b[31m22.1 MB/s\u001b[0m eta \u001b[36m0:00:00\u001b[0m\n",
            "\u001b[2K     \u001b[90m━━━━━━━━━━━━━━━━━━━━━━━━━━━━━━━━━━━━━━━━\u001b[0m \u001b[32m1.3/1.3 MB\u001b[0m \u001b[31m52.6 MB/s\u001b[0m eta \u001b[36m0:00:00\u001b[0m\n",
            "\u001b[2K     \u001b[90m━━━━━━━━━━━━━━━━━━━━━━━━━━━━━━━━━━━━━━━━\u001b[0m \u001b[32m6.7/6.7 MB\u001b[0m \u001b[31m58.5 MB/s\u001b[0m eta \u001b[36m0:00:00\u001b[0m\n",
            "\u001b[2K     \u001b[90m━━━━━━━━━━━━━━━━━━━━━━━━━━━━━━━━━━━━━━━\u001b[0m \u001b[32m132.9/132.9 KB\u001b[0m \u001b[31m6.6 MB/s\u001b[0m eta \u001b[36m0:00:00\u001b[0m\n",
            "\u001b[2K     \u001b[90m━━━━━━━━━━━━━━━━━━━━━━━━━━━━━━━━━━━━━━━\u001b[0m \u001b[32m110.5/110.5 KB\u001b[0m \u001b[31m5.1 MB/s\u001b[0m eta \u001b[36m0:00:00\u001b[0m\n",
            "\u001b[2K     \u001b[90m━━━━━━━━━━━━━━━━━━━━━━━━━━━━━━━━━━━━━━\u001b[0m \u001b[32m199.2/199.2 KB\u001b[0m \u001b[31m14.7 MB/s\u001b[0m eta \u001b[36m0:00:00\u001b[0m\n",
            "\u001b[2K     \u001b[90m━━━━━━━━━━━━━━━━━━━━━━━━━━━━━━━━━━━━━━━━\u001b[0m \u001b[32m1.0/1.0 MB\u001b[0m \u001b[31m15.6 MB/s\u001b[0m eta \u001b[36m0:00:00\u001b[0m\n",
            "\u001b[2K     \u001b[90m━━━━━━━━━━━━━━━━━━━━━━━━━━━━━━━━━━━━━━\u001b[0m \u001b[32m212.2/212.2 KB\u001b[0m \u001b[31m10.1 MB/s\u001b[0m eta \u001b[36m0:00:00\u001b[0m\n",
            "\u001b[2K     \u001b[90m━━━━━━━━━━━━━━━━━━━━━━━━━━━━━━━━━━━━━━━━\u001b[0m \u001b[32m7.6/7.6 MB\u001b[0m \u001b[31m90.1 MB/s\u001b[0m eta \u001b[36m0:00:00\u001b[0m\n",
            "\u001b[2K     \u001b[90m━━━━━━━━━━━━━━━━━━━━━━━━━━━━━━━━━━━━━━\u001b[0m \u001b[32m158.8/158.8 KB\u001b[0m \u001b[31m23.0 MB/s\u001b[0m eta \u001b[36m0:00:00\u001b[0m\n",
            "\u001b[2K     \u001b[90m━━━━━━━━━━━━━━━━━━━━━━━━━━━━━━━━━━━━━━━\u001b[0m \u001b[32m264.6/264.6 KB\u001b[0m \u001b[31m6.2 MB/s\u001b[0m eta \u001b[36m0:00:00\u001b[0m\n",
            "\u001b[2K     \u001b[90m━━━━━━━━━━━━━━━━━━━━━━━━━━━━━━━━━━━━━━\u001b[0m \u001b[32m114.2/114.2 KB\u001b[0m \u001b[31m12.6 MB/s\u001b[0m eta \u001b[36m0:00:00\u001b[0m\n",
            "\u001b[2K     \u001b[90m━━━━━━━━━━━━━━━━━━━━━━━━━━━━━━━━━━━━━━━━\u001b[0m \u001b[32m1.6/1.6 MB\u001b[0m \u001b[31m48.3 MB/s\u001b[0m eta \u001b[36m0:00:00\u001b[0m\n",
            "\u001b[?25hMounted at /content/gdrive\n"
          ]
        }
      ],
      "source": [
        "# Fastbook + relevant packages installation\n",
        "! [ -e /content ] && pip install -Uqq fastbook kaggle\n",
        "\n",
        "# Import the modules\n",
        "from fastai.vision.all import *\n",
        "import fastbook\n",
        "# Setup the book\n",
        "fastbook.setup_book()"
      ]
    },
    {
      "cell_type": "code",
      "source": [
        "# Create a kaggle folder\n",
        "!mkdir ~/.kaggle\n",
        "# Copy json file into the kaggle folder\n",
        "!cp /content/gdrive/MyDrive/YouTube/kaggle.json ~/.kaggle/\n",
        "# Give full read & write permission only to the owner\n",
        "!chmod 600 ~/.kaggle/kaggle.json"
      ],
      "metadata": {
        "id": "SQrZCoY08JF-"
      },
      "execution_count": null,
      "outputs": []
    },
    {
      "cell_type": "code",
      "source": [
        "# Declare the dataset name\n",
        "name = \"digit-recognizer\"\n",
        "# Declare the dataset path\n",
        "path = URLs.path(url=name); path"
      ],
      "metadata": {
        "colab": {
          "base_uri": "https://localhost:8080/"
        },
        "id": "uK_siPWcHRIF",
        "outputId": "491f495e-c339-4746-8f2c-8cde3955717d"
      },
      "execution_count": null,
      "outputs": [
        {
          "output_type": "execute_result",
          "data": {
            "text/plain": [
              "Path('/root/.fastai/archive/digit-recognizer')"
            ]
          },
          "metadata": {},
          "execution_count": 3
        }
      ]
    },
    {
      "cell_type": "code",
      "source": [
        "# Import the modules\n",
        "from kaggle import api\n",
        "\n",
        "# If the path does not exist\n",
        "if not path.exists():\n",
        "    # Create it\n",
        "    path.mkdir(parents=True)\n",
        "    # Download the dataset to the set path\n",
        "    api.competition_download_cli(competition=name, path=path)\n",
        "    # Unzip the file\n",
        "    shutil.unpack_archive(str(path/f\"{name}.zip\"), str(path))\n",
        "\n",
        "# Trace\n",
        "path.ls(file_type=\"text\")"
      ],
      "metadata": {
        "colab": {
          "base_uri": "https://localhost:8080/"
        },
        "id": "Mt9_8oKxH1Af",
        "outputId": "8168add5-710d-4e17-8686-d5543a1c6036"
      },
      "execution_count": null,
      "outputs": [
        {
          "output_type": "stream",
          "name": "stdout",
          "text": [
            "Downloading digit-recognizer.zip to /root/.fastai/archive/digit-recognizer\n"
          ]
        },
        {
          "output_type": "stream",
          "name": "stderr",
          "text": [
            "100%|██████████| 15.3M/15.3M [00:01<00:00, 14.2MB/s]\n"
          ]
        },
        {
          "output_type": "stream",
          "name": "stdout",
          "text": [
            "\n"
          ]
        },
        {
          "output_type": "execute_result",
          "data": {
            "text/plain": [
              "(#3) [Path('/root/.fastai/archive/digit-recognizer/sample_submission.csv'),Path('/root/.fastai/archive/digit-recognizer/test.csv'),Path('/root/.fastai/archive/digit-recognizer/train.csv')]"
            ]
          },
          "metadata": {},
          "execution_count": 4
        }
      ]
    },
    {
      "cell_type": "code",
      "source": [
        "# Create folders in label name [0, ..., 9]\n",
        "for i in range(10):\n",
        "    # For training folder\n",
        "    (path/\"training\"/str(i)).mkdir(exist_ok=True, parents=True)\n",
        "\n",
        "# For testing folder\n",
        "(path/\"testing\"/\"None\").mkdir(exist_ok=True, parents=True)\n",
        "# Trace\n",
        "(path/\"training\").ls(), (path/\"testing\").ls()"
      ],
      "metadata": {
        "colab": {
          "base_uri": "https://localhost:8080/"
        },
        "id": "7nVdgw5_JXLh",
        "outputId": "88abd6e1-aefd-4b72-95a6-f322bcbf215a"
      },
      "execution_count": null,
      "outputs": [
        {
          "output_type": "execute_result",
          "data": {
            "text/plain": [
              "((#10) [Path('/root/.fastai/archive/digit-recognizer/training/8'),Path('/root/.fastai/archive/digit-recognizer/training/1'),Path('/root/.fastai/archive/digit-recognizer/training/9'),Path('/root/.fastai/archive/digit-recognizer/training/4'),Path('/root/.fastai/archive/digit-recognizer/training/3'),Path('/root/.fastai/archive/digit-recognizer/training/7'),Path('/root/.fastai/archive/digit-recognizer/training/5'),Path('/root/.fastai/archive/digit-recognizer/training/0'),Path('/root/.fastai/archive/digit-recognizer/training/6'),Path('/root/.fastai/archive/digit-recognizer/training/2')],\n",
              " (#1) [Path('/root/.fastai/archive/digit-recognizer/testing/None')])"
            ]
          },
          "metadata": {},
          "execution_count": 5
        }
      ]
    },
    {
      "cell_type": "code",
      "source": [
        "# Load the train data\n",
        "train_df = pd.read_csv(path/\"train.csv\", low_memory=False); train_df.sample()"
      ],
      "metadata": {
        "colab": {
          "base_uri": "https://localhost:8080/",
          "height": 145
        },
        "id": "29-dFb3dKLfL",
        "outputId": "490b9a30-355c-4e09-f709-0fbdbf445f33"
      },
      "execution_count": null,
      "outputs": [
        {
          "output_type": "execute_result",
          "data": {
            "text/plain": [
              "      label  pixel0  pixel1  pixel2  pixel3  pixel4  pixel5  pixel6  pixel7  \\\n",
              "5457      8       0       0       0       0       0       0       0       0   \n",
              "\n",
              "      pixel8  pixel9  pixel10  pixel11  pixel12  pixel13  pixel14  pixel15  \\\n",
              "5457       0       0        0        0        0        0        0        0   \n",
              "\n",
              "      pixel16  pixel17  pixel18  pixel19  pixel20  pixel21  pixel22  pixel23  \\\n",
              "5457        0        0        0        0        0        0        0        0   \n",
              "\n",
              "      pixel24  pixel25  pixel26  pixel27  pixel28  pixel29  pixel30  pixel31  \\\n",
              "5457        0        0        0        0        0        0        0        0   \n",
              "\n",
              "      pixel32  pixel33  pixel34  pixel35  pixel36  pixel37  pixel38  pixel39  \\\n",
              "5457        0        0        0        0        0        0        0        0   \n",
              "\n",
              "      pixel40  pixel41  pixel42  pixel43  pixel44  pixel45  pixel46  pixel47  \\\n",
              "5457        0        0        0        0        0        0        0        0   \n",
              "\n",
              "      pixel48  pixel49  pixel50  pixel51  pixel52  pixel53  pixel54  pixel55  \\\n",
              "5457        0        0        0        0        0        0        0        0   \n",
              "\n",
              "      pixel56  pixel57  pixel58  pixel59  pixel60  pixel61  pixel62  pixel63  \\\n",
              "5457        0        0        0        0        0        0        0        0   \n",
              "\n",
              "      pixel64  pixel65  pixel66  pixel67  pixel68  pixel69  pixel70  pixel71  \\\n",
              "5457        0        0        0        0        0        0        0        0   \n",
              "\n",
              "      pixel72  pixel73  pixel74  pixel75  pixel76  pixel77  pixel78  pixel79  \\\n",
              "5457        0        0        0        0        0        0        0        0   \n",
              "\n",
              "      pixel80  pixel81  pixel82  pixel83  pixel84  pixel85  pixel86  pixel87  \\\n",
              "5457        0        0        0        0        0        0        0        0   \n",
              "\n",
              "      pixel88  pixel89  pixel90  pixel91  pixel92  pixel93  pixel94  pixel95  \\\n",
              "5457        0        0        0        0        0        0        0        0   \n",
              "\n",
              "      pixel96  pixel97  pixel98  pixel99  pixel100  pixel101  pixel102  \\\n",
              "5457        0        0        0        0         0         0         0   \n",
              "\n",
              "      pixel103  pixel104  pixel105  pixel106  pixel107  pixel108  pixel109  \\\n",
              "5457         0         0         0         0         0         0         0   \n",
              "\n",
              "      pixel110  pixel111  pixel112  pixel113  pixel114  pixel115  pixel116  \\\n",
              "5457         0         0         0         0         0         0         0   \n",
              "\n",
              "      pixel117  pixel118  pixel119  pixel120  pixel121  pixel122  pixel123  \\\n",
              "5457         0         0         0         0         0         0         0   \n",
              "\n",
              "      pixel124  pixel125  pixel126  pixel127  pixel128  pixel129  pixel130  \\\n",
              "5457         0         3        62       185       255       229        28   \n",
              "\n",
              "      pixel131  pixel132  pixel133  pixel134  pixel135  pixel136  pixel137  \\\n",
              "5457         0         0         0         0         0         0         0   \n",
              "\n",
              "      pixel138  pixel139  pixel140  pixel141  pixel142  pixel143  pixel144  \\\n",
              "5457         0         0         0         0         0         0         0   \n",
              "\n",
              "      pixel145  pixel146  pixel147  pixel148  pixel149  pixel150  pixel151  \\\n",
              "5457         0         0         0         0         0         0         0   \n",
              "\n",
              "      pixel152  pixel153  pixel154  pixel155  pixel156  pixel157  pixel158  \\\n",
              "5457         0       173       253       253       253       253        81   \n",
              "\n",
              "      pixel159  pixel160  pixel161  pixel162  pixel163  pixel164  pixel165  \\\n",
              "5457         0         0         0         0         0         0         0   \n",
              "\n",
              "      pixel166  pixel167  pixel168  pixel169  pixel170  pixel171  pixel172  \\\n",
              "5457         0         0         0         0         0         0         0   \n",
              "\n",
              "      pixel173  pixel174  pixel175  pixel176  pixel177  pixel178  pixel179  \\\n",
              "5457         0         0         0         0         0         0         2   \n",
              "\n",
              "      pixel180  pixel181  pixel182  pixel183  pixel184  pixel185  pixel186  \\\n",
              "5457       126       251       178        55        51       253       156   \n",
              "\n",
              "      pixel187  pixel188  pixel189  pixel190  pixel191  pixel192  pixel193  \\\n",
              "5457         0         0         0         0         0         0         0   \n",
              "\n",
              "      pixel194  pixel195  pixel196  pixel197  pixel198  pixel199  pixel200  \\\n",
              "5457         0         0         0         0         0         0         0   \n",
              "\n",
              "      pixel201  pixel202  pixel203  pixel204  pixel205  pixel206  pixel207  \\\n",
              "5457         0         0         0         0         0         0        68   \n",
              "\n",
              "      pixel208  pixel209  pixel210  pixel211  pixel212  pixel213  pixel214  \\\n",
              "5457       253       154         0         0        13       217       156   \n",
              "\n",
              "      pixel215  pixel216  pixel217  pixel218  pixel219  pixel220  pixel221  \\\n",
              "5457         0         0         0         0         0         0         0   \n",
              "\n",
              "      pixel222  pixel223  pixel224  pixel225  pixel226  pixel227  pixel228  \\\n",
              "5457         0         0         0         0         0         0         0   \n",
              "\n",
              "      pixel229  pixel230  pixel231  pixel232  pixel233  pixel234  pixel235  \\\n",
              "5457         0         0         0         0         0         9       229   \n",
              "\n",
              "      pixel236  pixel237  pixel238  pixel239  pixel240  pixel241  pixel242  \\\n",
              "5457       188         6         0         0        22       253       156   \n",
              "\n",
              "      pixel243  pixel244  pixel245  pixel246  pixel247  pixel248  pixel249  \\\n",
              "5457         0         0         0         0         0         0         0   \n",
              "\n",
              "      pixel250  pixel251  pixel252  pixel253  pixel254  pixel255  pixel256  \\\n",
              "5457         0         0         0         0         0         0         0   \n",
              "\n",
              "      pixel257  pixel258  pixel259  pixel260  pixel261  pixel262  pixel263  \\\n",
              "5457         0         0         0         0         0        11       253   \n",
              "\n",
              "      pixel264  pixel265  pixel266  pixel267  pixel268  pixel269  pixel270  \\\n",
              "5457       167         0         0         0        22       253       160   \n",
              "\n",
              "      pixel271  pixel272  pixel273  pixel274  pixel275  pixel276  pixel277  \\\n",
              "5457        11         9         0         0         0         0         0   \n",
              "\n",
              "      pixel278  pixel279  pixel280  pixel281  pixel282  pixel283  pixel284  \\\n",
              "5457         0         0         0         0         0         0         0   \n",
              "\n",
              "      pixel285  pixel286  pixel287  pixel288  pixel289  pixel290  pixel291  \\\n",
              "5457         0         0         0         0         0         9       235   \n",
              "\n",
              "      pixel292  pixel293  pixel294  pixel295  pixel296  pixel297  pixel298  \\\n",
              "5457       167         0         0         0        22       253       253   \n",
              "\n",
              "      pixel299  pixel300  pixel301  pixel302  pixel303  pixel304  pixel305  \\\n",
              "5457       253       188         0         0         0         0         0   \n",
              "\n",
              "      pixel306  pixel307  pixel308  pixel309  pixel310  pixel311  pixel312  \\\n",
              "5457         0         0         0         0         0         0         0   \n",
              "\n",
              "      pixel313  pixel314  pixel315  pixel316  pixel317  pixel318  pixel319  \\\n",
              "5457         0         0         0         0         0         0       157   \n",
              "\n",
              "      pixel320  pixel321  pixel322  pixel323  pixel324  pixel325  pixel326  \\\n",
              "5457       233        16         0         0        59       253       253   \n",
              "\n",
              "      pixel327  pixel328  pixel329  pixel330  pixel331  pixel332  pixel333  \\\n",
              "5457       244        78         0         0         0         0         0   \n",
              "\n",
              "      pixel334  pixel335  pixel336  pixel337  pixel338  pixel339  pixel340  \\\n",
              "5457         0         0         0         0         0         0         0   \n",
              "\n",
              "      pixel341  pixel342  pixel343  pixel344  pixel345  pixel346  pixel347  \\\n",
              "5457         0         0         0         0         0         0       105   \n",
              "\n",
              "      pixel348  pixel349  pixel350  pixel351  pixel352  pixel353  pixel354  \\\n",
              "5457       253        21         0         6       184       253       247   \n",
              "\n",
              "      pixel355  pixel356  pixel357  pixel358  pixel359  pixel360  pixel361  \\\n",
              "5457        74         0         0         0         0         0         0   \n",
              "\n",
              "      pixel362  pixel363  pixel364  pixel365  pixel366  pixel367  pixel368  \\\n",
              "5457         0         0         0         0         0         0         0   \n",
              "\n",
              "      pixel369  pixel370  pixel371  pixel372  pixel373  pixel374  pixel375  \\\n",
              "5457         0         0         0         0         0         0        49   \n",
              "\n",
              "      pixel376  pixel377  pixel378  pixel379  pixel380  pixel381  pixel382  \\\n",
              "5457       253       114         0       116       253       253        87   \n",
              "\n",
              "      pixel383  pixel384  pixel385  pixel386  pixel387  pixel388  pixel389  \\\n",
              "5457         0         0         0         0         0         0         0   \n",
              "\n",
              "      pixel390  pixel391  pixel392  pixel393  pixel394  pixel395  pixel396  \\\n",
              "5457         0         0         0         0         0         0         0   \n",
              "\n",
              "      pixel397  pixel398  pixel399  pixel400  pixel401  pixel402  pixel403  \\\n",
              "5457         0         0         0         0         0         0        11   \n",
              "\n",
              "      pixel404  pixel405  pixel406  pixel407  pixel408  pixel409  pixel410  \\\n",
              "5457       168       250       200       242       246       136        10   \n",
              "\n",
              "      pixel411  pixel412  pixel413  pixel414  pixel415  pixel416  pixel417  \\\n",
              "5457         0         0         0         0         0         0         0   \n",
              "\n",
              "      pixel418  pixel419  pixel420  pixel421  pixel422  pixel423  pixel424  \\\n",
              "5457         0         0         0         0         0         0         0   \n",
              "\n",
              "      pixel425  pixel426  pixel427  pixel428  pixel429  pixel430  pixel431  \\\n",
              "5457         0         0         0         0         0         0         0   \n",
              "\n",
              "      pixel432  pixel433  pixel434  pixel435  pixel436  pixel437  pixel438  \\\n",
              "5457        87       253       253       253       222         0         0   \n",
              "\n",
              "      pixel439  pixel440  pixel441  pixel442  pixel443  pixel444  pixel445  \\\n",
              "5457         0         0         0         0         0         0         0   \n",
              "\n",
              "      pixel446  pixel447  pixel448  pixel449  pixel450  pixel451  pixel452  \\\n",
              "5457         0         0         0         0         0         0         0   \n",
              "\n",
              "      pixel453  pixel454  pixel455  pixel456  pixel457  pixel458  pixel459  \\\n",
              "5457         0         0         0         0         0         0        33   \n",
              "\n",
              "      pixel460  pixel461  pixel462  pixel463  pixel464  pixel465  pixel466  \\\n",
              "5457       197       253       253       253        99         0         0   \n",
              "\n",
              "      pixel467  pixel468  pixel469  pixel470  pixel471  pixel472  pixel473  \\\n",
              "5457         0         0         0         0         0         0         0   \n",
              "\n",
              "      pixel474  pixel475  pixel476  pixel477  pixel478  pixel479  pixel480  \\\n",
              "5457         0         0         0         0         0         0         0   \n",
              "\n",
              "      pixel481  pixel482  pixel483  pixel484  pixel485  pixel486  pixel487  \\\n",
              "5457         0         0         0         0         0        46       174   \n",
              "\n",
              "      pixel488  pixel489  pixel490  pixel491  pixel492  pixel493  pixel494  \\\n",
              "5457       253       253       253       179         3         0         0   \n",
              "\n",
              "      pixel495  pixel496  pixel497  pixel498  pixel499  pixel500  pixel501  \\\n",
              "5457         0         0         0         0         0         0         0   \n",
              "\n",
              "      pixel502  pixel503  pixel504  pixel505  pixel506  pixel507  pixel508  \\\n",
              "5457         0         0         0         0         0         0         0   \n",
              "\n",
              "      pixel509  pixel510  pixel511  pixel512  pixel513  pixel514  pixel515  \\\n",
              "5457         0         0         0         0        44       237       253   \n",
              "\n",
              "      pixel516  pixel517  pixel518  pixel519  pixel520  pixel521  pixel522  \\\n",
              "5457       233       128       205       161         0         0         0   \n",
              "\n",
              "      pixel523  pixel524  pixel525  pixel526  pixel527  pixel528  pixel529  \\\n",
              "5457         0         0         0         0         0         0         0   \n",
              "\n",
              "      pixel530  pixel531  pixel532  pixel533  pixel534  pixel535  pixel536  \\\n",
              "5457         0         0         0         0         0         0         0   \n",
              "\n",
              "      pixel537  pixel538  pixel539  pixel540  pixel541  pixel542  pixel543  \\\n",
              "5457         0         0         0         0       155       253       220   \n",
              "\n",
              "      pixel544  pixel545  pixel546  pixel547  pixel548  pixel549  pixel550  \\\n",
              "5457        19         0       162       185         4         0         0   \n",
              "\n",
              "      pixel551  pixel552  pixel553  pixel554  pixel555  pixel556  pixel557  \\\n",
              "5457         0         0         0         0         0         0         0   \n",
              "\n",
              "      pixel558  pixel559  pixel560  pixel561  pixel562  pixel563  pixel564  \\\n",
              "5457         0         0         0         0         0         0         0   \n",
              "\n",
              "      pixel565  pixel566  pixel567  pixel568  pixel569  pixel570  pixel571  \\\n",
              "5457         0         0         0         0       189       253       224   \n",
              "\n",
              "      pixel572  pixel573  pixel574  pixel575  pixel576  pixel577  pixel578  \\\n",
              "5457        68         0        73       253        60         0         0   \n",
              "\n",
              "      pixel579  pixel580  pixel581  pixel582  pixel583  pixel584  pixel585  \\\n",
              "5457         0         0         0         0         0         0         0   \n",
              "\n",
              "      pixel586  pixel587  pixel588  pixel589  pixel590  pixel591  pixel592  \\\n",
              "5457         0         0         0         0         0         0         0   \n",
              "\n",
              "      pixel593  pixel594  pixel595  pixel596  pixel597  pixel598  pixel599  \\\n",
              "5457         0         0         0         0       165       236       253   \n",
              "\n",
              "      pixel600  pixel601  pixel602  pixel603  pixel604  pixel605  pixel606  \\\n",
              "5457       252       242       211       253       124         0         0   \n",
              "\n",
              "      pixel607  pixel608  pixel609  pixel610  pixel611  pixel612  pixel613  \\\n",
              "5457         0         0         0         0         0         0         0   \n",
              "\n",
              "      pixel614  pixel615  pixel616  pixel617  pixel618  pixel619  pixel620  \\\n",
              "5457         0         0         0         0         0         0         0   \n",
              "\n",
              "      pixel621  pixel622  pixel623  pixel624  pixel625  pixel626  pixel627  \\\n",
              "5457         0         0         0         0         0        36       142   \n",
              "\n",
              "      pixel628  pixel629  pixel630  pixel631  pixel632  pixel633  pixel634  \\\n",
              "5457       207       253       253       253       124         0         0   \n",
              "\n",
              "      pixel635  pixel636  pixel637  pixel638  pixel639  pixel640  pixel641  \\\n",
              "5457         0         0         0         0         0         0         0   \n",
              "\n",
              "      pixel642  pixel643  pixel644  pixel645  pixel646  pixel647  pixel648  \\\n",
              "5457         0         0         0         0         0         0         0   \n",
              "\n",
              "      pixel649  pixel650  pixel651  pixel652  pixel653  pixel654  pixel655  \\\n",
              "5457         0         0         0         0         0         0         0   \n",
              "\n",
              "      pixel656  pixel657  pixel658  pixel659  pixel660  pixel661  pixel662  \\\n",
              "5457        13       136       214       168        25         0         0   \n",
              "\n",
              "      pixel663  pixel664  pixel665  pixel666  pixel667  pixel668  pixel669  \\\n",
              "5457         0         0         0         0         0         0         0   \n",
              "\n",
              "      pixel670  pixel671  pixel672  pixel673  pixel674  pixel675  pixel676  \\\n",
              "5457         0         0         0         0         0         0         0   \n",
              "\n",
              "      pixel677  pixel678  pixel679  pixel680  pixel681  pixel682  pixel683  \\\n",
              "5457         0         0         0         0         0         0         0   \n",
              "\n",
              "      pixel684  pixel685  pixel686  pixel687  pixel688  pixel689  pixel690  \\\n",
              "5457         0         0         0         0         0         0         0   \n",
              "\n",
              "      pixel691  pixel692  pixel693  pixel694  pixel695  pixel696  pixel697  \\\n",
              "5457         0         0         0         0         0         0         0   \n",
              "\n",
              "      pixel698  pixel699  pixel700  pixel701  pixel702  pixel703  pixel704  \\\n",
              "5457         0         0         0         0         0         0         0   \n",
              "\n",
              "      pixel705  pixel706  pixel707  pixel708  pixel709  pixel710  pixel711  \\\n",
              "5457         0         0         0         0         0         0         0   \n",
              "\n",
              "      pixel712  pixel713  pixel714  pixel715  pixel716  pixel717  pixel718  \\\n",
              "5457         0         0         0         0         0         0         0   \n",
              "\n",
              "      pixel719  pixel720  pixel721  pixel722  pixel723  pixel724  pixel725  \\\n",
              "5457         0         0         0         0         0         0         0   \n",
              "\n",
              "      pixel726  pixel727  pixel728  pixel729  pixel730  pixel731  pixel732  \\\n",
              "5457         0         0         0         0         0         0         0   \n",
              "\n",
              "      pixel733  pixel734  pixel735  pixel736  pixel737  pixel738  pixel739  \\\n",
              "5457         0         0         0         0         0         0         0   \n",
              "\n",
              "      pixel740  pixel741  pixel742  pixel743  pixel744  pixel745  pixel746  \\\n",
              "5457         0         0         0         0         0         0         0   \n",
              "\n",
              "      pixel747  pixel748  pixel749  pixel750  pixel751  pixel752  pixel753  \\\n",
              "5457         0         0         0         0         0         0         0   \n",
              "\n",
              "      pixel754  pixel755  pixel756  pixel757  pixel758  pixel759  pixel760  \\\n",
              "5457         0         0         0         0         0         0         0   \n",
              "\n",
              "      pixel761  pixel762  pixel763  pixel764  pixel765  pixel766  pixel767  \\\n",
              "5457         0         0         0         0         0         0         0   \n",
              "\n",
              "      pixel768  pixel769  pixel770  pixel771  pixel772  pixel773  pixel774  \\\n",
              "5457         0         0         0         0         0         0         0   \n",
              "\n",
              "      pixel775  pixel776  pixel777  pixel778  pixel779  pixel780  pixel781  \\\n",
              "5457         0         0         0         0         0         0         0   \n",
              "\n",
              "      pixel782  pixel783  \n",
              "5457         0         0  "
            ],
            "text/html": [
              "\n",
              "  <div id=\"df-09ae3aa8-1b06-4803-a30c-f8a6e60e10ef\">\n",
              "    <div class=\"colab-df-container\">\n",
              "      <div>\n",
              "<style scoped>\n",
              "    .dataframe tbody tr th:only-of-type {\n",
              "        vertical-align: middle;\n",
              "    }\n",
              "\n",
              "    .dataframe tbody tr th {\n",
              "        vertical-align: top;\n",
              "    }\n",
              "\n",
              "    .dataframe thead th {\n",
              "        text-align: right;\n",
              "    }\n",
              "</style>\n",
              "<table border=\"1\" class=\"dataframe\">\n",
              "  <thead>\n",
              "    <tr style=\"text-align: right;\">\n",
              "      <th></th>\n",
              "      <th>label</th>\n",
              "      <th>pixel0</th>\n",
              "      <th>pixel1</th>\n",
              "      <th>pixel2</th>\n",
              "      <th>pixel3</th>\n",
              "      <th>pixel4</th>\n",
              "      <th>pixel5</th>\n",
              "      <th>pixel6</th>\n",
              "      <th>pixel7</th>\n",
              "      <th>pixel8</th>\n",
              "      <th>pixel9</th>\n",
              "      <th>pixel10</th>\n",
              "      <th>pixel11</th>\n",
              "      <th>pixel12</th>\n",
              "      <th>pixel13</th>\n",
              "      <th>pixel14</th>\n",
              "      <th>pixel15</th>\n",
              "      <th>pixel16</th>\n",
              "      <th>pixel17</th>\n",
              "      <th>pixel18</th>\n",
              "      <th>pixel19</th>\n",
              "      <th>pixel20</th>\n",
              "      <th>pixel21</th>\n",
              "      <th>pixel22</th>\n",
              "      <th>pixel23</th>\n",
              "      <th>pixel24</th>\n",
              "      <th>pixel25</th>\n",
              "      <th>pixel26</th>\n",
              "      <th>pixel27</th>\n",
              "      <th>pixel28</th>\n",
              "      <th>pixel29</th>\n",
              "      <th>pixel30</th>\n",
              "      <th>pixel31</th>\n",
              "      <th>pixel32</th>\n",
              "      <th>pixel33</th>\n",
              "      <th>pixel34</th>\n",
              "      <th>pixel35</th>\n",
              "      <th>pixel36</th>\n",
              "      <th>pixel37</th>\n",
              "      <th>pixel38</th>\n",
              "      <th>pixel39</th>\n",
              "      <th>pixel40</th>\n",
              "      <th>pixel41</th>\n",
              "      <th>pixel42</th>\n",
              "      <th>pixel43</th>\n",
              "      <th>pixel44</th>\n",
              "      <th>pixel45</th>\n",
              "      <th>pixel46</th>\n",
              "      <th>pixel47</th>\n",
              "      <th>pixel48</th>\n",
              "      <th>pixel49</th>\n",
              "      <th>pixel50</th>\n",
              "      <th>pixel51</th>\n",
              "      <th>pixel52</th>\n",
              "      <th>pixel53</th>\n",
              "      <th>pixel54</th>\n",
              "      <th>pixel55</th>\n",
              "      <th>pixel56</th>\n",
              "      <th>pixel57</th>\n",
              "      <th>pixel58</th>\n",
              "      <th>pixel59</th>\n",
              "      <th>pixel60</th>\n",
              "      <th>pixel61</th>\n",
              "      <th>pixel62</th>\n",
              "      <th>pixel63</th>\n",
              "      <th>pixel64</th>\n",
              "      <th>pixel65</th>\n",
              "      <th>pixel66</th>\n",
              "      <th>pixel67</th>\n",
              "      <th>pixel68</th>\n",
              "      <th>pixel69</th>\n",
              "      <th>pixel70</th>\n",
              "      <th>pixel71</th>\n",
              "      <th>pixel72</th>\n",
              "      <th>pixel73</th>\n",
              "      <th>pixel74</th>\n",
              "      <th>pixel75</th>\n",
              "      <th>pixel76</th>\n",
              "      <th>pixel77</th>\n",
              "      <th>pixel78</th>\n",
              "      <th>pixel79</th>\n",
              "      <th>pixel80</th>\n",
              "      <th>pixel81</th>\n",
              "      <th>pixel82</th>\n",
              "      <th>pixel83</th>\n",
              "      <th>pixel84</th>\n",
              "      <th>pixel85</th>\n",
              "      <th>pixel86</th>\n",
              "      <th>pixel87</th>\n",
              "      <th>pixel88</th>\n",
              "      <th>pixel89</th>\n",
              "      <th>pixel90</th>\n",
              "      <th>pixel91</th>\n",
              "      <th>pixel92</th>\n",
              "      <th>pixel93</th>\n",
              "      <th>pixel94</th>\n",
              "      <th>pixel95</th>\n",
              "      <th>pixel96</th>\n",
              "      <th>pixel97</th>\n",
              "      <th>pixel98</th>\n",
              "      <th>pixel99</th>\n",
              "      <th>pixel100</th>\n",
              "      <th>pixel101</th>\n",
              "      <th>pixel102</th>\n",
              "      <th>pixel103</th>\n",
              "      <th>pixel104</th>\n",
              "      <th>pixel105</th>\n",
              "      <th>pixel106</th>\n",
              "      <th>pixel107</th>\n",
              "      <th>pixel108</th>\n",
              "      <th>pixel109</th>\n",
              "      <th>pixel110</th>\n",
              "      <th>pixel111</th>\n",
              "      <th>pixel112</th>\n",
              "      <th>pixel113</th>\n",
              "      <th>pixel114</th>\n",
              "      <th>pixel115</th>\n",
              "      <th>pixel116</th>\n",
              "      <th>pixel117</th>\n",
              "      <th>pixel118</th>\n",
              "      <th>pixel119</th>\n",
              "      <th>pixel120</th>\n",
              "      <th>pixel121</th>\n",
              "      <th>pixel122</th>\n",
              "      <th>pixel123</th>\n",
              "      <th>pixel124</th>\n",
              "      <th>pixel125</th>\n",
              "      <th>pixel126</th>\n",
              "      <th>pixel127</th>\n",
              "      <th>pixel128</th>\n",
              "      <th>pixel129</th>\n",
              "      <th>pixel130</th>\n",
              "      <th>pixel131</th>\n",
              "      <th>pixel132</th>\n",
              "      <th>pixel133</th>\n",
              "      <th>pixel134</th>\n",
              "      <th>pixel135</th>\n",
              "      <th>pixel136</th>\n",
              "      <th>pixel137</th>\n",
              "      <th>pixel138</th>\n",
              "      <th>pixel139</th>\n",
              "      <th>pixel140</th>\n",
              "      <th>pixel141</th>\n",
              "      <th>pixel142</th>\n",
              "      <th>pixel143</th>\n",
              "      <th>pixel144</th>\n",
              "      <th>pixel145</th>\n",
              "      <th>pixel146</th>\n",
              "      <th>pixel147</th>\n",
              "      <th>pixel148</th>\n",
              "      <th>pixel149</th>\n",
              "      <th>pixel150</th>\n",
              "      <th>pixel151</th>\n",
              "      <th>pixel152</th>\n",
              "      <th>pixel153</th>\n",
              "      <th>pixel154</th>\n",
              "      <th>pixel155</th>\n",
              "      <th>pixel156</th>\n",
              "      <th>pixel157</th>\n",
              "      <th>pixel158</th>\n",
              "      <th>pixel159</th>\n",
              "      <th>pixel160</th>\n",
              "      <th>pixel161</th>\n",
              "      <th>pixel162</th>\n",
              "      <th>pixel163</th>\n",
              "      <th>pixel164</th>\n",
              "      <th>pixel165</th>\n",
              "      <th>pixel166</th>\n",
              "      <th>pixel167</th>\n",
              "      <th>pixel168</th>\n",
              "      <th>pixel169</th>\n",
              "      <th>pixel170</th>\n",
              "      <th>pixel171</th>\n",
              "      <th>pixel172</th>\n",
              "      <th>pixel173</th>\n",
              "      <th>pixel174</th>\n",
              "      <th>pixel175</th>\n",
              "      <th>pixel176</th>\n",
              "      <th>pixel177</th>\n",
              "      <th>pixel178</th>\n",
              "      <th>pixel179</th>\n",
              "      <th>pixel180</th>\n",
              "      <th>pixel181</th>\n",
              "      <th>pixel182</th>\n",
              "      <th>pixel183</th>\n",
              "      <th>pixel184</th>\n",
              "      <th>pixel185</th>\n",
              "      <th>pixel186</th>\n",
              "      <th>pixel187</th>\n",
              "      <th>pixel188</th>\n",
              "      <th>pixel189</th>\n",
              "      <th>pixel190</th>\n",
              "      <th>pixel191</th>\n",
              "      <th>pixel192</th>\n",
              "      <th>pixel193</th>\n",
              "      <th>pixel194</th>\n",
              "      <th>pixel195</th>\n",
              "      <th>pixel196</th>\n",
              "      <th>pixel197</th>\n",
              "      <th>pixel198</th>\n",
              "      <th>pixel199</th>\n",
              "      <th>pixel200</th>\n",
              "      <th>pixel201</th>\n",
              "      <th>pixel202</th>\n",
              "      <th>pixel203</th>\n",
              "      <th>pixel204</th>\n",
              "      <th>pixel205</th>\n",
              "      <th>pixel206</th>\n",
              "      <th>pixel207</th>\n",
              "      <th>pixel208</th>\n",
              "      <th>pixel209</th>\n",
              "      <th>pixel210</th>\n",
              "      <th>pixel211</th>\n",
              "      <th>pixel212</th>\n",
              "      <th>pixel213</th>\n",
              "      <th>pixel214</th>\n",
              "      <th>pixel215</th>\n",
              "      <th>pixel216</th>\n",
              "      <th>pixel217</th>\n",
              "      <th>pixel218</th>\n",
              "      <th>pixel219</th>\n",
              "      <th>pixel220</th>\n",
              "      <th>pixel221</th>\n",
              "      <th>pixel222</th>\n",
              "      <th>pixel223</th>\n",
              "      <th>pixel224</th>\n",
              "      <th>pixel225</th>\n",
              "      <th>pixel226</th>\n",
              "      <th>pixel227</th>\n",
              "      <th>pixel228</th>\n",
              "      <th>pixel229</th>\n",
              "      <th>pixel230</th>\n",
              "      <th>pixel231</th>\n",
              "      <th>pixel232</th>\n",
              "      <th>pixel233</th>\n",
              "      <th>pixel234</th>\n",
              "      <th>pixel235</th>\n",
              "      <th>pixel236</th>\n",
              "      <th>pixel237</th>\n",
              "      <th>pixel238</th>\n",
              "      <th>pixel239</th>\n",
              "      <th>pixel240</th>\n",
              "      <th>pixel241</th>\n",
              "      <th>pixel242</th>\n",
              "      <th>pixel243</th>\n",
              "      <th>pixel244</th>\n",
              "      <th>pixel245</th>\n",
              "      <th>pixel246</th>\n",
              "      <th>pixel247</th>\n",
              "      <th>pixel248</th>\n",
              "      <th>pixel249</th>\n",
              "      <th>pixel250</th>\n",
              "      <th>pixel251</th>\n",
              "      <th>pixel252</th>\n",
              "      <th>pixel253</th>\n",
              "      <th>pixel254</th>\n",
              "      <th>pixel255</th>\n",
              "      <th>pixel256</th>\n",
              "      <th>pixel257</th>\n",
              "      <th>pixel258</th>\n",
              "      <th>pixel259</th>\n",
              "      <th>pixel260</th>\n",
              "      <th>pixel261</th>\n",
              "      <th>pixel262</th>\n",
              "      <th>pixel263</th>\n",
              "      <th>pixel264</th>\n",
              "      <th>pixel265</th>\n",
              "      <th>pixel266</th>\n",
              "      <th>pixel267</th>\n",
              "      <th>pixel268</th>\n",
              "      <th>pixel269</th>\n",
              "      <th>pixel270</th>\n",
              "      <th>pixel271</th>\n",
              "      <th>pixel272</th>\n",
              "      <th>pixel273</th>\n",
              "      <th>pixel274</th>\n",
              "      <th>pixel275</th>\n",
              "      <th>pixel276</th>\n",
              "      <th>pixel277</th>\n",
              "      <th>pixel278</th>\n",
              "      <th>pixel279</th>\n",
              "      <th>pixel280</th>\n",
              "      <th>pixel281</th>\n",
              "      <th>pixel282</th>\n",
              "      <th>pixel283</th>\n",
              "      <th>pixel284</th>\n",
              "      <th>pixel285</th>\n",
              "      <th>pixel286</th>\n",
              "      <th>pixel287</th>\n",
              "      <th>pixel288</th>\n",
              "      <th>pixel289</th>\n",
              "      <th>pixel290</th>\n",
              "      <th>pixel291</th>\n",
              "      <th>pixel292</th>\n",
              "      <th>pixel293</th>\n",
              "      <th>pixel294</th>\n",
              "      <th>pixel295</th>\n",
              "      <th>pixel296</th>\n",
              "      <th>pixel297</th>\n",
              "      <th>pixel298</th>\n",
              "      <th>pixel299</th>\n",
              "      <th>pixel300</th>\n",
              "      <th>pixel301</th>\n",
              "      <th>pixel302</th>\n",
              "      <th>pixel303</th>\n",
              "      <th>pixel304</th>\n",
              "      <th>pixel305</th>\n",
              "      <th>pixel306</th>\n",
              "      <th>pixel307</th>\n",
              "      <th>pixel308</th>\n",
              "      <th>pixel309</th>\n",
              "      <th>pixel310</th>\n",
              "      <th>pixel311</th>\n",
              "      <th>pixel312</th>\n",
              "      <th>pixel313</th>\n",
              "      <th>pixel314</th>\n",
              "      <th>pixel315</th>\n",
              "      <th>pixel316</th>\n",
              "      <th>pixel317</th>\n",
              "      <th>pixel318</th>\n",
              "      <th>pixel319</th>\n",
              "      <th>pixel320</th>\n",
              "      <th>pixel321</th>\n",
              "      <th>pixel322</th>\n",
              "      <th>pixel323</th>\n",
              "      <th>pixel324</th>\n",
              "      <th>pixel325</th>\n",
              "      <th>pixel326</th>\n",
              "      <th>pixel327</th>\n",
              "      <th>pixel328</th>\n",
              "      <th>pixel329</th>\n",
              "      <th>pixel330</th>\n",
              "      <th>pixel331</th>\n",
              "      <th>pixel332</th>\n",
              "      <th>pixel333</th>\n",
              "      <th>pixel334</th>\n",
              "      <th>pixel335</th>\n",
              "      <th>pixel336</th>\n",
              "      <th>pixel337</th>\n",
              "      <th>pixel338</th>\n",
              "      <th>pixel339</th>\n",
              "      <th>pixel340</th>\n",
              "      <th>pixel341</th>\n",
              "      <th>pixel342</th>\n",
              "      <th>pixel343</th>\n",
              "      <th>pixel344</th>\n",
              "      <th>pixel345</th>\n",
              "      <th>pixel346</th>\n",
              "      <th>pixel347</th>\n",
              "      <th>pixel348</th>\n",
              "      <th>pixel349</th>\n",
              "      <th>pixel350</th>\n",
              "      <th>pixel351</th>\n",
              "      <th>pixel352</th>\n",
              "      <th>pixel353</th>\n",
              "      <th>pixel354</th>\n",
              "      <th>pixel355</th>\n",
              "      <th>pixel356</th>\n",
              "      <th>pixel357</th>\n",
              "      <th>pixel358</th>\n",
              "      <th>pixel359</th>\n",
              "      <th>pixel360</th>\n",
              "      <th>pixel361</th>\n",
              "      <th>pixel362</th>\n",
              "      <th>pixel363</th>\n",
              "      <th>pixel364</th>\n",
              "      <th>pixel365</th>\n",
              "      <th>pixel366</th>\n",
              "      <th>pixel367</th>\n",
              "      <th>pixel368</th>\n",
              "      <th>pixel369</th>\n",
              "      <th>pixel370</th>\n",
              "      <th>pixel371</th>\n",
              "      <th>pixel372</th>\n",
              "      <th>pixel373</th>\n",
              "      <th>pixel374</th>\n",
              "      <th>pixel375</th>\n",
              "      <th>pixel376</th>\n",
              "      <th>pixel377</th>\n",
              "      <th>pixel378</th>\n",
              "      <th>pixel379</th>\n",
              "      <th>pixel380</th>\n",
              "      <th>pixel381</th>\n",
              "      <th>pixel382</th>\n",
              "      <th>pixel383</th>\n",
              "      <th>pixel384</th>\n",
              "      <th>pixel385</th>\n",
              "      <th>pixel386</th>\n",
              "      <th>pixel387</th>\n",
              "      <th>pixel388</th>\n",
              "      <th>pixel389</th>\n",
              "      <th>pixel390</th>\n",
              "      <th>pixel391</th>\n",
              "      <th>pixel392</th>\n",
              "      <th>pixel393</th>\n",
              "      <th>pixel394</th>\n",
              "      <th>pixel395</th>\n",
              "      <th>pixel396</th>\n",
              "      <th>pixel397</th>\n",
              "      <th>pixel398</th>\n",
              "      <th>pixel399</th>\n",
              "      <th>pixel400</th>\n",
              "      <th>pixel401</th>\n",
              "      <th>pixel402</th>\n",
              "      <th>pixel403</th>\n",
              "      <th>pixel404</th>\n",
              "      <th>pixel405</th>\n",
              "      <th>pixel406</th>\n",
              "      <th>pixel407</th>\n",
              "      <th>pixel408</th>\n",
              "      <th>pixel409</th>\n",
              "      <th>pixel410</th>\n",
              "      <th>pixel411</th>\n",
              "      <th>pixel412</th>\n",
              "      <th>pixel413</th>\n",
              "      <th>pixel414</th>\n",
              "      <th>pixel415</th>\n",
              "      <th>pixel416</th>\n",
              "      <th>pixel417</th>\n",
              "      <th>pixel418</th>\n",
              "      <th>pixel419</th>\n",
              "      <th>pixel420</th>\n",
              "      <th>pixel421</th>\n",
              "      <th>pixel422</th>\n",
              "      <th>pixel423</th>\n",
              "      <th>pixel424</th>\n",
              "      <th>pixel425</th>\n",
              "      <th>pixel426</th>\n",
              "      <th>pixel427</th>\n",
              "      <th>pixel428</th>\n",
              "      <th>pixel429</th>\n",
              "      <th>pixel430</th>\n",
              "      <th>pixel431</th>\n",
              "      <th>pixel432</th>\n",
              "      <th>pixel433</th>\n",
              "      <th>pixel434</th>\n",
              "      <th>pixel435</th>\n",
              "      <th>pixel436</th>\n",
              "      <th>pixel437</th>\n",
              "      <th>pixel438</th>\n",
              "      <th>pixel439</th>\n",
              "      <th>pixel440</th>\n",
              "      <th>pixel441</th>\n",
              "      <th>pixel442</th>\n",
              "      <th>pixel443</th>\n",
              "      <th>pixel444</th>\n",
              "      <th>pixel445</th>\n",
              "      <th>pixel446</th>\n",
              "      <th>pixel447</th>\n",
              "      <th>pixel448</th>\n",
              "      <th>pixel449</th>\n",
              "      <th>pixel450</th>\n",
              "      <th>pixel451</th>\n",
              "      <th>pixel452</th>\n",
              "      <th>pixel453</th>\n",
              "      <th>pixel454</th>\n",
              "      <th>pixel455</th>\n",
              "      <th>pixel456</th>\n",
              "      <th>pixel457</th>\n",
              "      <th>pixel458</th>\n",
              "      <th>pixel459</th>\n",
              "      <th>pixel460</th>\n",
              "      <th>pixel461</th>\n",
              "      <th>pixel462</th>\n",
              "      <th>pixel463</th>\n",
              "      <th>pixel464</th>\n",
              "      <th>pixel465</th>\n",
              "      <th>pixel466</th>\n",
              "      <th>pixel467</th>\n",
              "      <th>pixel468</th>\n",
              "      <th>pixel469</th>\n",
              "      <th>pixel470</th>\n",
              "      <th>pixel471</th>\n",
              "      <th>pixel472</th>\n",
              "      <th>pixel473</th>\n",
              "      <th>pixel474</th>\n",
              "      <th>pixel475</th>\n",
              "      <th>pixel476</th>\n",
              "      <th>pixel477</th>\n",
              "      <th>pixel478</th>\n",
              "      <th>pixel479</th>\n",
              "      <th>pixel480</th>\n",
              "      <th>pixel481</th>\n",
              "      <th>pixel482</th>\n",
              "      <th>pixel483</th>\n",
              "      <th>pixel484</th>\n",
              "      <th>pixel485</th>\n",
              "      <th>pixel486</th>\n",
              "      <th>pixel487</th>\n",
              "      <th>pixel488</th>\n",
              "      <th>pixel489</th>\n",
              "      <th>pixel490</th>\n",
              "      <th>pixel491</th>\n",
              "      <th>pixel492</th>\n",
              "      <th>pixel493</th>\n",
              "      <th>pixel494</th>\n",
              "      <th>pixel495</th>\n",
              "      <th>pixel496</th>\n",
              "      <th>pixel497</th>\n",
              "      <th>pixel498</th>\n",
              "      <th>pixel499</th>\n",
              "      <th>pixel500</th>\n",
              "      <th>pixel501</th>\n",
              "      <th>pixel502</th>\n",
              "      <th>pixel503</th>\n",
              "      <th>pixel504</th>\n",
              "      <th>pixel505</th>\n",
              "      <th>pixel506</th>\n",
              "      <th>pixel507</th>\n",
              "      <th>pixel508</th>\n",
              "      <th>pixel509</th>\n",
              "      <th>pixel510</th>\n",
              "      <th>pixel511</th>\n",
              "      <th>pixel512</th>\n",
              "      <th>pixel513</th>\n",
              "      <th>pixel514</th>\n",
              "      <th>pixel515</th>\n",
              "      <th>pixel516</th>\n",
              "      <th>pixel517</th>\n",
              "      <th>pixel518</th>\n",
              "      <th>pixel519</th>\n",
              "      <th>pixel520</th>\n",
              "      <th>pixel521</th>\n",
              "      <th>pixel522</th>\n",
              "      <th>pixel523</th>\n",
              "      <th>pixel524</th>\n",
              "      <th>pixel525</th>\n",
              "      <th>pixel526</th>\n",
              "      <th>pixel527</th>\n",
              "      <th>pixel528</th>\n",
              "      <th>pixel529</th>\n",
              "      <th>pixel530</th>\n",
              "      <th>pixel531</th>\n",
              "      <th>pixel532</th>\n",
              "      <th>pixel533</th>\n",
              "      <th>pixel534</th>\n",
              "      <th>pixel535</th>\n",
              "      <th>pixel536</th>\n",
              "      <th>pixel537</th>\n",
              "      <th>pixel538</th>\n",
              "      <th>pixel539</th>\n",
              "      <th>pixel540</th>\n",
              "      <th>pixel541</th>\n",
              "      <th>pixel542</th>\n",
              "      <th>pixel543</th>\n",
              "      <th>pixel544</th>\n",
              "      <th>pixel545</th>\n",
              "      <th>pixel546</th>\n",
              "      <th>pixel547</th>\n",
              "      <th>pixel548</th>\n",
              "      <th>pixel549</th>\n",
              "      <th>pixel550</th>\n",
              "      <th>pixel551</th>\n",
              "      <th>pixel552</th>\n",
              "      <th>pixel553</th>\n",
              "      <th>pixel554</th>\n",
              "      <th>pixel555</th>\n",
              "      <th>pixel556</th>\n",
              "      <th>pixel557</th>\n",
              "      <th>pixel558</th>\n",
              "      <th>pixel559</th>\n",
              "      <th>pixel560</th>\n",
              "      <th>pixel561</th>\n",
              "      <th>pixel562</th>\n",
              "      <th>pixel563</th>\n",
              "      <th>pixel564</th>\n",
              "      <th>pixel565</th>\n",
              "      <th>pixel566</th>\n",
              "      <th>pixel567</th>\n",
              "      <th>pixel568</th>\n",
              "      <th>pixel569</th>\n",
              "      <th>pixel570</th>\n",
              "      <th>pixel571</th>\n",
              "      <th>pixel572</th>\n",
              "      <th>pixel573</th>\n",
              "      <th>pixel574</th>\n",
              "      <th>pixel575</th>\n",
              "      <th>pixel576</th>\n",
              "      <th>pixel577</th>\n",
              "      <th>pixel578</th>\n",
              "      <th>pixel579</th>\n",
              "      <th>pixel580</th>\n",
              "      <th>pixel581</th>\n",
              "      <th>pixel582</th>\n",
              "      <th>pixel583</th>\n",
              "      <th>pixel584</th>\n",
              "      <th>pixel585</th>\n",
              "      <th>pixel586</th>\n",
              "      <th>pixel587</th>\n",
              "      <th>pixel588</th>\n",
              "      <th>pixel589</th>\n",
              "      <th>pixel590</th>\n",
              "      <th>pixel591</th>\n",
              "      <th>pixel592</th>\n",
              "      <th>pixel593</th>\n",
              "      <th>pixel594</th>\n",
              "      <th>pixel595</th>\n",
              "      <th>pixel596</th>\n",
              "      <th>pixel597</th>\n",
              "      <th>pixel598</th>\n",
              "      <th>pixel599</th>\n",
              "      <th>pixel600</th>\n",
              "      <th>pixel601</th>\n",
              "      <th>pixel602</th>\n",
              "      <th>pixel603</th>\n",
              "      <th>pixel604</th>\n",
              "      <th>pixel605</th>\n",
              "      <th>pixel606</th>\n",
              "      <th>pixel607</th>\n",
              "      <th>pixel608</th>\n",
              "      <th>pixel609</th>\n",
              "      <th>pixel610</th>\n",
              "      <th>pixel611</th>\n",
              "      <th>pixel612</th>\n",
              "      <th>pixel613</th>\n",
              "      <th>pixel614</th>\n",
              "      <th>pixel615</th>\n",
              "      <th>pixel616</th>\n",
              "      <th>pixel617</th>\n",
              "      <th>pixel618</th>\n",
              "      <th>pixel619</th>\n",
              "      <th>pixel620</th>\n",
              "      <th>pixel621</th>\n",
              "      <th>pixel622</th>\n",
              "      <th>pixel623</th>\n",
              "      <th>pixel624</th>\n",
              "      <th>pixel625</th>\n",
              "      <th>pixel626</th>\n",
              "      <th>pixel627</th>\n",
              "      <th>pixel628</th>\n",
              "      <th>pixel629</th>\n",
              "      <th>pixel630</th>\n",
              "      <th>pixel631</th>\n",
              "      <th>pixel632</th>\n",
              "      <th>pixel633</th>\n",
              "      <th>pixel634</th>\n",
              "      <th>pixel635</th>\n",
              "      <th>pixel636</th>\n",
              "      <th>pixel637</th>\n",
              "      <th>pixel638</th>\n",
              "      <th>pixel639</th>\n",
              "      <th>pixel640</th>\n",
              "      <th>pixel641</th>\n",
              "      <th>pixel642</th>\n",
              "      <th>pixel643</th>\n",
              "      <th>pixel644</th>\n",
              "      <th>pixel645</th>\n",
              "      <th>pixel646</th>\n",
              "      <th>pixel647</th>\n",
              "      <th>pixel648</th>\n",
              "      <th>pixel649</th>\n",
              "      <th>pixel650</th>\n",
              "      <th>pixel651</th>\n",
              "      <th>pixel652</th>\n",
              "      <th>pixel653</th>\n",
              "      <th>pixel654</th>\n",
              "      <th>pixel655</th>\n",
              "      <th>pixel656</th>\n",
              "      <th>pixel657</th>\n",
              "      <th>pixel658</th>\n",
              "      <th>pixel659</th>\n",
              "      <th>pixel660</th>\n",
              "      <th>pixel661</th>\n",
              "      <th>pixel662</th>\n",
              "      <th>pixel663</th>\n",
              "      <th>pixel664</th>\n",
              "      <th>pixel665</th>\n",
              "      <th>pixel666</th>\n",
              "      <th>pixel667</th>\n",
              "      <th>pixel668</th>\n",
              "      <th>pixel669</th>\n",
              "      <th>pixel670</th>\n",
              "      <th>pixel671</th>\n",
              "      <th>pixel672</th>\n",
              "      <th>pixel673</th>\n",
              "      <th>pixel674</th>\n",
              "      <th>pixel675</th>\n",
              "      <th>pixel676</th>\n",
              "      <th>pixel677</th>\n",
              "      <th>pixel678</th>\n",
              "      <th>pixel679</th>\n",
              "      <th>pixel680</th>\n",
              "      <th>pixel681</th>\n",
              "      <th>pixel682</th>\n",
              "      <th>pixel683</th>\n",
              "      <th>pixel684</th>\n",
              "      <th>pixel685</th>\n",
              "      <th>pixel686</th>\n",
              "      <th>pixel687</th>\n",
              "      <th>pixel688</th>\n",
              "      <th>pixel689</th>\n",
              "      <th>pixel690</th>\n",
              "      <th>pixel691</th>\n",
              "      <th>pixel692</th>\n",
              "      <th>pixel693</th>\n",
              "      <th>pixel694</th>\n",
              "      <th>pixel695</th>\n",
              "      <th>pixel696</th>\n",
              "      <th>pixel697</th>\n",
              "      <th>pixel698</th>\n",
              "      <th>pixel699</th>\n",
              "      <th>pixel700</th>\n",
              "      <th>pixel701</th>\n",
              "      <th>pixel702</th>\n",
              "      <th>pixel703</th>\n",
              "      <th>pixel704</th>\n",
              "      <th>pixel705</th>\n",
              "      <th>pixel706</th>\n",
              "      <th>pixel707</th>\n",
              "      <th>pixel708</th>\n",
              "      <th>pixel709</th>\n",
              "      <th>pixel710</th>\n",
              "      <th>pixel711</th>\n",
              "      <th>pixel712</th>\n",
              "      <th>pixel713</th>\n",
              "      <th>pixel714</th>\n",
              "      <th>pixel715</th>\n",
              "      <th>pixel716</th>\n",
              "      <th>pixel717</th>\n",
              "      <th>pixel718</th>\n",
              "      <th>pixel719</th>\n",
              "      <th>pixel720</th>\n",
              "      <th>pixel721</th>\n",
              "      <th>pixel722</th>\n",
              "      <th>pixel723</th>\n",
              "      <th>pixel724</th>\n",
              "      <th>pixel725</th>\n",
              "      <th>pixel726</th>\n",
              "      <th>pixel727</th>\n",
              "      <th>pixel728</th>\n",
              "      <th>pixel729</th>\n",
              "      <th>pixel730</th>\n",
              "      <th>pixel731</th>\n",
              "      <th>pixel732</th>\n",
              "      <th>pixel733</th>\n",
              "      <th>pixel734</th>\n",
              "      <th>pixel735</th>\n",
              "      <th>pixel736</th>\n",
              "      <th>pixel737</th>\n",
              "      <th>pixel738</th>\n",
              "      <th>pixel739</th>\n",
              "      <th>pixel740</th>\n",
              "      <th>pixel741</th>\n",
              "      <th>pixel742</th>\n",
              "      <th>pixel743</th>\n",
              "      <th>pixel744</th>\n",
              "      <th>pixel745</th>\n",
              "      <th>pixel746</th>\n",
              "      <th>pixel747</th>\n",
              "      <th>pixel748</th>\n",
              "      <th>pixel749</th>\n",
              "      <th>pixel750</th>\n",
              "      <th>pixel751</th>\n",
              "      <th>pixel752</th>\n",
              "      <th>pixel753</th>\n",
              "      <th>pixel754</th>\n",
              "      <th>pixel755</th>\n",
              "      <th>pixel756</th>\n",
              "      <th>pixel757</th>\n",
              "      <th>pixel758</th>\n",
              "      <th>pixel759</th>\n",
              "      <th>pixel760</th>\n",
              "      <th>pixel761</th>\n",
              "      <th>pixel762</th>\n",
              "      <th>pixel763</th>\n",
              "      <th>pixel764</th>\n",
              "      <th>pixel765</th>\n",
              "      <th>pixel766</th>\n",
              "      <th>pixel767</th>\n",
              "      <th>pixel768</th>\n",
              "      <th>pixel769</th>\n",
              "      <th>pixel770</th>\n",
              "      <th>pixel771</th>\n",
              "      <th>pixel772</th>\n",
              "      <th>pixel773</th>\n",
              "      <th>pixel774</th>\n",
              "      <th>pixel775</th>\n",
              "      <th>pixel776</th>\n",
              "      <th>pixel777</th>\n",
              "      <th>pixel778</th>\n",
              "      <th>pixel779</th>\n",
              "      <th>pixel780</th>\n",
              "      <th>pixel781</th>\n",
              "      <th>pixel782</th>\n",
              "      <th>pixel783</th>\n",
              "    </tr>\n",
              "  </thead>\n",
              "  <tbody>\n",
              "    <tr>\n",
              "      <th>5457</th>\n",
              "      <td>8</td>\n",
              "      <td>0</td>\n",
              "      <td>0</td>\n",
              "      <td>0</td>\n",
              "      <td>0</td>\n",
              "      <td>0</td>\n",
              "      <td>0</td>\n",
              "      <td>0</td>\n",
              "      <td>0</td>\n",
              "      <td>0</td>\n",
              "      <td>0</td>\n",
              "      <td>0</td>\n",
              "      <td>0</td>\n",
              "      <td>0</td>\n",
              "      <td>0</td>\n",
              "      <td>0</td>\n",
              "      <td>0</td>\n",
              "      <td>0</td>\n",
              "      <td>0</td>\n",
              "      <td>0</td>\n",
              "      <td>0</td>\n",
              "      <td>0</td>\n",
              "      <td>0</td>\n",
              "      <td>0</td>\n",
              "      <td>0</td>\n",
              "      <td>0</td>\n",
              "      <td>0</td>\n",
              "      <td>0</td>\n",
              "      <td>0</td>\n",
              "      <td>0</td>\n",
              "      <td>0</td>\n",
              "      <td>0</td>\n",
              "      <td>0</td>\n",
              "      <td>0</td>\n",
              "      <td>0</td>\n",
              "      <td>0</td>\n",
              "      <td>0</td>\n",
              "      <td>0</td>\n",
              "      <td>0</td>\n",
              "      <td>0</td>\n",
              "      <td>0</td>\n",
              "      <td>0</td>\n",
              "      <td>0</td>\n",
              "      <td>0</td>\n",
              "      <td>0</td>\n",
              "      <td>0</td>\n",
              "      <td>0</td>\n",
              "      <td>0</td>\n",
              "      <td>0</td>\n",
              "      <td>0</td>\n",
              "      <td>0</td>\n",
              "      <td>0</td>\n",
              "      <td>0</td>\n",
              "      <td>0</td>\n",
              "      <td>0</td>\n",
              "      <td>0</td>\n",
              "      <td>0</td>\n",
              "      <td>0</td>\n",
              "      <td>0</td>\n",
              "      <td>0</td>\n",
              "      <td>0</td>\n",
              "      <td>0</td>\n",
              "      <td>0</td>\n",
              "      <td>0</td>\n",
              "      <td>0</td>\n",
              "      <td>0</td>\n",
              "      <td>0</td>\n",
              "      <td>0</td>\n",
              "      <td>0</td>\n",
              "      <td>0</td>\n",
              "      <td>0</td>\n",
              "      <td>0</td>\n",
              "      <td>0</td>\n",
              "      <td>0</td>\n",
              "      <td>0</td>\n",
              "      <td>0</td>\n",
              "      <td>0</td>\n",
              "      <td>0</td>\n",
              "      <td>0</td>\n",
              "      <td>0</td>\n",
              "      <td>0</td>\n",
              "      <td>0</td>\n",
              "      <td>0</td>\n",
              "      <td>0</td>\n",
              "      <td>0</td>\n",
              "      <td>0</td>\n",
              "      <td>0</td>\n",
              "      <td>0</td>\n",
              "      <td>0</td>\n",
              "      <td>0</td>\n",
              "      <td>0</td>\n",
              "      <td>0</td>\n",
              "      <td>0</td>\n",
              "      <td>0</td>\n",
              "      <td>0</td>\n",
              "      <td>0</td>\n",
              "      <td>0</td>\n",
              "      <td>0</td>\n",
              "      <td>0</td>\n",
              "      <td>0</td>\n",
              "      <td>0</td>\n",
              "      <td>0</td>\n",
              "      <td>0</td>\n",
              "      <td>0</td>\n",
              "      <td>0</td>\n",
              "      <td>0</td>\n",
              "      <td>0</td>\n",
              "      <td>0</td>\n",
              "      <td>0</td>\n",
              "      <td>0</td>\n",
              "      <td>0</td>\n",
              "      <td>0</td>\n",
              "      <td>0</td>\n",
              "      <td>0</td>\n",
              "      <td>0</td>\n",
              "      <td>0</td>\n",
              "      <td>0</td>\n",
              "      <td>0</td>\n",
              "      <td>0</td>\n",
              "      <td>0</td>\n",
              "      <td>0</td>\n",
              "      <td>0</td>\n",
              "      <td>0</td>\n",
              "      <td>0</td>\n",
              "      <td>0</td>\n",
              "      <td>0</td>\n",
              "      <td>3</td>\n",
              "      <td>62</td>\n",
              "      <td>185</td>\n",
              "      <td>255</td>\n",
              "      <td>229</td>\n",
              "      <td>28</td>\n",
              "      <td>0</td>\n",
              "      <td>0</td>\n",
              "      <td>0</td>\n",
              "      <td>0</td>\n",
              "      <td>0</td>\n",
              "      <td>0</td>\n",
              "      <td>0</td>\n",
              "      <td>0</td>\n",
              "      <td>0</td>\n",
              "      <td>0</td>\n",
              "      <td>0</td>\n",
              "      <td>0</td>\n",
              "      <td>0</td>\n",
              "      <td>0</td>\n",
              "      <td>0</td>\n",
              "      <td>0</td>\n",
              "      <td>0</td>\n",
              "      <td>0</td>\n",
              "      <td>0</td>\n",
              "      <td>0</td>\n",
              "      <td>0</td>\n",
              "      <td>0</td>\n",
              "      <td>173</td>\n",
              "      <td>253</td>\n",
              "      <td>253</td>\n",
              "      <td>253</td>\n",
              "      <td>253</td>\n",
              "      <td>81</td>\n",
              "      <td>0</td>\n",
              "      <td>0</td>\n",
              "      <td>0</td>\n",
              "      <td>0</td>\n",
              "      <td>0</td>\n",
              "      <td>0</td>\n",
              "      <td>0</td>\n",
              "      <td>0</td>\n",
              "      <td>0</td>\n",
              "      <td>0</td>\n",
              "      <td>0</td>\n",
              "      <td>0</td>\n",
              "      <td>0</td>\n",
              "      <td>0</td>\n",
              "      <td>0</td>\n",
              "      <td>0</td>\n",
              "      <td>0</td>\n",
              "      <td>0</td>\n",
              "      <td>0</td>\n",
              "      <td>0</td>\n",
              "      <td>2</td>\n",
              "      <td>126</td>\n",
              "      <td>251</td>\n",
              "      <td>178</td>\n",
              "      <td>55</td>\n",
              "      <td>51</td>\n",
              "      <td>253</td>\n",
              "      <td>156</td>\n",
              "      <td>0</td>\n",
              "      <td>0</td>\n",
              "      <td>0</td>\n",
              "      <td>0</td>\n",
              "      <td>0</td>\n",
              "      <td>0</td>\n",
              "      <td>0</td>\n",
              "      <td>0</td>\n",
              "      <td>0</td>\n",
              "      <td>0</td>\n",
              "      <td>0</td>\n",
              "      <td>0</td>\n",
              "      <td>0</td>\n",
              "      <td>0</td>\n",
              "      <td>0</td>\n",
              "      <td>0</td>\n",
              "      <td>0</td>\n",
              "      <td>0</td>\n",
              "      <td>0</td>\n",
              "      <td>0</td>\n",
              "      <td>68</td>\n",
              "      <td>253</td>\n",
              "      <td>154</td>\n",
              "      <td>0</td>\n",
              "      <td>0</td>\n",
              "      <td>13</td>\n",
              "      <td>217</td>\n",
              "      <td>156</td>\n",
              "      <td>0</td>\n",
              "      <td>0</td>\n",
              "      <td>0</td>\n",
              "      <td>0</td>\n",
              "      <td>0</td>\n",
              "      <td>0</td>\n",
              "      <td>0</td>\n",
              "      <td>0</td>\n",
              "      <td>0</td>\n",
              "      <td>0</td>\n",
              "      <td>0</td>\n",
              "      <td>0</td>\n",
              "      <td>0</td>\n",
              "      <td>0</td>\n",
              "      <td>0</td>\n",
              "      <td>0</td>\n",
              "      <td>0</td>\n",
              "      <td>0</td>\n",
              "      <td>0</td>\n",
              "      <td>9</td>\n",
              "      <td>229</td>\n",
              "      <td>188</td>\n",
              "      <td>6</td>\n",
              "      <td>0</td>\n",
              "      <td>0</td>\n",
              "      <td>22</td>\n",
              "      <td>253</td>\n",
              "      <td>156</td>\n",
              "      <td>0</td>\n",
              "      <td>0</td>\n",
              "      <td>0</td>\n",
              "      <td>0</td>\n",
              "      <td>0</td>\n",
              "      <td>0</td>\n",
              "      <td>0</td>\n",
              "      <td>0</td>\n",
              "      <td>0</td>\n",
              "      <td>0</td>\n",
              "      <td>0</td>\n",
              "      <td>0</td>\n",
              "      <td>0</td>\n",
              "      <td>0</td>\n",
              "      <td>0</td>\n",
              "      <td>0</td>\n",
              "      <td>0</td>\n",
              "      <td>0</td>\n",
              "      <td>0</td>\n",
              "      <td>11</td>\n",
              "      <td>253</td>\n",
              "      <td>167</td>\n",
              "      <td>0</td>\n",
              "      <td>0</td>\n",
              "      <td>0</td>\n",
              "      <td>22</td>\n",
              "      <td>253</td>\n",
              "      <td>160</td>\n",
              "      <td>11</td>\n",
              "      <td>9</td>\n",
              "      <td>0</td>\n",
              "      <td>0</td>\n",
              "      <td>0</td>\n",
              "      <td>0</td>\n",
              "      <td>0</td>\n",
              "      <td>0</td>\n",
              "      <td>0</td>\n",
              "      <td>0</td>\n",
              "      <td>0</td>\n",
              "      <td>0</td>\n",
              "      <td>0</td>\n",
              "      <td>0</td>\n",
              "      <td>0</td>\n",
              "      <td>0</td>\n",
              "      <td>0</td>\n",
              "      <td>0</td>\n",
              "      <td>0</td>\n",
              "      <td>9</td>\n",
              "      <td>235</td>\n",
              "      <td>167</td>\n",
              "      <td>0</td>\n",
              "      <td>0</td>\n",
              "      <td>0</td>\n",
              "      <td>22</td>\n",
              "      <td>253</td>\n",
              "      <td>253</td>\n",
              "      <td>253</td>\n",
              "      <td>188</td>\n",
              "      <td>0</td>\n",
              "      <td>0</td>\n",
              "      <td>0</td>\n",
              "      <td>0</td>\n",
              "      <td>0</td>\n",
              "      <td>0</td>\n",
              "      <td>0</td>\n",
              "      <td>0</td>\n",
              "      <td>0</td>\n",
              "      <td>0</td>\n",
              "      <td>0</td>\n",
              "      <td>0</td>\n",
              "      <td>0</td>\n",
              "      <td>0</td>\n",
              "      <td>0</td>\n",
              "      <td>0</td>\n",
              "      <td>0</td>\n",
              "      <td>0</td>\n",
              "      <td>157</td>\n",
              "      <td>233</td>\n",
              "      <td>16</td>\n",
              "      <td>0</td>\n",
              "      <td>0</td>\n",
              "      <td>59</td>\n",
              "      <td>253</td>\n",
              "      <td>253</td>\n",
              "      <td>244</td>\n",
              "      <td>78</td>\n",
              "      <td>0</td>\n",
              "      <td>0</td>\n",
              "      <td>0</td>\n",
              "      <td>0</td>\n",
              "      <td>0</td>\n",
              "      <td>0</td>\n",
              "      <td>0</td>\n",
              "      <td>0</td>\n",
              "      <td>0</td>\n",
              "      <td>0</td>\n",
              "      <td>0</td>\n",
              "      <td>0</td>\n",
              "      <td>0</td>\n",
              "      <td>0</td>\n",
              "      <td>0</td>\n",
              "      <td>0</td>\n",
              "      <td>0</td>\n",
              "      <td>0</td>\n",
              "      <td>105</td>\n",
              "      <td>253</td>\n",
              "      <td>21</td>\n",
              "      <td>0</td>\n",
              "      <td>6</td>\n",
              "      <td>184</td>\n",
              "      <td>253</td>\n",
              "      <td>247</td>\n",
              "      <td>74</td>\n",
              "      <td>0</td>\n",
              "      <td>0</td>\n",
              "      <td>0</td>\n",
              "      <td>0</td>\n",
              "      <td>0</td>\n",
              "      <td>0</td>\n",
              "      <td>0</td>\n",
              "      <td>0</td>\n",
              "      <td>0</td>\n",
              "      <td>0</td>\n",
              "      <td>0</td>\n",
              "      <td>0</td>\n",
              "      <td>0</td>\n",
              "      <td>0</td>\n",
              "      <td>0</td>\n",
              "      <td>0</td>\n",
              "      <td>0</td>\n",
              "      <td>0</td>\n",
              "      <td>0</td>\n",
              "      <td>49</td>\n",
              "      <td>253</td>\n",
              "      <td>114</td>\n",
              "      <td>0</td>\n",
              "      <td>116</td>\n",
              "      <td>253</td>\n",
              "      <td>253</td>\n",
              "      <td>87</td>\n",
              "      <td>0</td>\n",
              "      <td>0</td>\n",
              "      <td>0</td>\n",
              "      <td>0</td>\n",
              "      <td>0</td>\n",
              "      <td>0</td>\n",
              "      <td>0</td>\n",
              "      <td>0</td>\n",
              "      <td>0</td>\n",
              "      <td>0</td>\n",
              "      <td>0</td>\n",
              "      <td>0</td>\n",
              "      <td>0</td>\n",
              "      <td>0</td>\n",
              "      <td>0</td>\n",
              "      <td>0</td>\n",
              "      <td>0</td>\n",
              "      <td>0</td>\n",
              "      <td>0</td>\n",
              "      <td>0</td>\n",
              "      <td>11</td>\n",
              "      <td>168</td>\n",
              "      <td>250</td>\n",
              "      <td>200</td>\n",
              "      <td>242</td>\n",
              "      <td>246</td>\n",
              "      <td>136</td>\n",
              "      <td>10</td>\n",
              "      <td>0</td>\n",
              "      <td>0</td>\n",
              "      <td>0</td>\n",
              "      <td>0</td>\n",
              "      <td>0</td>\n",
              "      <td>0</td>\n",
              "      <td>0</td>\n",
              "      <td>0</td>\n",
              "      <td>0</td>\n",
              "      <td>0</td>\n",
              "      <td>0</td>\n",
              "      <td>0</td>\n",
              "      <td>0</td>\n",
              "      <td>0</td>\n",
              "      <td>0</td>\n",
              "      <td>0</td>\n",
              "      <td>0</td>\n",
              "      <td>0</td>\n",
              "      <td>0</td>\n",
              "      <td>0</td>\n",
              "      <td>0</td>\n",
              "      <td>87</td>\n",
              "      <td>253</td>\n",
              "      <td>253</td>\n",
              "      <td>253</td>\n",
              "      <td>222</td>\n",
              "      <td>0</td>\n",
              "      <td>0</td>\n",
              "      <td>0</td>\n",
              "      <td>0</td>\n",
              "      <td>0</td>\n",
              "      <td>0</td>\n",
              "      <td>0</td>\n",
              "      <td>0</td>\n",
              "      <td>0</td>\n",
              "      <td>0</td>\n",
              "      <td>0</td>\n",
              "      <td>0</td>\n",
              "      <td>0</td>\n",
              "      <td>0</td>\n",
              "      <td>0</td>\n",
              "      <td>0</td>\n",
              "      <td>0</td>\n",
              "      <td>0</td>\n",
              "      <td>0</td>\n",
              "      <td>0</td>\n",
              "      <td>0</td>\n",
              "      <td>0</td>\n",
              "      <td>33</td>\n",
              "      <td>197</td>\n",
              "      <td>253</td>\n",
              "      <td>253</td>\n",
              "      <td>253</td>\n",
              "      <td>99</td>\n",
              "      <td>0</td>\n",
              "      <td>0</td>\n",
              "      <td>0</td>\n",
              "      <td>0</td>\n",
              "      <td>0</td>\n",
              "      <td>0</td>\n",
              "      <td>0</td>\n",
              "      <td>0</td>\n",
              "      <td>0</td>\n",
              "      <td>0</td>\n",
              "      <td>0</td>\n",
              "      <td>0</td>\n",
              "      <td>0</td>\n",
              "      <td>0</td>\n",
              "      <td>0</td>\n",
              "      <td>0</td>\n",
              "      <td>0</td>\n",
              "      <td>0</td>\n",
              "      <td>0</td>\n",
              "      <td>0</td>\n",
              "      <td>0</td>\n",
              "      <td>46</td>\n",
              "      <td>174</td>\n",
              "      <td>253</td>\n",
              "      <td>253</td>\n",
              "      <td>253</td>\n",
              "      <td>179</td>\n",
              "      <td>3</td>\n",
              "      <td>0</td>\n",
              "      <td>0</td>\n",
              "      <td>0</td>\n",
              "      <td>0</td>\n",
              "      <td>0</td>\n",
              "      <td>0</td>\n",
              "      <td>0</td>\n",
              "      <td>0</td>\n",
              "      <td>0</td>\n",
              "      <td>0</td>\n",
              "      <td>0</td>\n",
              "      <td>0</td>\n",
              "      <td>0</td>\n",
              "      <td>0</td>\n",
              "      <td>0</td>\n",
              "      <td>0</td>\n",
              "      <td>0</td>\n",
              "      <td>0</td>\n",
              "      <td>0</td>\n",
              "      <td>0</td>\n",
              "      <td>44</td>\n",
              "      <td>237</td>\n",
              "      <td>253</td>\n",
              "      <td>233</td>\n",
              "      <td>128</td>\n",
              "      <td>205</td>\n",
              "      <td>161</td>\n",
              "      <td>0</td>\n",
              "      <td>0</td>\n",
              "      <td>0</td>\n",
              "      <td>0</td>\n",
              "      <td>0</td>\n",
              "      <td>0</td>\n",
              "      <td>0</td>\n",
              "      <td>0</td>\n",
              "      <td>0</td>\n",
              "      <td>0</td>\n",
              "      <td>0</td>\n",
              "      <td>0</td>\n",
              "      <td>0</td>\n",
              "      <td>0</td>\n",
              "      <td>0</td>\n",
              "      <td>0</td>\n",
              "      <td>0</td>\n",
              "      <td>0</td>\n",
              "      <td>0</td>\n",
              "      <td>0</td>\n",
              "      <td>0</td>\n",
              "      <td>155</td>\n",
              "      <td>253</td>\n",
              "      <td>220</td>\n",
              "      <td>19</td>\n",
              "      <td>0</td>\n",
              "      <td>162</td>\n",
              "      <td>185</td>\n",
              "      <td>4</td>\n",
              "      <td>0</td>\n",
              "      <td>0</td>\n",
              "      <td>0</td>\n",
              "      <td>0</td>\n",
              "      <td>0</td>\n",
              "      <td>0</td>\n",
              "      <td>0</td>\n",
              "      <td>0</td>\n",
              "      <td>0</td>\n",
              "      <td>0</td>\n",
              "      <td>0</td>\n",
              "      <td>0</td>\n",
              "      <td>0</td>\n",
              "      <td>0</td>\n",
              "      <td>0</td>\n",
              "      <td>0</td>\n",
              "      <td>0</td>\n",
              "      <td>0</td>\n",
              "      <td>0</td>\n",
              "      <td>0</td>\n",
              "      <td>189</td>\n",
              "      <td>253</td>\n",
              "      <td>224</td>\n",
              "      <td>68</td>\n",
              "      <td>0</td>\n",
              "      <td>73</td>\n",
              "      <td>253</td>\n",
              "      <td>60</td>\n",
              "      <td>0</td>\n",
              "      <td>0</td>\n",
              "      <td>0</td>\n",
              "      <td>0</td>\n",
              "      <td>0</td>\n",
              "      <td>0</td>\n",
              "      <td>0</td>\n",
              "      <td>0</td>\n",
              "      <td>0</td>\n",
              "      <td>0</td>\n",
              "      <td>0</td>\n",
              "      <td>0</td>\n",
              "      <td>0</td>\n",
              "      <td>0</td>\n",
              "      <td>0</td>\n",
              "      <td>0</td>\n",
              "      <td>0</td>\n",
              "      <td>0</td>\n",
              "      <td>0</td>\n",
              "      <td>0</td>\n",
              "      <td>165</td>\n",
              "      <td>236</td>\n",
              "      <td>253</td>\n",
              "      <td>252</td>\n",
              "      <td>242</td>\n",
              "      <td>211</td>\n",
              "      <td>253</td>\n",
              "      <td>124</td>\n",
              "      <td>0</td>\n",
              "      <td>0</td>\n",
              "      <td>0</td>\n",
              "      <td>0</td>\n",
              "      <td>0</td>\n",
              "      <td>0</td>\n",
              "      <td>0</td>\n",
              "      <td>0</td>\n",
              "      <td>0</td>\n",
              "      <td>0</td>\n",
              "      <td>0</td>\n",
              "      <td>0</td>\n",
              "      <td>0</td>\n",
              "      <td>0</td>\n",
              "      <td>0</td>\n",
              "      <td>0</td>\n",
              "      <td>0</td>\n",
              "      <td>0</td>\n",
              "      <td>0</td>\n",
              "      <td>0</td>\n",
              "      <td>0</td>\n",
              "      <td>36</td>\n",
              "      <td>142</td>\n",
              "      <td>207</td>\n",
              "      <td>253</td>\n",
              "      <td>253</td>\n",
              "      <td>253</td>\n",
              "      <td>124</td>\n",
              "      <td>0</td>\n",
              "      <td>0</td>\n",
              "      <td>0</td>\n",
              "      <td>0</td>\n",
              "      <td>0</td>\n",
              "      <td>0</td>\n",
              "      <td>0</td>\n",
              "      <td>0</td>\n",
              "      <td>0</td>\n",
              "      <td>0</td>\n",
              "      <td>0</td>\n",
              "      <td>0</td>\n",
              "      <td>0</td>\n",
              "      <td>0</td>\n",
              "      <td>0</td>\n",
              "      <td>0</td>\n",
              "      <td>0</td>\n",
              "      <td>0</td>\n",
              "      <td>0</td>\n",
              "      <td>0</td>\n",
              "      <td>0</td>\n",
              "      <td>0</td>\n",
              "      <td>0</td>\n",
              "      <td>13</td>\n",
              "      <td>136</td>\n",
              "      <td>214</td>\n",
              "      <td>168</td>\n",
              "      <td>25</td>\n",
              "      <td>0</td>\n",
              "      <td>0</td>\n",
              "      <td>0</td>\n",
              "      <td>0</td>\n",
              "      <td>0</td>\n",
              "      <td>0</td>\n",
              "      <td>0</td>\n",
              "      <td>0</td>\n",
              "      <td>0</td>\n",
              "      <td>0</td>\n",
              "      <td>0</td>\n",
              "      <td>0</td>\n",
              "      <td>0</td>\n",
              "      <td>0</td>\n",
              "      <td>0</td>\n",
              "      <td>0</td>\n",
              "      <td>0</td>\n",
              "      <td>0</td>\n",
              "      <td>0</td>\n",
              "      <td>0</td>\n",
              "      <td>0</td>\n",
              "      <td>0</td>\n",
              "      <td>0</td>\n",
              "      <td>0</td>\n",
              "      <td>0</td>\n",
              "      <td>0</td>\n",
              "      <td>0</td>\n",
              "      <td>0</td>\n",
              "      <td>0</td>\n",
              "      <td>0</td>\n",
              "      <td>0</td>\n",
              "      <td>0</td>\n",
              "      <td>0</td>\n",
              "      <td>0</td>\n",
              "      <td>0</td>\n",
              "      <td>0</td>\n",
              "      <td>0</td>\n",
              "      <td>0</td>\n",
              "      <td>0</td>\n",
              "      <td>0</td>\n",
              "      <td>0</td>\n",
              "      <td>0</td>\n",
              "      <td>0</td>\n",
              "      <td>0</td>\n",
              "      <td>0</td>\n",
              "      <td>0</td>\n",
              "      <td>0</td>\n",
              "      <td>0</td>\n",
              "      <td>0</td>\n",
              "      <td>0</td>\n",
              "      <td>0</td>\n",
              "      <td>0</td>\n",
              "      <td>0</td>\n",
              "      <td>0</td>\n",
              "      <td>0</td>\n",
              "      <td>0</td>\n",
              "      <td>0</td>\n",
              "      <td>0</td>\n",
              "      <td>0</td>\n",
              "      <td>0</td>\n",
              "      <td>0</td>\n",
              "      <td>0</td>\n",
              "      <td>0</td>\n",
              "      <td>0</td>\n",
              "      <td>0</td>\n",
              "      <td>0</td>\n",
              "      <td>0</td>\n",
              "      <td>0</td>\n",
              "      <td>0</td>\n",
              "      <td>0</td>\n",
              "      <td>0</td>\n",
              "      <td>0</td>\n",
              "      <td>0</td>\n",
              "      <td>0</td>\n",
              "      <td>0</td>\n",
              "      <td>0</td>\n",
              "      <td>0</td>\n",
              "      <td>0</td>\n",
              "      <td>0</td>\n",
              "      <td>0</td>\n",
              "      <td>0</td>\n",
              "      <td>0</td>\n",
              "      <td>0</td>\n",
              "      <td>0</td>\n",
              "      <td>0</td>\n",
              "      <td>0</td>\n",
              "      <td>0</td>\n",
              "      <td>0</td>\n",
              "      <td>0</td>\n",
              "      <td>0</td>\n",
              "      <td>0</td>\n",
              "      <td>0</td>\n",
              "      <td>0</td>\n",
              "      <td>0</td>\n",
              "      <td>0</td>\n",
              "      <td>0</td>\n",
              "      <td>0</td>\n",
              "      <td>0</td>\n",
              "      <td>0</td>\n",
              "      <td>0</td>\n",
              "      <td>0</td>\n",
              "      <td>0</td>\n",
              "      <td>0</td>\n",
              "      <td>0</td>\n",
              "      <td>0</td>\n",
              "      <td>0</td>\n",
              "      <td>0</td>\n",
              "      <td>0</td>\n",
              "      <td>0</td>\n",
              "      <td>0</td>\n",
              "      <td>0</td>\n",
              "      <td>0</td>\n",
              "      <td>0</td>\n",
              "      <td>0</td>\n",
              "      <td>0</td>\n",
              "      <td>0</td>\n",
              "      <td>0</td>\n",
              "      <td>0</td>\n",
              "      <td>0</td>\n",
              "      <td>0</td>\n",
              "      <td>0</td>\n",
              "      <td>0</td>\n",
              "      <td>0</td>\n",
              "    </tr>\n",
              "  </tbody>\n",
              "</table>\n",
              "</div>\n",
              "      <button class=\"colab-df-convert\" onclick=\"convertToInteractive('df-09ae3aa8-1b06-4803-a30c-f8a6e60e10ef')\"\n",
              "              title=\"Convert this dataframe to an interactive table.\"\n",
              "              style=\"display:none;\">\n",
              "        \n",
              "  <svg xmlns=\"http://www.w3.org/2000/svg\" height=\"24px\"viewBox=\"0 0 24 24\"\n",
              "       width=\"24px\">\n",
              "    <path d=\"M0 0h24v24H0V0z\" fill=\"none\"/>\n",
              "    <path d=\"M18.56 5.44l.94 2.06.94-2.06 2.06-.94-2.06-.94-.94-2.06-.94 2.06-2.06.94zm-11 1L8.5 8.5l.94-2.06 2.06-.94-2.06-.94L8.5 2.5l-.94 2.06-2.06.94zm10 10l.94 2.06.94-2.06 2.06-.94-2.06-.94-.94-2.06-.94 2.06-2.06.94z\"/><path d=\"M17.41 7.96l-1.37-1.37c-.4-.4-.92-.59-1.43-.59-.52 0-1.04.2-1.43.59L10.3 9.45l-7.72 7.72c-.78.78-.78 2.05 0 2.83L4 21.41c.39.39.9.59 1.41.59.51 0 1.02-.2 1.41-.59l7.78-7.78 2.81-2.81c.8-.78.8-2.07 0-2.86zM5.41 20L4 18.59l7.72-7.72 1.47 1.35L5.41 20z\"/>\n",
              "  </svg>\n",
              "      </button>\n",
              "      \n",
              "  <style>\n",
              "    .colab-df-container {\n",
              "      display:flex;\n",
              "      flex-wrap:wrap;\n",
              "      gap: 12px;\n",
              "    }\n",
              "\n",
              "    .colab-df-convert {\n",
              "      background-color: #E8F0FE;\n",
              "      border: none;\n",
              "      border-radius: 50%;\n",
              "      cursor: pointer;\n",
              "      display: none;\n",
              "      fill: #1967D2;\n",
              "      height: 32px;\n",
              "      padding: 0 0 0 0;\n",
              "      width: 32px;\n",
              "    }\n",
              "\n",
              "    .colab-df-convert:hover {\n",
              "      background-color: #E2EBFA;\n",
              "      box-shadow: 0px 1px 2px rgba(60, 64, 67, 0.3), 0px 1px 3px 1px rgba(60, 64, 67, 0.15);\n",
              "      fill: #174EA6;\n",
              "    }\n",
              "\n",
              "    [theme=dark] .colab-df-convert {\n",
              "      background-color: #3B4455;\n",
              "      fill: #D2E3FC;\n",
              "    }\n",
              "\n",
              "    [theme=dark] .colab-df-convert:hover {\n",
              "      background-color: #434B5C;\n",
              "      box-shadow: 0px 1px 3px 1px rgba(0, 0, 0, 0.15);\n",
              "      filter: drop-shadow(0px 1px 2px rgba(0, 0, 0, 0.3));\n",
              "      fill: #FFFFFF;\n",
              "    }\n",
              "  </style>\n",
              "\n",
              "      <script>\n",
              "        const buttonEl =\n",
              "          document.querySelector('#df-09ae3aa8-1b06-4803-a30c-f8a6e60e10ef button.colab-df-convert');\n",
              "        buttonEl.style.display =\n",
              "          google.colab.kernel.accessAllowed ? 'block' : 'none';\n",
              "\n",
              "        async function convertToInteractive(key) {\n",
              "          const element = document.querySelector('#df-09ae3aa8-1b06-4803-a30c-f8a6e60e10ef');\n",
              "          const dataTable =\n",
              "            await google.colab.kernel.invokeFunction('convertToInteractive',\n",
              "                                                     [key], {});\n",
              "          if (!dataTable) return;\n",
              "\n",
              "          const docLinkHtml = 'Like what you see? Visit the ' +\n",
              "            '<a target=\"_blank\" href=https://colab.research.google.com/notebooks/data_table.ipynb>data table notebook</a>'\n",
              "            + ' to learn more about interactive tables.';\n",
              "          element.innerHTML = '';\n",
              "          dataTable['output_type'] = 'display_data';\n",
              "          await google.colab.output.renderOutput(dataTable, element);\n",
              "          const docLink = document.createElement('div');\n",
              "          docLink.innerHTML = docLinkHtml;\n",
              "          element.appendChild(docLink);\n",
              "        }\n",
              "      </script>\n",
              "    </div>\n",
              "  </div>\n",
              "  "
            ]
          },
          "metadata": {},
          "execution_count": 6
        }
      ]
    },
    {
      "cell_type": "code",
      "source": [
        "# Look at an image\n",
        "img = train_df.iloc[0, 1:].values.reshape(28, 28).astype(np.uint8)\n",
        "img = Image.fromarray(obj=img)\n",
        "PILImageBW.create(fn=img)"
      ],
      "metadata": {
        "colab": {
          "base_uri": "https://localhost:8080/",
          "height": 45
        },
        "id": "dFcpmVctM4et",
        "outputId": "c730d3be-d469-4388-e69a-061c27e63d4a"
      },
      "execution_count": null,
      "outputs": [
        {
          "output_type": "execute_result",
          "data": {
            "text/plain": [
              "PILImageBW mode=L size=28x28"
            ],
            "image/png": "[encoded data removed]"
          },
          "metadata": {},
          "execution_count": 7
        }
      ]
    },
    {
      "cell_type": "code",
      "source": [
        "# Save\n",
        "img.save(\"/content/img.png\")"
      ],
      "metadata": {
        "id": "hBf3Q-jwdnZi"
      },
      "execution_count": null,
      "outputs": []
    },
    {
      "cell_type": "code",
      "source": [
        "def save_images(df: pd.DataFrame, folder_name: str):\n",
        "    \"\"\"The save_images function takes in two arguments, a Pandas DataFrame df and a string folder_name.\n",
        "    It iterates through the rows of the DataFrame and saves each row as a PNG image in the corresponding folder.\n",
        "    If folder_name is \"training\", it retrieves the label from the first column of the row and\n",
        "    saves the image in a subfolder of the \"training\" folder with the same name as the label.\n",
        "    If folder_name is not \"training\", it saves the image in a subfolder of the \"testing\" folder called \"None\".\n",
        "    The function converts the values of each row into a NumPy array, reshapes it into a 28x28 matrix,\n",
        "    and then converts it into a PIL Image object before saving it as a PNG file.\n",
        "\n",
        "    Args:\n",
        "        df (pd.DataFrame): The DataFrame containing the image data to be saved as PNG images.\n",
        "        folder_name (str): The name of the folder where the images will be saved. If it is \"training\",\n",
        "                           the images will be saved in the \"training\" folder with a subfolder for each label.\n",
        "                           If it is not \"training\", the images will be saved in the \"testing\" folder\n",
        "                           with a subfolder called \"None\".\n",
        "\n",
        "    Returns:\n",
        "        None.    \n",
        "    \"\"\"\n",
        "    # Declare whether it is training\n",
        "    is_training = True if folder_name == \"training\" else False\n",
        "    # Iterate through the frame rows\n",
        "    for i, row in df.iterrows():\n",
        "        # If it is training\n",
        "        if is_training:\n",
        "            # Retrieve the label as well\n",
        "            label, digit = row[0], row[1:]\n",
        "            # Declare the filepath\n",
        "            fp = path/\"training\"/f\"{str(label)}/{str(i)}.png\"\n",
        "        # Else\n",
        "        else:\n",
        "            # Only digits\n",
        "            digit = row\n",
        "            # Declare the filepath\n",
        "            fp = path/\"testing\"/f\"None/{str(i)}.png\"\n",
        "        # Change the format of values\n",
        "        img = digit.values.reshape(28, 28).astype(np.uint8)\n",
        "        # Convert it as PILImage object\n",
        "        img = Image.fromarray(obj=img)\n",
        "        # Save it to belonging folder\n",
        "        img.save(fp=fp)\n",
        "\n",
        "\n",
        "# Test the function with training images\n",
        "save_images(df=train_df, folder_name=\"training\")\n",
        "# Trace the results\n",
        "(path/\"training\"/\"0\").ls()[:3]"
      ],
      "metadata": {
        "colab": {
          "base_uri": "https://localhost:8080/"
        },
        "id": "eLsX_3Ora1mY",
        "outputId": "d8dcb80b-578d-4480-f4fd-8960964d326f"
      },
      "execution_count": null,
      "outputs": [
        {
          "output_type": "execute_result",
          "data": {
            "text/plain": [
              "(#3) [Path('/root/.fastai/archive/digit-recognizer/training/0/10095.png'),Path('/root/.fastai/archive/digit-recognizer/training/0/37143.png'),Path('/root/.fastai/archive/digit-recognizer/training/0/19512.png')]"
            ]
          },
          "metadata": {},
          "execution_count": 9
        }
      ]
    },
    {
      "cell_type": "code",
      "source": [
        "# Visualize one of the saved images\n",
        "PILImageBW.create(fn=(path/\"training\"/\"0\").ls()[2000])"
      ],
      "metadata": {
        "colab": {
          "base_uri": "https://localhost:8080/",
          "height": 45
        },
        "id": "DQDvPhOygWjz",
        "outputId": "69d55490-dd50-45b3-d1af-88ce294da6a9"
      },
      "execution_count": null,
      "outputs": [
        {
          "output_type": "execute_result",
          "data": {
            "text/plain": [
              "PILImageBW mode=L size=28x28"
            ],
            "image/png": "[encoded data removed]"
          },
          "metadata": {},
          "execution_count": 11
        }
      ]
    },
    {
      "cell_type": "code",
      "source": [
        "# Declare a DataBlock object\n",
        "db = DataBlock(blocks=(ImageBlock(cls=PILImageBW), CategoryBlock),\n",
        "               get_items=get_image_files,\n",
        "               splitter=TrainTestSplitter(random_state=43),\n",
        "               get_y=parent_label)"
      ],
      "metadata": {
        "id": "32ka8L228voN"
      },
      "execution_count": null,
      "outputs": []
    },
    {
      "cell_type": "code",
      "source": [
        "# Create the DataLoader object\n",
        "dls = db.dataloaders(source=path)"
      ],
      "metadata": {
        "id": "XFD4JY_6BALf"
      },
      "execution_count": null,
      "outputs": []
    },
    {
      "cell_type": "code",
      "source": [
        "# Trace the batch size\n",
        "dls.one_batch()[0].size()"
      ],
      "metadata": {
        "colab": {
          "base_uri": "https://localhost:8080/"
        },
        "id": "q9rqOverqodL",
        "outputId": "c067029a-f743-4801-9c57-a8723f12107a"
      },
      "execution_count": null,
      "outputs": [
        {
          "output_type": "execute_result",
          "data": {
            "text/plain": [
              "torch.Size([64, 1, 28, 28])"
            ]
          },
          "metadata": {},
          "execution_count": 16
        }
      ]
    },
    {
      "cell_type": "code",
      "source": [
        "# Show a batch of 6\n",
        "dls.show_batch(max_n=6, figsize=(4, 4))"
      ],
      "metadata": {
        "colab": {
          "base_uri": "https://localhost:8080/",
          "height": 232
        },
        "id": "Ifxc3EmzDgMh",
        "outputId": "c7df52ed-e865-46b1-f77b-bc5be9e36bce"
      },
      "execution_count": null,
      "outputs": [
        {
          "output_type": "display_data",
          "data": {
            "text/plain": [
              "<Figure size 288x288 with 6 Axes>"
            ],
            "image/png": "[encoded data removed]"
          },
          "metadata": {
            "needs_background": "light"
          }
        }
      ]
    },
    {
      "cell_type": "code",
      "source": [
        "# Install neptune modules\n",
        "!pip install -q neptune neptune-fastai"
      ],
      "metadata": {
        "colab": {
          "base_uri": "https://localhost:8080/"
        },
        "id": "u2FdCy65yZQO",
        "outputId": "cd12757b-dfdd-4c8c-b56b-aecdf6945b76"
      },
      "execution_count": null,
      "outputs": [
        {
          "output_type": "stream",
          "name": "stdout",
          "text": [
            "\u001b[?25l     \u001b[90m━━━━━━━━━━━━━━━━━━━━━━━━━━━━━━━━━━━━━━━━\u001b[0m \u001b[32m0.0/443.8 KB\u001b[0m \u001b[31m?\u001b[0m eta \u001b[36m-:--:--\u001b[0m\r\u001b[2K     \u001b[90m━━━━━━━━━━━━━━━━━━━━━━━━━━━━━━━━━━━━━━\u001b[0m \u001b[32m443.8/443.8 KB\u001b[0m \u001b[31m15.2 MB/s\u001b[0m eta \u001b[36m0:00:00\u001b[0m\n",
            "\u001b[?25h"
          ]
        }
      ]
    },
    {
      "cell_type": "code",
      "source": [
        "# Import the modules\n",
        "from getpass import getpass\n",
        "\n",
        "import neptune\n",
        "from neptune.integrations.fastai import NeptuneCallback\n",
        "from neptune.types import File"
      ],
      "metadata": {
        "id": "wNIu_wkYymGL"
      },
      "execution_count": null,
      "outputs": []
    },
    {
      "cell_type": "code",
      "source": [
        "# Retrieve the api token\n",
        "api_token = getpass(\"Enter your private Neptune API token: \")"
      ],
      "metadata": {
        "colab": {
          "base_uri": "https://localhost:8080/"
        },
        "id": "qKKQayQkzAPJ",
        "outputId": "42a5a95d-68b9-499c-e714-e0bf84abc588"
      },
      "execution_count": null,
      "outputs": [
        {
          "name": "stdout",
          "output_type": "stream",
          "text": [
            "Enter your private Neptune API token: ··········\n"
          ]
        }
      ]
    },
    {
      "cell_type": "code",
      "source": [
        "# Project name\n",
        "workspace = \"wai\"\n",
        "project_name = \"example\"\n",
        "project = f\"{workspace}/{project_name}\"\n",
        "# Trace\n",
        "print(project)"
      ],
      "metadata": {
        "colab": {
          "base_uri": "https://localhost:8080/"
        },
        "id": "xN5s0FMDzNEw",
        "outputId": "b7d2cb13-c265-4dba-c04c-84f2ae469f62"
      },
      "execution_count": null,
      "outputs": [
        {
          "output_type": "stream",
          "name": "stdout",
          "text": [
            "wai/example\n"
          ]
        }
      ]
    },
    {
      "cell_type": "code",
      "source": [
        "# Init Neptune environment\n",
        "run = neptune.init_run(project=project,\n",
        "                       api_token=api_token,\n",
        "                       custom_run_id=\"fastai-mnist\",\n",
        "                       capture_hardware_metrics=True,\n",
        "                       capture_stderr=True,\n",
        "                       capture_stdout=True)"
      ],
      "metadata": {
        "colab": {
          "base_uri": "https://localhost:8080/"
        },
        "id": "dxGf3SNwzR3M",
        "outputId": "eac78a1c-7cfb-439d-b5c1-9781f792c66b"
      },
      "execution_count": null,
      "outputs": [
        {
          "output_type": "stream",
          "name": "stdout",
          "text": [
            "https://new-ui.neptune.ai/wai/example/e/EX-3\n"
          ]
        }
      ]
    },
    {
      "cell_type": "code",
      "source": [
        "# Create a ResNet-18 architecture\n",
        "learn = vision_learner(dls=dls,\n",
        "                       arch=models.resnet18,\n",
        "                       metrics=accuracy)\n",
        "# Find the optimum learning rate\n",
        "learn.lr_find(suggest_funcs=(slide, valley))"
      ],
      "metadata": {
        "colab": {
          "base_uri": "https://localhost:8080/",
          "height": 307
        },
        "id": "T9gGScJNDvtn",
        "outputId": "70c3a118-16a7-451d-8fc7-f23d1a0a1993"
      },
      "execution_count": null,
      "outputs": [
        {
          "output_type": "display_data",
          "data": {
            "text/plain": [
              "<IPython.core.display.HTML object>"
            ],
            "text/html": [
              "\n",
              "<style>\n",
              "    /* Turns off some styling */\n",
              "    progress {\n",
              "        /* gets rid of default border in Firefox and Opera. */\n",
              "        border: none;\n",
              "        /* Needs to be in here for Safari polyfill so background images work as expected. */\n",
              "        background-size: auto;\n",
              "    }\n",
              "    progress:not([value]), progress:not([value])::-webkit-progress-bar {\n",
              "        background: repeating-linear-gradient(45deg, #7e7e7e, #7e7e7e 10px, #5c5c5c 10px, #5c5c5c 20px);\n",
              "    }\n",
              "    .progress-bar-interrupted, .progress-bar-interrupted::-webkit-progress-bar {\n",
              "        background: #F44336;\n",
              "    }\n",
              "</style>\n"
            ]
          },
          "metadata": {}
        },
        {
          "output_type": "display_data",
          "data": {
            "text/plain": [
              "<IPython.core.display.HTML object>"
            ],
            "text/html": []
          },
          "metadata": {}
        },
        {
          "output_type": "execute_result",
          "data": {
            "text/plain": [
              "SuggestedLRs(slide=0.00363078061491251, valley=0.0030199517495930195)"
            ]
          },
          "metadata": {},
          "execution_count": 32
        },
        {
          "output_type": "display_data",
          "data": {
            "text/plain": [
              "<Figure size 432x288 with 1 Axes>"
            ],
            "image/png": "[encoded data removed]"
          },
          "metadata": {
            "needs_background": "light"
          }
        }
      ]
    },
    {
      "cell_type": "code",
      "source": [
        "# Declare Neptune Callback\n",
        "neptune_callback = NeptuneCallback(run=run)\n",
        "# Fine tune the model\n",
        "learn.fine_tune(epochs=25, base_lr=0.003,\n",
        "                cbs=[SaveModelCallback,\n",
        "                     ReduceLROnPlateau,\n",
        "                     EarlyStoppingCallback(patience=5),\n",
        "                     neptune_callback])"
      ],
      "metadata": {
        "colab": {
          "base_uri": "https://localhost:8080/",
          "height": 887
        },
        "id": "1GuLt9z9FLhC",
        "outputId": "f4baf1db-6dea-494a-8bc6-b8618d55d3ad"
      },
      "execution_count": null,
      "outputs": [
        {
          "output_type": "display_data",
          "data": {
            "text/plain": [
              "<IPython.core.display.HTML object>"
            ],
            "text/html": [
              "\n",
              "<style>\n",
              "    /* Turns off some styling */\n",
              "    progress {\n",
              "        /* gets rid of default border in Firefox and Opera. */\n",
              "        border: none;\n",
              "        /* Needs to be in here for Safari polyfill so background images work as expected. */\n",
              "        background-size: auto;\n",
              "    }\n",
              "    progress:not([value]), progress:not([value])::-webkit-progress-bar {\n",
              "        background: repeating-linear-gradient(45deg, #7e7e7e, #7e7e7e 10px, #5c5c5c 10px, #5c5c5c 20px);\n",
              "    }\n",
              "    .progress-bar-interrupted, .progress-bar-interrupted::-webkit-progress-bar {\n",
              "        background: #F44336;\n",
              "    }\n",
              "</style>\n"
            ]
          },
          "metadata": {}
        },
        {
          "output_type": "display_data",
          "data": {
            "text/plain": [
              "<IPython.core.display.HTML object>"
            ],
            "text/html": [
              "<table border=\"1\" class=\"dataframe\">\n",
              "  <thead>\n",
              "    <tr style=\"text-align: left;\">\n",
              "      <th>epoch</th>\n",
              "      <th>train_loss</th>\n",
              "      <th>valid_loss</th>\n",
              "      <th>accuracy</th>\n",
              "      <th>time</th>\n",
              "    </tr>\n",
              "  </thead>\n",
              "  <tbody>\n",
              "    <tr>\n",
              "      <td>0</td>\n",
              "      <td>0.826105</td>\n",
              "      <td>0.597228</td>\n",
              "      <td>0.811548</td>\n",
              "      <td>00:53</td>\n",
              "    </tr>\n",
              "  </tbody>\n",
              "</table>"
            ]
          },
          "metadata": {}
        },
        {
          "output_type": "stream",
          "name": "stdout",
          "text": [
            "Better model found at epoch 0 with valid_loss value: 0.5972276926040649.\n"
          ]
        },
        {
          "output_type": "display_data",
          "data": {
            "text/plain": [
              "<IPython.core.display.HTML object>"
            ],
            "text/html": [
              "\n",
              "<style>\n",
              "    /* Turns off some styling */\n",
              "    progress {\n",
              "        /* gets rid of default border in Firefox and Opera. */\n",
              "        border: none;\n",
              "        /* Needs to be in here for Safari polyfill so background images work as expected. */\n",
              "        background-size: auto;\n",
              "    }\n",
              "    progress:not([value]), progress:not([value])::-webkit-progress-bar {\n",
              "        background: repeating-linear-gradient(45deg, #7e7e7e, #7e7e7e 10px, #5c5c5c 10px, #5c5c5c 20px);\n",
              "    }\n",
              "    .progress-bar-interrupted, .progress-bar-interrupted::-webkit-progress-bar {\n",
              "        background: #F44336;\n",
              "    }\n",
              "</style>\n"
            ]
          },
          "metadata": {}
        },
        {
          "output_type": "display_data",
          "data": {
            "text/plain": [
              "<IPython.core.display.HTML object>"
            ],
            "text/html": [
              "<table border=\"1\" class=\"dataframe\">\n",
              "  <thead>\n",
              "    <tr style=\"text-align: left;\">\n",
              "      <th>epoch</th>\n",
              "      <th>train_loss</th>\n",
              "      <th>valid_loss</th>\n",
              "      <th>accuracy</th>\n",
              "      <th>time</th>\n",
              "    </tr>\n",
              "  </thead>\n",
              "  <tbody>\n",
              "    <tr>\n",
              "      <td>0</td>\n",
              "      <td>0.202141</td>\n",
              "      <td>0.127238</td>\n",
              "      <td>0.960714</td>\n",
              "      <td>01:00</td>\n",
              "    </tr>\n",
              "    <tr>\n",
              "      <td>1</td>\n",
              "      <td>0.117006</td>\n",
              "      <td>0.079982</td>\n",
              "      <td>0.976310</td>\n",
              "      <td>00:56</td>\n",
              "    </tr>\n",
              "    <tr>\n",
              "      <td>2</td>\n",
              "      <td>0.081094</td>\n",
              "      <td>0.076464</td>\n",
              "      <td>0.976905</td>\n",
              "      <td>00:57</td>\n",
              "    </tr>\n",
              "    <tr>\n",
              "      <td>3</td>\n",
              "      <td>0.076409</td>\n",
              "      <td>0.069194</td>\n",
              "      <td>0.981191</td>\n",
              "      <td>00:58</td>\n",
              "    </tr>\n",
              "    <tr>\n",
              "      <td>4</td>\n",
              "      <td>0.072281</td>\n",
              "      <td>0.055503</td>\n",
              "      <td>0.984286</td>\n",
              "      <td>00:56</td>\n",
              "    </tr>\n",
              "    <tr>\n",
              "      <td>5</td>\n",
              "      <td>0.060334</td>\n",
              "      <td>0.064957</td>\n",
              "      <td>0.984643</td>\n",
              "      <td>00:56</td>\n",
              "    </tr>\n",
              "    <tr>\n",
              "      <td>6</td>\n",
              "      <td>0.047108</td>\n",
              "      <td>0.047358</td>\n",
              "      <td>0.987857</td>\n",
              "      <td>00:58</td>\n",
              "    </tr>\n",
              "    <tr>\n",
              "      <td>7</td>\n",
              "      <td>0.043848</td>\n",
              "      <td>0.046118</td>\n",
              "      <td>0.987024</td>\n",
              "      <td>00:57</td>\n",
              "    </tr>\n",
              "    <tr>\n",
              "      <td>8</td>\n",
              "      <td>0.040522</td>\n",
              "      <td>0.046503</td>\n",
              "      <td>0.987976</td>\n",
              "      <td>00:55</td>\n",
              "    </tr>\n",
              "    <tr>\n",
              "      <td>9</td>\n",
              "      <td>0.035012</td>\n",
              "      <td>0.045348</td>\n",
              "      <td>0.989405</td>\n",
              "      <td>00:55</td>\n",
              "    </tr>\n",
              "    <tr>\n",
              "      <td>10</td>\n",
              "      <td>0.023140</td>\n",
              "      <td>0.057217</td>\n",
              "      <td>0.986548</td>\n",
              "      <td>00:57</td>\n",
              "    </tr>\n",
              "    <tr>\n",
              "      <td>11</td>\n",
              "      <td>0.017373</td>\n",
              "      <td>0.056968</td>\n",
              "      <td>0.986667</td>\n",
              "      <td>00:58</td>\n",
              "    </tr>\n",
              "    <tr>\n",
              "      <td>12</td>\n",
              "      <td>0.014577</td>\n",
              "      <td>0.046693</td>\n",
              "      <td>0.990476</td>\n",
              "      <td>00:56</td>\n",
              "    </tr>\n",
              "    <tr>\n",
              "      <td>13</td>\n",
              "      <td>0.015591</td>\n",
              "      <td>0.056968</td>\n",
              "      <td>0.988333</td>\n",
              "      <td>00:56</td>\n",
              "    </tr>\n",
              "    <tr>\n",
              "      <td>14</td>\n",
              "      <td>0.006251</td>\n",
              "      <td>0.054512</td>\n",
              "      <td>0.989762</td>\n",
              "      <td>00:58</td>\n",
              "    </tr>\n",
              "  </tbody>\n",
              "</table>"
            ]
          },
          "metadata": {}
        },
        {
          "output_type": "stream",
          "name": "stdout",
          "text": [
            "Better model found at epoch 0 with valid_loss value: 0.1272384375333786.\n",
            "Better model found at epoch 1 with valid_loss value: 0.07998170703649521.\n",
            "Better model found at epoch 2 with valid_loss value: 0.0764637365937233.\n",
            "Better model found at epoch 3 with valid_loss value: 0.06919416785240173.\n",
            "Better model found at epoch 4 with valid_loss value: 0.055503372102975845.\n",
            "Epoch 5: reducing lr to 0.0001385128597447923\n",
            "Better model found at epoch 6 with valid_loss value: 0.04735777899622917.\n",
            "Better model found at epoch 7 with valid_loss value: 0.046118445694446564.\n",
            "Epoch 8: reducing lr to 0.0001473040608852094\n",
            "Better model found at epoch 9 with valid_loss value: 0.04534783959388733.\n",
            "Epoch 10: reducing lr to 0.0001356914870866893\n",
            "Epoch 11: reducing lr to 0.0001268484653889572\n",
            "Epoch 12: reducing lr to 0.00011633901359357765\n",
            "Epoch 13: reducing lr to 0.00010450090969510366\n",
            "Epoch 14: reducing lr to 9.171466605363414e-05\n",
            "No improvement since epoch 9: early stopping\n"
          ]
        }
      ]
    },
    {
      "cell_type": "code",
      "source": [
        "# Declare an interpreter\n",
        "interp = Interpretation.from_learner(learn=learn)"
      ],
      "metadata": {
        "colab": {
          "base_uri": "https://localhost:8080/",
          "height": 17
        },
        "id": "yiSDJl714xqM",
        "outputId": "ece586a8-a87a-4f2a-f78f-9ce966f7bf00"
      },
      "execution_count": null,
      "outputs": [
        {
          "output_type": "display_data",
          "data": {
            "text/plain": [
              "<IPython.core.display.HTML object>"
            ],
            "text/html": [
              "\n",
              "<style>\n",
              "    /* Turns off some styling */\n",
              "    progress {\n",
              "        /* gets rid of default border in Firefox and Opera. */\n",
              "        border: none;\n",
              "        /* Needs to be in here for Safari polyfill so background images work as expected. */\n",
              "        background-size: auto;\n",
              "    }\n",
              "    progress:not([value]), progress:not([value])::-webkit-progress-bar {\n",
              "        background: repeating-linear-gradient(45deg, #7e7e7e, #7e7e7e 10px, #5c5c5c 10px, #5c5c5c 20px);\n",
              "    }\n",
              "    .progress-bar-interrupted, .progress-bar-interrupted::-webkit-progress-bar {\n",
              "        background: #F44336;\n",
              "    }\n",
              "</style>\n"
            ]
          },
          "metadata": {}
        },
        {
          "output_type": "display_data",
          "data": {
            "text/plain": [
              "<IPython.core.display.HTML object>"
            ],
            "text/html": []
          },
          "metadata": {}
        }
      ]
    },
    {
      "cell_type": "code",
      "source": [
        "# Plot top losses\n",
        "interp.plot_top_losses(k=9, figsize=(8, 8))"
      ],
      "metadata": {
        "colab": {
          "base_uri": "https://localhost:8080/",
          "height": 523
        },
        "id": "wnJgsJGX45e5",
        "outputId": "18acba88-fdfb-4c23-9d8c-e90e23dbe8ea"
      },
      "execution_count": null,
      "outputs": [
        {
          "output_type": "display_data",
          "data": {
            "text/plain": [
              "<IPython.core.display.HTML object>"
            ],
            "text/html": [
              "\n",
              "<style>\n",
              "    /* Turns off some styling */\n",
              "    progress {\n",
              "        /* gets rid of default border in Firefox and Opera. */\n",
              "        border: none;\n",
              "        /* Needs to be in here for Safari polyfill so background images work as expected. */\n",
              "        background-size: auto;\n",
              "    }\n",
              "    progress:not([value]), progress:not([value])::-webkit-progress-bar {\n",
              "        background: repeating-linear-gradient(45deg, #7e7e7e, #7e7e7e 10px, #5c5c5c 10px, #5c5c5c 20px);\n",
              "    }\n",
              "    .progress-bar-interrupted, .progress-bar-interrupted::-webkit-progress-bar {\n",
              "        background: #F44336;\n",
              "    }\n",
              "</style>\n"
            ]
          },
          "metadata": {}
        },
        {
          "output_type": "display_data",
          "data": {
            "text/plain": [
              "<IPython.core.display.HTML object>"
            ],
            "text/html": []
          },
          "metadata": {}
        },
        {
          "output_type": "display_data",
          "data": {
            "text/plain": [
              "<Figure size 576x576 with 9 Axes>"
            ],
            "image/png": "[encoded data removed]"
          },
          "metadata": {
            "needs_background": "light"
          }
        }
      ]
    },
    {
      "cell_type": "code",
      "source": [
        "# Show some results\n",
        "learn.show_results(max_n=8)"
      ],
      "metadata": {
        "colab": {
          "base_uri": "https://localhost:8080/",
          "height": 388
        },
        "id": "5Qu5eU2H5oMD",
        "outputId": "51248115-1888-4a3d-99e7-89ffc250c6e2"
      },
      "execution_count": null,
      "outputs": [
        {
          "output_type": "display_data",
          "data": {
            "text/plain": [
              "<IPython.core.display.HTML object>"
            ],
            "text/html": [
              "\n",
              "<style>\n",
              "    /* Turns off some styling */\n",
              "    progress {\n",
              "        /* gets rid of default border in Firefox and Opera. */\n",
              "        border: none;\n",
              "        /* Needs to be in here for Safari polyfill so background images work as expected. */\n",
              "        background-size: auto;\n",
              "    }\n",
              "    progress:not([value]), progress:not([value])::-webkit-progress-bar {\n",
              "        background: repeating-linear-gradient(45deg, #7e7e7e, #7e7e7e 10px, #5c5c5c 10px, #5c5c5c 20px);\n",
              "    }\n",
              "    .progress-bar-interrupted, .progress-bar-interrupted::-webkit-progress-bar {\n",
              "        background: #F44336;\n",
              "    }\n",
              "</style>\n"
            ]
          },
          "metadata": {}
        },
        {
          "output_type": "display_data",
          "data": {
            "text/plain": [
              "<IPython.core.display.HTML object>"
            ],
            "text/html": []
          },
          "metadata": {}
        },
        {
          "output_type": "display_data",
          "data": {
            "text/plain": [
              "<Figure size 864x432 with 8 Axes>"
            ],
            "image/png": "[encoded data removed]"
          },
          "metadata": {
            "needs_background": "light"
          }
        }
      ]
    },
    {
      "cell_type": "code",
      "source": [
        "# Classification interpreter\n",
        "interp = ClassificationInterpretation.from_learner(learn)"
      ],
      "metadata": {
        "colab": {
          "base_uri": "https://localhost:8080/",
          "height": 17
        },
        "id": "An4N_8vX6LVK",
        "outputId": "624928f2-51bb-4445-bb6d-792b8ccf2b0c"
      },
      "execution_count": null,
      "outputs": [
        {
          "output_type": "display_data",
          "data": {
            "text/plain": [
              "<IPython.core.display.HTML object>"
            ],
            "text/html": [
              "\n",
              "<style>\n",
              "    /* Turns off some styling */\n",
              "    progress {\n",
              "        /* gets rid of default border in Firefox and Opera. */\n",
              "        border: none;\n",
              "        /* Needs to be in here for Safari polyfill so background images work as expected. */\n",
              "        background-size: auto;\n",
              "    }\n",
              "    progress:not([value]), progress:not([value])::-webkit-progress-bar {\n",
              "        background: repeating-linear-gradient(45deg, #7e7e7e, #7e7e7e 10px, #5c5c5c 10px, #5c5c5c 20px);\n",
              "    }\n",
              "    .progress-bar-interrupted, .progress-bar-interrupted::-webkit-progress-bar {\n",
              "        background: #F44336;\n",
              "    }\n",
              "</style>\n"
            ]
          },
          "metadata": {}
        },
        {
          "output_type": "display_data",
          "data": {
            "text/plain": [
              "<IPython.core.display.HTML object>"
            ],
            "text/html": []
          },
          "metadata": {}
        }
      ]
    },
    {
      "cell_type": "code",
      "source": [
        "# Plot the confusion matrix\n",
        "interp.plot_confusion_matrix(figsize=(7,7))"
      ],
      "metadata": {
        "colab": {
          "base_uri": "https://localhost:8080/",
          "height": 526
        },
        "id": "ZgEsUquI7o_8",
        "outputId": "00c41540-1bc4-48d1-c1b7-de777492477a"
      },
      "execution_count": null,
      "outputs": [
        {
          "output_type": "display_data",
          "data": {
            "text/plain": [
              "<IPython.core.display.HTML object>"
            ],
            "text/html": [
              "\n",
              "<style>\n",
              "    /* Turns off some styling */\n",
              "    progress {\n",
              "        /* gets rid of default border in Firefox and Opera. */\n",
              "        border: none;\n",
              "        /* Needs to be in here for Safari polyfill so background images work as expected. */\n",
              "        background-size: auto;\n",
              "    }\n",
              "    progress:not([value]), progress:not([value])::-webkit-progress-bar {\n",
              "        background: repeating-linear-gradient(45deg, #7e7e7e, #7e7e7e 10px, #5c5c5c 10px, #5c5c5c 20px);\n",
              "    }\n",
              "    .progress-bar-interrupted, .progress-bar-interrupted::-webkit-progress-bar {\n",
              "        background: #F44336;\n",
              "    }\n",
              "</style>\n"
            ]
          },
          "metadata": {}
        },
        {
          "output_type": "display_data",
          "data": {
            "text/plain": [
              "<IPython.core.display.HTML object>"
            ],
            "text/html": []
          },
          "metadata": {}
        },
        {
          "output_type": "display_data",
          "data": {
            "text/plain": [
              "<Figure size 504x504 with 1 Axes>"
            ],
            "image/png": "[encoded data removed]"
          },
          "metadata": {
            "needs_background": "light"
          }
        }
      ]
    },
    {
      "cell_type": "code",
      "source": [
        "# Most confused ones from the confusion matrix [actual, predicted, # occurrences]\n",
        "mc = pd.DataFrame(data=interp.most_confused(min_val=5),\n",
        "                  columns=[\"actual\", \"predicted\", \"# occurences\"])"
      ],
      "metadata": {
        "colab": {
          "base_uri": "https://localhost:8080/",
          "height": 17
        },
        "id": "KZPb8_XV6qAR",
        "outputId": "af242cc4-564e-4e87-919e-5d479b3d1c17"
      },
      "execution_count": null,
      "outputs": [
        {
          "output_type": "display_data",
          "data": {
            "text/plain": [
              "<IPython.core.display.HTML object>"
            ],
            "text/html": [
              "\n",
              "<style>\n",
              "    /* Turns off some styling */\n",
              "    progress {\n",
              "        /* gets rid of default border in Firefox and Opera. */\n",
              "        border: none;\n",
              "        /* Needs to be in here for Safari polyfill so background images work as expected. */\n",
              "        background-size: auto;\n",
              "    }\n",
              "    progress:not([value]), progress:not([value])::-webkit-progress-bar {\n",
              "        background: repeating-linear-gradient(45deg, #7e7e7e, #7e7e7e 10px, #5c5c5c 10px, #5c5c5c 20px);\n",
              "    }\n",
              "    .progress-bar-interrupted, .progress-bar-interrupted::-webkit-progress-bar {\n",
              "        background: #F44336;\n",
              "    }\n",
              "</style>\n"
            ]
          },
          "metadata": {}
        },
        {
          "output_type": "display_data",
          "data": {
            "text/plain": [
              "<IPython.core.display.HTML object>"
            ],
            "text/html": []
          },
          "metadata": {}
        }
      ]
    },
    {
      "cell_type": "code",
      "source": [
        "# Confusion matrix\n",
        "cm = interp.confusion_matrix()"
      ],
      "metadata": {
        "colab": {
          "base_uri": "https://localhost:8080/",
          "height": 17
        },
        "id": "R_sO1DnKAxB9",
        "outputId": "50ce2a44-d79b-42f0-cf77-1f9a638ba572"
      },
      "execution_count": null,
      "outputs": [
        {
          "output_type": "display_data",
          "data": {
            "text/plain": [
              "<IPython.core.display.HTML object>"
            ],
            "text/html": [
              "\n",
              "<style>\n",
              "    /* Turns off some styling */\n",
              "    progress {\n",
              "        /* gets rid of default border in Firefox and Opera. */\n",
              "        border: none;\n",
              "        /* Needs to be in here for Safari polyfill so background images work as expected. */\n",
              "        background-size: auto;\n",
              "    }\n",
              "    progress:not([value]), progress:not([value])::-webkit-progress-bar {\n",
              "        background: repeating-linear-gradient(45deg, #7e7e7e, #7e7e7e 10px, #5c5c5c 10px, #5c5c5c 20px);\n",
              "    }\n",
              "    .progress-bar-interrupted, .progress-bar-interrupted::-webkit-progress-bar {\n",
              "        background: #F44336;\n",
              "    }\n",
              "</style>\n"
            ]
          },
          "metadata": {}
        },
        {
          "output_type": "display_data",
          "data": {
            "text/plain": [
              "<IPython.core.display.HTML object>"
            ],
            "text/html": []
          },
          "metadata": {}
        }
      ]
    },
    {
      "cell_type": "code",
      "source": [
        "from sklearn.metrics import ConfusionMatrixDisplay\n",
        "\n",
        "# Declare Confusion Matrix Display object\n",
        "disp = ConfusionMatrixDisplay(confusion_matrix=cm,\n",
        "                              display_labels=range(10))\n",
        "# Plot\n",
        "disp.plot(cmap=plt.cm.Blues)\n",
        "# Save\n",
        "disp.figure_.savefig(fname=\"/content/cm.png\", dpi=800)"
      ],
      "metadata": {
        "colab": {
          "base_uri": "https://localhost:8080/",
          "height": 285
        },
        "id": "iJpS4KgnBe3D",
        "outputId": "f6265a79-04b1-4e14-f1c6-686a524986ca"
      },
      "execution_count": null,
      "outputs": [
        {
          "output_type": "display_data",
          "data": {
            "text/plain": [
              "<Figure size 432x288 with 2 Axes>"
            ],
            "image/png": "[encoded data removed]"
          },
          "metadata": {
            "needs_background": "light"
          }
        }
      ]
    },
    {
      "cell_type": "code",
      "source": [
        "# Uploads\n",
        "\n",
        "# Confusion matrix\n",
        "run[\"confusion_matrix\"].upload(value=File(path=\"/content/cm.png\"))"
      ],
      "metadata": {
        "id": "HGMwfSzo93zf"
      },
      "execution_count": null,
      "outputs": []
    },
    {
      "cell_type": "code",
      "source": [
        "# Most confused examples\n",
        "run[\"most_confused\"].upload(File.as_html(chart=mc))"
      ],
      "metadata": {
        "id": "vKir4kJpGdoU"
      },
      "execution_count": null,
      "outputs": []
    },
    {
      "cell_type": "code",
      "source": [
        "# Top Losses with images\n",
        "losses, idxs, paths = interp.top_losses(k=9, items=True)\n",
        "\n",
        "# Iterate through the examples\n",
        "for loss, idx, p in zip(losses, idxs, paths):\n",
        "    # Predict\n",
        "    y_pred = learn.predict(p)[0]\n",
        "    # Actual value\n",
        "    y_true = parent_label(o=p)\n",
        "    run[\"misclassified_imgs\"].append(\n",
        "        value=File(path=str(p)),\n",
        "        description=f\"Prediction: {y_pred}\\nActual: {y_true}\\nLoss: {loss}\",\n",
        "    )"
      ],
      "metadata": {
        "colab": {
          "base_uri": "https://localhost:8080/",
          "height": 17
        },
        "id": "fwBDLTjZIQOs",
        "outputId": "f0a4b6a0-afa9-4d21-dd1e-233e589de033"
      },
      "execution_count": null,
      "outputs": [
        {
          "output_type": "display_data",
          "data": {
            "text/plain": [
              "<IPython.core.display.HTML object>"
            ],
            "text/html": [
              "\n",
              "<style>\n",
              "    /* Turns off some styling */\n",
              "    progress {\n",
              "        /* gets rid of default border in Firefox and Opera. */\n",
              "        border: none;\n",
              "        /* Needs to be in here for Safari polyfill so background images work as expected. */\n",
              "        background-size: auto;\n",
              "    }\n",
              "    progress:not([value]), progress:not([value])::-webkit-progress-bar {\n",
              "        background: repeating-linear-gradient(45deg, #7e7e7e, #7e7e7e 10px, #5c5c5c 10px, #5c5c5c 20px);\n",
              "    }\n",
              "    .progress-bar-interrupted, .progress-bar-interrupted::-webkit-progress-bar {\n",
              "        background: #F44336;\n",
              "    }\n",
              "</style>\n"
            ]
          },
          "metadata": {}
        },
        {
          "output_type": "display_data",
          "data": {
            "text/plain": [
              "<IPython.core.display.HTML object>"
            ],
            "text/html": []
          },
          "metadata": {}
        },
        {
          "output_type": "display_data",
          "data": {
            "text/plain": [
              "<IPython.core.display.HTML object>"
            ],
            "text/html": [
              "\n",
              "<style>\n",
              "    /* Turns off some styling */\n",
              "    progress {\n",
              "        /* gets rid of default border in Firefox and Opera. */\n",
              "        border: none;\n",
              "        /* Needs to be in here for Safari polyfill so background images work as expected. */\n",
              "        background-size: auto;\n",
              "    }\n",
              "    progress:not([value]), progress:not([value])::-webkit-progress-bar {\n",
              "        background: repeating-linear-gradient(45deg, #7e7e7e, #7e7e7e 10px, #5c5c5c 10px, #5c5c5c 20px);\n",
              "    }\n",
              "    .progress-bar-interrupted, .progress-bar-interrupted::-webkit-progress-bar {\n",
              "        background: #F44336;\n",
              "    }\n",
              "</style>\n"
            ]
          },
          "metadata": {}
        },
        {
          "output_type": "display_data",
          "data": {
            "text/plain": [
              "<IPython.core.display.HTML object>"
            ],
            "text/html": []
          },
          "metadata": {}
        },
        {
          "output_type": "display_data",
          "data": {
            "text/plain": [
              "<IPython.core.display.HTML object>"
            ],
            "text/html": [
              "\n",
              "<style>\n",
              "    /* Turns off some styling */\n",
              "    progress {\n",
              "        /* gets rid of default border in Firefox and Opera. */\n",
              "        border: none;\n",
              "        /* Needs to be in here for Safari polyfill so background images work as expected. */\n",
              "        background-size: auto;\n",
              "    }\n",
              "    progress:not([value]), progress:not([value])::-webkit-progress-bar {\n",
              "        background: repeating-linear-gradient(45deg, #7e7e7e, #7e7e7e 10px, #5c5c5c 10px, #5c5c5c 20px);\n",
              "    }\n",
              "    .progress-bar-interrupted, .progress-bar-interrupted::-webkit-progress-bar {\n",
              "        background: #F44336;\n",
              "    }\n",
              "</style>\n"
            ]
          },
          "metadata": {}
        },
        {
          "output_type": "display_data",
          "data": {
            "text/plain": [
              "<IPython.core.display.HTML object>"
            ],
            "text/html": []
          },
          "metadata": {}
        },
        {
          "output_type": "display_data",
          "data": {
            "text/plain": [
              "<IPython.core.display.HTML object>"
            ],
            "text/html": [
              "\n",
              "<style>\n",
              "    /* Turns off some styling */\n",
              "    progress {\n",
              "        /* gets rid of default border in Firefox and Opera. */\n",
              "        border: none;\n",
              "        /* Needs to be in here for Safari polyfill so background images work as expected. */\n",
              "        background-size: auto;\n",
              "    }\n",
              "    progress:not([value]), progress:not([value])::-webkit-progress-bar {\n",
              "        background: repeating-linear-gradient(45deg, #7e7e7e, #7e7e7e 10px, #5c5c5c 10px, #5c5c5c 20px);\n",
              "    }\n",
              "    .progress-bar-interrupted, .progress-bar-interrupted::-webkit-progress-bar {\n",
              "        background: #F44336;\n",
              "    }\n",
              "</style>\n"
            ]
          },
          "metadata": {}
        },
        {
          "output_type": "display_data",
          "data": {
            "text/plain": [
              "<IPython.core.display.HTML object>"
            ],
            "text/html": []
          },
          "metadata": {}
        },
        {
          "output_type": "display_data",
          "data": {
            "text/plain": [
              "<IPython.core.display.HTML object>"
            ],
            "text/html": [
              "\n",
              "<style>\n",
              "    /* Turns off some styling */\n",
              "    progress {\n",
              "        /* gets rid of default border in Firefox and Opera. */\n",
              "        border: none;\n",
              "        /* Needs to be in here for Safari polyfill so background images work as expected. */\n",
              "        background-size: auto;\n",
              "    }\n",
              "    progress:not([value]), progress:not([value])::-webkit-progress-bar {\n",
              "        background: repeating-linear-gradient(45deg, #7e7e7e, #7e7e7e 10px, #5c5c5c 10px, #5c5c5c 20px);\n",
              "    }\n",
              "    .progress-bar-interrupted, .progress-bar-interrupted::-webkit-progress-bar {\n",
              "        background: #F44336;\n",
              "    }\n",
              "</style>\n"
            ]
          },
          "metadata": {}
        },
        {
          "output_type": "display_data",
          "data": {
            "text/plain": [
              "<IPython.core.display.HTML object>"
            ],
            "text/html": []
          },
          "metadata": {}
        },
        {
          "output_type": "display_data",
          "data": {
            "text/plain": [
              "<IPython.core.display.HTML object>"
            ],
            "text/html": [
              "\n",
              "<style>\n",
              "    /* Turns off some styling */\n",
              "    progress {\n",
              "        /* gets rid of default border in Firefox and Opera. */\n",
              "        border: none;\n",
              "        /* Needs to be in here for Safari polyfill so background images work as expected. */\n",
              "        background-size: auto;\n",
              "    }\n",
              "    progress:not([value]), progress:not([value])::-webkit-progress-bar {\n",
              "        background: repeating-linear-gradient(45deg, #7e7e7e, #7e7e7e 10px, #5c5c5c 10px, #5c5c5c 20px);\n",
              "    }\n",
              "    .progress-bar-interrupted, .progress-bar-interrupted::-webkit-progress-bar {\n",
              "        background: #F44336;\n",
              "    }\n",
              "</style>\n"
            ]
          },
          "metadata": {}
        },
        {
          "output_type": "display_data",
          "data": {
            "text/plain": [
              "<IPython.core.display.HTML object>"
            ],
            "text/html": []
          },
          "metadata": {}
        },
        {
          "output_type": "display_data",
          "data": {
            "text/plain": [
              "<IPython.core.display.HTML object>"
            ],
            "text/html": [
              "\n",
              "<style>\n",
              "    /* Turns off some styling */\n",
              "    progress {\n",
              "        /* gets rid of default border in Firefox and Opera. */\n",
              "        border: none;\n",
              "        /* Needs to be in here for Safari polyfill so background images work as expected. */\n",
              "        background-size: auto;\n",
              "    }\n",
              "    progress:not([value]), progress:not([value])::-webkit-progress-bar {\n",
              "        background: repeating-linear-gradient(45deg, #7e7e7e, #7e7e7e 10px, #5c5c5c 10px, #5c5c5c 20px);\n",
              "    }\n",
              "    .progress-bar-interrupted, .progress-bar-interrupted::-webkit-progress-bar {\n",
              "        background: #F44336;\n",
              "    }\n",
              "</style>\n"
            ]
          },
          "metadata": {}
        },
        {
          "output_type": "display_data",
          "data": {
            "text/plain": [
              "<IPython.core.display.HTML object>"
            ],
            "text/html": []
          },
          "metadata": {}
        },
        {
          "output_type": "display_data",
          "data": {
            "text/plain": [
              "<IPython.core.display.HTML object>"
            ],
            "text/html": [
              "\n",
              "<style>\n",
              "    /* Turns off some styling */\n",
              "    progress {\n",
              "        /* gets rid of default border in Firefox and Opera. */\n",
              "        border: none;\n",
              "        /* Needs to be in here for Safari polyfill so background images work as expected. */\n",
              "        background-size: auto;\n",
              "    }\n",
              "    progress:not([value]), progress:not([value])::-webkit-progress-bar {\n",
              "        background: repeating-linear-gradient(45deg, #7e7e7e, #7e7e7e 10px, #5c5c5c 10px, #5c5c5c 20px);\n",
              "    }\n",
              "    .progress-bar-interrupted, .progress-bar-interrupted::-webkit-progress-bar {\n",
              "        background: #F44336;\n",
              "    }\n",
              "</style>\n"
            ]
          },
          "metadata": {}
        },
        {
          "output_type": "display_data",
          "data": {
            "text/plain": [
              "<IPython.core.display.HTML object>"
            ],
            "text/html": []
          },
          "metadata": {}
        },
        {
          "output_type": "display_data",
          "data": {
            "text/plain": [
              "<IPython.core.display.HTML object>"
            ],
            "text/html": [
              "\n",
              "<style>\n",
              "    /* Turns off some styling */\n",
              "    progress {\n",
              "        /* gets rid of default border in Firefox and Opera. */\n",
              "        border: none;\n",
              "        /* Needs to be in here for Safari polyfill so background images work as expected. */\n",
              "        background-size: auto;\n",
              "    }\n",
              "    progress:not([value]), progress:not([value])::-webkit-progress-bar {\n",
              "        background: repeating-linear-gradient(45deg, #7e7e7e, #7e7e7e 10px, #5c5c5c 10px, #5c5c5c 20px);\n",
              "    }\n",
              "    .progress-bar-interrupted, .progress-bar-interrupted::-webkit-progress-bar {\n",
              "        background: #F44336;\n",
              "    }\n",
              "</style>\n"
            ]
          },
          "metadata": {}
        },
        {
          "output_type": "display_data",
          "data": {
            "text/plain": [
              "<IPython.core.display.HTML object>"
            ],
            "text/html": []
          },
          "metadata": {}
        }
      ]
    },
    {
      "cell_type": "code",
      "source": [
        "# Remove Neptune cb\n",
        "learn.remove_cb(neptune_callback)\n",
        "# Upload the model\n",
        "run[\"model/fastai-resnet18-mnist\"].upload(File.as_pickle(obj=learn))"
      ],
      "metadata": {
        "id": "rmmGsHQPLoks"
      },
      "execution_count": null,
      "outputs": []
    },
    {
      "cell_type": "code",
      "source": [
        "# Stop the session\n",
        "run.stop()"
      ],
      "metadata": {
        "colab": {
          "base_uri": "https://localhost:8080/"
        },
        "id": "7Wu1wKpMMjj8",
        "outputId": "a3cd7a64-6d35-42d9-bce8-49bcd3183357"
      },
      "execution_count": null,
      "outputs": [
        {
          "output_type": "stream",
          "name": "stdout",
          "text": [
            "Shutting down background jobs, please wait a moment...\n",
            "Done!\n",
            "Waiting for the remaining 4 operations to synchronize with Neptune. Do not kill this process.\n",
            "All 4 operations synced, thanks for waiting!\n",
            "Explore the metadata in the Neptune app:\n",
            "https://new-ui.neptune.ai/wai/example/e/EX-3/metadata\n"
          ]
        }
      ]
    },
    {
      "cell_type": "code",
      "source": [
        "# Save the model\n",
        "learn.save(file=\"/content/gdrive/MyDrive/YouTube/mLPlaylist/video-4-kaggle-mnist-fastai\")"
      ],
      "metadata": {
        "colab": {
          "base_uri": "https://localhost:8080/"
        },
        "id": "Vjs2wkAcMUUQ",
        "outputId": "e0a92e23-165b-4b7c-e2f8-5837364c823f"
      },
      "execution_count": null,
      "outputs": [
        {
          "output_type": "execute_result",
          "data": {
            "text/plain": [
              "Path('/content/gdrive/MyDrive/YouTube/mLPlaylist/video-4-kaggle-mnist-fastai.pth')"
            ]
          },
          "metadata": {},
          "execution_count": 72
        }
      ]
    },
    {
      "cell_type": "code",
      "source": [
        "# Declare an empty ResNet-18\n",
        "learn1 = vision_learner(dls=dls, arch=resnet18)\n",
        "# Load the params from the previous training\n",
        "learn1 = learn1.load(\"/content/gdrive/MyDrive/YouTube/mLPlaylist/video-4-kaggle-mnist-fastai\")"
      ],
      "metadata": {
        "colab": {
          "base_uri": "https://localhost:8080/",
          "height": 156,
          "referenced_widgets": [
            "82a8b1212dba422b9f3d3561e8d8c7f8",
            "7b89c2f866d64df59e68a6e7054a6514",
            "a9ca9ff55a294d2982caefbbc01e0bbb",
            "6f63f99879d44e129c05a9174feee749",
            "b7db601b540c4f66b76ec4704f1f0e88",
            "18a785783cff4d5ba70cd94990a2ba78",
            "7e9d369c5ca44e14959d49681aa31f75",
            "261cad987bf64b9f8ef60ac1fa656601",
            "293a679fdcb44cada78feca5b6233b8e",
            "9526e387dea04037946c27c3be09b1d4",
            "5e91dbe69d34462fbc55197f606ba254"
          ]
        },
        "id": "nwprT1YSMwLC",
        "outputId": "e0732aa4-f279-4209-a2d8-3c5e95ae0232"
      },
      "execution_count": null,
      "outputs": [
        {
          "output_type": "stream",
          "name": "stderr",
          "text": [
            "/usr/local/lib/python3.8/dist-packages/torchvision/models/_utils.py:208: UserWarning: The parameter 'pretrained' is deprecated since 0.13 and may be removed in the future, please use 'weights' instead.\n",
            "  warnings.warn(\n",
            "/usr/local/lib/python3.8/dist-packages/torchvision/models/_utils.py:223: UserWarning: Arguments other than a weight enum or `None` for 'weights' are deprecated since 0.13 and may be removed in the future. The current behavior is equivalent to passing `weights=ResNet18_Weights.IMAGENET1K_V1`. You can also use `weights=ResNet18_Weights.DEFAULT` to get the most up-to-date weights.\n",
            "  warnings.warn(msg)\n",
            "Downloading: \"https://download.pytorch.org/models/resnet18-f37072fd.pth\" to /root/.cache/torch/hub/checkpoints/resnet18-f37072fd.pth\n"
          ]
        },
        {
          "output_type": "display_data",
          "data": {
            "text/plain": [
              "  0%|          | 0.00/44.7M [00:00<?, ?B/s]"
            ],
            "application/vnd.jupyter.widget-view+json": {
              "version_major": 2,
              "version_minor": 0,
              "model_id": "82a8b1212dba422b9f3d3561e8d8c7f8"
            }
          },
          "metadata": {}
        }
      ]
    },
    {
      "cell_type": "markdown",
      "source": [
        "# Testing & Kaggle Upload"
      ],
      "metadata": {
        "id": "1kRLrcB8CMkP"
      }
    },
    {
      "cell_type": "code",
      "source": [
        "# Save test images\n",
        "save_images(df=pd.read_csv(path/\"test.csv\", low_memory=False),\n",
        "            folder_name=\"testing\")\n",
        "# Trace the results\n",
        "test_files = [path/f\"testing/None/{i}.png\" for i in range(28000)]; test_files[:5]"
      ],
      "metadata": {
        "colab": {
          "base_uri": "https://localhost:8080/"
        },
        "id": "fLX_To6TxvSr",
        "outputId": "f939f625-d2c2-4063-9707-e1594ace5c55"
      },
      "execution_count": null,
      "outputs": [
        {
          "output_type": "execute_result",
          "data": {
            "text/plain": [
              "[Path('/root/.fastai/archive/digit-recognizer/testing/None/0.png'),\n",
              " Path('/root/.fastai/archive/digit-recognizer/testing/None/1.png'),\n",
              " Path('/root/.fastai/archive/digit-recognizer/testing/None/2.png'),\n",
              " Path('/root/.fastai/archive/digit-recognizer/testing/None/3.png'),\n",
              " Path('/root/.fastai/archive/digit-recognizer/testing/None/4.png')]"
            ]
          },
          "metadata": {},
          "execution_count": 102
        }
      ]
    },
    {
      "cell_type": "code",
      "source": [
        "# Construct the DataLoader\n",
        "test_dls = learn.dls.test_dl(test_items=test_files, shuffle=False)"
      ],
      "metadata": {
        "id": "O5Z5vGqAWAwO"
      },
      "execution_count": null,
      "outputs": []
    },
    {
      "cell_type": "code",
      "source": [
        "test_dls.show_batch()"
      ],
      "metadata": {
        "colab": {
          "base_uri": "https://localhost:8080/",
          "height": 520
        },
        "id": "QqcdKFFBzAgp",
        "outputId": "48859597-c793-436e-f274-ff41303e96e8"
      },
      "execution_count": null,
      "outputs": [
        {
          "output_type": "display_data",
          "data": {
            "text/plain": [
              "<Figure size 648x648 with 9 Axes>"
            ],
            "image/png": "[encoded data removed]"
          },
          "metadata": {
            "needs_background": "light"
          }
        }
      ]
    },
    {
      "cell_type": "code",
      "source": [
        "# Predictions\n",
        "preds = learn.get_preds(dl=test_dls)\n",
        "# Trace results\n",
        "np.argmax(preds[0], axis=-1).numpy()[:5]"
      ],
      "metadata": {
        "colab": {
          "base_uri": "https://localhost:8080/",
          "height": 35
        },
        "id": "KFiYr8NkkFcb",
        "outputId": "8deea4ee-a067-4746-fd04-ce27eb0a4ebe"
      },
      "execution_count": null,
      "outputs": [
        {
          "output_type": "display_data",
          "data": {
            "text/plain": [
              "<IPython.core.display.HTML object>"
            ],
            "text/html": [
              "\n",
              "<style>\n",
              "    /* Turns off some styling */\n",
              "    progress {\n",
              "        /* gets rid of default border in Firefox and Opera. */\n",
              "        border: none;\n",
              "        /* Needs to be in here for Safari polyfill so background images work as expected. */\n",
              "        background-size: auto;\n",
              "    }\n",
              "    progress:not([value]), progress:not([value])::-webkit-progress-bar {\n",
              "        background: repeating-linear-gradient(45deg, #7e7e7e, #7e7e7e 10px, #5c5c5c 10px, #5c5c5c 20px);\n",
              "    }\n",
              "    .progress-bar-interrupted, .progress-bar-interrupted::-webkit-progress-bar {\n",
              "        background: #F44336;\n",
              "    }\n",
              "</style>\n"
            ]
          },
          "metadata": {}
        },
        {
          "output_type": "display_data",
          "data": {
            "text/plain": [
              "<IPython.core.display.HTML object>"
            ],
            "text/html": []
          },
          "metadata": {}
        },
        {
          "output_type": "execute_result",
          "data": {
            "text/plain": [
              "array([2, 0, 9, 0, 3])"
            ]
          },
          "metadata": {},
          "execution_count": 106
        }
      ]
    },
    {
      "cell_type": "code",
      "source": [
        "submission = pd.read_csv(path/\"sample_submission.csv\")\n",
        "submission[\"Label\"] = np.argmax(preds[0], axis=-1).numpy()\n",
        "# Trace the results\n",
        "submission.head(n=5)"
      ],
      "metadata": {
        "colab": {
          "base_uri": "https://localhost:8080/",
          "height": 206
        },
        "id": "qSWiManAzcLv",
        "outputId": "9342e45b-2d0b-49e5-c4cf-8340a9d6cb1a"
      },
      "execution_count": null,
      "outputs": [
        {
          "output_type": "execute_result",
          "data": {
            "text/plain": [
              "   ImageId  Label\n",
              "0        1      2\n",
              "1        2      0\n",
              "2        3      9\n",
              "3        4      0\n",
              "4        5      3"
            ],
            "text/html": [
              "\n",
              "  <div id=\"df-f7bcf911-0e0b-49f7-ac40-2031d9cc6f4b\">\n",
              "    <div class=\"colab-df-container\">\n",
              "      <div>\n",
              "<style scoped>\n",
              "    .dataframe tbody tr th:only-of-type {\n",
              "        vertical-align: middle;\n",
              "    }\n",
              "\n",
              "    .dataframe tbody tr th {\n",
              "        vertical-align: top;\n",
              "    }\n",
              "\n",
              "    .dataframe thead th {\n",
              "        text-align: right;\n",
              "    }\n",
              "</style>\n",
              "<table border=\"1\" class=\"dataframe\">\n",
              "  <thead>\n",
              "    <tr style=\"text-align: right;\">\n",
              "      <th></th>\n",
              "      <th>ImageId</th>\n",
              "      <th>Label</th>\n",
              "    </tr>\n",
              "  </thead>\n",
              "  <tbody>\n",
              "    <tr>\n",
              "      <th>0</th>\n",
              "      <td>1</td>\n",
              "      <td>2</td>\n",
              "    </tr>\n",
              "    <tr>\n",
              "      <th>1</th>\n",
              "      <td>2</td>\n",
              "      <td>0</td>\n",
              "    </tr>\n",
              "    <tr>\n",
              "      <th>2</th>\n",
              "      <td>3</td>\n",
              "      <td>9</td>\n",
              "    </tr>\n",
              "    <tr>\n",
              "      <th>3</th>\n",
              "      <td>4</td>\n",
              "      <td>0</td>\n",
              "    </tr>\n",
              "    <tr>\n",
              "      <th>4</th>\n",
              "      <td>5</td>\n",
              "      <td>3</td>\n",
              "    </tr>\n",
              "  </tbody>\n",
              "</table>\n",
              "</div>\n",
              "      <button class=\"colab-df-convert\" onclick=\"convertToInteractive('df-f7bcf911-0e0b-49f7-ac40-2031d9cc6f4b')\"\n",
              "              title=\"Convert this dataframe to an interactive table.\"\n",
              "              style=\"display:none;\">\n",
              "        \n",
              "  <svg xmlns=\"http://www.w3.org/2000/svg\" height=\"24px\"viewBox=\"0 0 24 24\"\n",
              "       width=\"24px\">\n",
              "    <path d=\"M0 0h24v24H0V0z\" fill=\"none\"/>\n",
              "    <path d=\"M18.56 5.44l.94 2.06.94-2.06 2.06-.94-2.06-.94-.94-2.06-.94 2.06-2.06.94zm-11 1L8.5 8.5l.94-2.06 2.06-.94-2.06-.94L8.5 2.5l-.94 2.06-2.06.94zm10 10l.94 2.06.94-2.06 2.06-.94-2.06-.94-.94-2.06-.94 2.06-2.06.94z\"/><path d=\"M17.41 7.96l-1.37-1.37c-.4-.4-.92-.59-1.43-.59-.52 0-1.04.2-1.43.59L10.3 9.45l-7.72 7.72c-.78.78-.78 2.05 0 2.83L4 21.41c.39.39.9.59 1.41.59.51 0 1.02-.2 1.41-.59l7.78-7.78 2.81-2.81c.8-.78.8-2.07 0-2.86zM5.41 20L4 18.59l7.72-7.72 1.47 1.35L5.41 20z\"/>\n",
              "  </svg>\n",
              "      </button>\n",
              "      \n",
              "  <style>\n",
              "    .colab-df-container {\n",
              "      display:flex;\n",
              "      flex-wrap:wrap;\n",
              "      gap: 12px;\n",
              "    }\n",
              "\n",
              "    .colab-df-convert {\n",
              "      background-color: #E8F0FE;\n",
              "      border: none;\n",
              "      border-radius: 50%;\n",
              "      cursor: pointer;\n",
              "      display: none;\n",
              "      fill: #1967D2;\n",
              "      height: 32px;\n",
              "      padding: 0 0 0 0;\n",
              "      width: 32px;\n",
              "    }\n",
              "\n",
              "    .colab-df-convert:hover {\n",
              "      background-color: #E2EBFA;\n",
              "      box-shadow: 0px 1px 2px rgba(60, 64, 67, 0.3), 0px 1px 3px 1px rgba(60, 64, 67, 0.15);\n",
              "      fill: #174EA6;\n",
              "    }\n",
              "\n",
              "    [theme=dark] .colab-df-convert {\n",
              "      background-color: #3B4455;\n",
              "      fill: #D2E3FC;\n",
              "    }\n",
              "\n",
              "    [theme=dark] .colab-df-convert:hover {\n",
              "      background-color: #434B5C;\n",
              "      box-shadow: 0px 1px 3px 1px rgba(0, 0, 0, 0.15);\n",
              "      filter: drop-shadow(0px 1px 2px rgba(0, 0, 0, 0.3));\n",
              "      fill: #FFFFFF;\n",
              "    }\n",
              "  </style>\n",
              "\n",
              "      <script>\n",
              "        const buttonEl =\n",
              "          document.querySelector('#df-f7bcf911-0e0b-49f7-ac40-2031d9cc6f4b button.colab-df-convert');\n",
              "        buttonEl.style.display =\n",
              "          google.colab.kernel.accessAllowed ? 'block' : 'none';\n",
              "\n",
              "        async function convertToInteractive(key) {\n",
              "          const element = document.querySelector('#df-f7bcf911-0e0b-49f7-ac40-2031d9cc6f4b');\n",
              "          const dataTable =\n",
              "            await google.colab.kernel.invokeFunction('convertToInteractive',\n",
              "                                                     [key], {});\n",
              "          if (!dataTable) return;\n",
              "\n",
              "          const docLinkHtml = 'Like what you see? Visit the ' +\n",
              "            '<a target=\"_blank\" href=https://colab.research.google.com/notebooks/data_table.ipynb>data table notebook</a>'\n",
              "            + ' to learn more about interactive tables.';\n",
              "          element.innerHTML = '';\n",
              "          dataTable['output_type'] = 'display_data';\n",
              "          await google.colab.output.renderOutput(dataTable, element);\n",
              "          const docLink = document.createElement('div');\n",
              "          docLink.innerHTML = docLinkHtml;\n",
              "          element.appendChild(docLink);\n",
              "        }\n",
              "      </script>\n",
              "    </div>\n",
              "  </div>\n",
              "  "
            ]
          },
          "metadata": {},
          "execution_count": 107
        }
      ]
    },
    {
      "cell_type": "code",
      "source": [
        "submission.to_csv(\"kaggle-mnist-resnet18-submission.csv\", index=False)"
      ],
      "metadata": {
        "id": "3M-RzFTk0eQc"
      },
      "execution_count": null,
      "outputs": []
    },
    {
      "cell_type": "code",
      "source": [
        "!kaggle competitions submit -c digit-recognizer -f /content/kaggle-mnist-resnet18-submission.csv -m kaggle-mnist-resnet18-submission-test"
      ],
      "metadata": {
        "colab": {
          "base_uri": "https://localhost:8080/"
        },
        "id": "Pe2pUgkE0We8",
        "outputId": "2baea7f7-e48e-40f1-8f5e-cfa4e58dbab9"
      },
      "execution_count": null,
      "outputs": [
        {
          "output_type": "stream",
          "name": "stdout",
          "text": [
            "100% 208k/208k [00:00<00:00, 284kB/s]\n",
            "Successfully submitted to Digit Recognizer"
          ]
        }
      ]
    }
  ]
}