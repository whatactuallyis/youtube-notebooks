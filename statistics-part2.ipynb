{
  "nbformat": 4,
  "nbformat_minor": 0,
  "metadata": {
    "colab": {
      "provenance": []
    },
    "kernelspec": {
      "name": "python3",
      "display_name": "Python 3"
    },
    "language_info": {
      "name": "python"
    }
  },
  "cells": [
    {
      "cell_type": "markdown",
      "source": [
        "# What is distribution and why are they important in statistics?\n",
        "\n",
        "![](https://drive.google.com/uc?id=1J8S0HuXlhjnciRF1tcdT90q3U1obow3D)"
      ],
      "metadata": {
        "id": "91Gs-fkiKP4N"
      }
    },
    {
      "cell_type": "code",
      "source": [
        "# Normal distribution\n",
        "\n",
        "# Import the modules\n",
        "import matplotlib.pyplot as plt\n",
        "from scipy.stats import norm\n",
        "\n",
        "# Figure setup\n",
        "fig, axes = plt.subplots(nrows=1, ncols=2, figsize=(12, 4))\n",
        "# Declare a normal distributed sample\n",
        "dist = norm.rvs(loc=7, scale=2, size=1000, random_state=43)\n",
        "# Histogram view w/ density\n",
        "axes[0].hist(x=dist, bins=20, density=True)\n",
        "# Histogram view w/ cumulative\n",
        "axes[1].hist(x=dist, bins=20, density=True, cumulative=True)\n",
        "# X-lim\n",
        "axes[0].set_xlim(xmin=0., xmax=14.) # Left side\n",
        "# Y-lim\n",
        "axes[0].set_ylim(ymin=0., ymax=.25) # Left side\n",
        "# Y label\n",
        "axes[0].set_ylabel(ylabel=\"Density\") # Left side\n",
        "# X labels\n",
        "axes[0].set_xlabel(xlabel=\"Data\")\n",
        "axes[1].set_xlabel(xlabel=\"Data\")\n",
        "# Titles\n",
        "axes[0].set_title(label=\"PDF\")\n",
        "axes[1].set_title(label=\"CDF\")\n",
        "\n",
        "# Show the plot\n",
        "plt.show()"
      ],
      "metadata": {
        "colab": {
          "base_uri": "https://localhost:8080/",
          "height": 295
        },
        "id": "8ihldBTaKPZL",
        "outputId": "cafaaf07-4960-4a08-d787-7cf6cd5ede99"
      },
      "execution_count": null,
      "outputs": [
        {
          "output_type": "display_data",
          "data": {
            "text/plain": [
              "<Figure size 864x288 with 2 Axes>"
            ],
            "image/png": "[encoded data removed]"
          },
          "metadata": {
            "needs_background": "light"
          }
        }
      ]
    },
    {
      "cell_type": "code",
      "source": [
        "# PPF vs CDF\n",
        "print(norm.ppf(0.95), norm.cdf(1.6448536269514722))"
      ],
      "metadata": {
        "colab": {
          "base_uri": "https://localhost:8080/"
        },
        "id": "frKUlrJLY0iJ",
        "outputId": "a9fa3314-fb5e-478c-9c32-9a542aafde45"
      },
      "execution_count": null,
      "outputs": [
        {
          "output_type": "stream",
          "name": "stdout",
          "text": [
            "1.6448536269514722 0.95\n"
          ]
        }
      ]
    },
    {
      "cell_type": "markdown",
      "source": [
        "# Z-score Table\n",
        "\n",
        "![](https://drive.google.com/uc?id=1uNux9B0tZgBycU5fQ6TpZEpomSizYZj0)\n",
        "\n",
        "Source: https://www.z-table.com/"
      ],
      "metadata": {
        "id": "9Jt-_fy8IcEv"
      }
    },
    {
      "cell_type": "code",
      "source": [
        "# Import the modules\n",
        "from scipy.stats import zscore\n",
        "from seaborn import histplot\n",
        "\n",
        "# Randomly generate a data with mean 85 +/- 50\n",
        "rand_data = norm.rvs(loc=120, scale=30, size=1000, random_state=43)\n",
        "\n",
        "# Visualize the original and the zcore as histograms\n",
        "# Figure setup\n",
        "fig, axes = plt.subplots(nrows=1, ncols=2, figsize=(12, 4))\n",
        "# Histogram of the original data\n",
        "histplot(x=rand_data, kde=True, stat=\"density\", ax=axes[0])\n",
        "# X and y lims\n",
        "axes[0].set_xlim(xmin=25., xmax=225.)\n",
        "axes[0].set_ylim(ymin=0., ymax=0.016)\n",
        "# X label\n",
        "axes[0].set_xlabel(xlabel=\"Data\")\n",
        "# Histogram of the zcores\n",
        "histplot(zscore(rand_data), stat=\"density\", ax=axes[1])\n",
        "# X and y lims\n",
        "axes[1].set_xlim(xmin=-3.2, xmax=3.)\n",
        "axes[1].set_ylim(ymin=0., ymax=0.5)\n",
        "# X label\n",
        "axes[1].set_xlabel(xlabel=\"Z-score\")\n",
        "\n",
        "# Show the plot\n",
        "plt.show()"
      ],
      "metadata": {
        "colab": {
          "base_uri": "https://localhost:8080/",
          "height": 283
        },
        "id": "pXsfElktK_Ja",
        "outputId": "86ecb647-1356-45e7-9063-1a06b8efd2e8"
      },
      "execution_count": null,
      "outputs": [
        {
          "output_type": "display_data",
          "data": {
            "text/plain": [
              "<Figure size 864x288 with 2 Axes>"
            ],
            "image/png": "[encoded data removed]"
          },
          "metadata": {
            "needs_background": "light"
          }
        }
      ]
    },
    {
      "cell_type": "markdown",
      "source": [
        "# Confidence Interval\n",
        "\n",
        "![](https://drive.google.com/uc?id=1eqc1-psJyYM6V37UBIWKeQI1qFppyAro)\n",
        "\n",
        "Source: https://tr.wikipedia.org/wiki/Hata_pay%C4%B1"
      ],
      "metadata": {
        "id": "bJ-eq6g0WlmA"
      }
    },
    {
      "cell_type": "markdown",
      "source": [
        "# Real data example"
      ],
      "metadata": {
        "id": "o0hwg7psZnsY"
      }
    },
    {
      "cell_type": "code",
      "execution_count": null,
      "metadata": {
        "colab": {
          "base_uri": "https://localhost:8080/"
        },
        "id": "nuCyof9k3a59",
        "outputId": "d977ca52-eb5b-4910-86ac-485e7c67fd18"
      },
      "outputs": [
        {
          "output_type": "stream",
          "name": "stdout",
          "text": [
            "Mounted at /content/gdrive\n"
          ]
        }
      ],
      "source": [
        "# Mount Google Drive\n",
        "from google.colab import drive\n",
        "drive.mount('/content/gdrive')"
      ]
    },
    {
      "cell_type": "code",
      "source": [
        "# Copy the dataset to \"/content/\" path\n",
        "!cp /content/gdrive/MyDrive/YouTube/dataAnalysisPlaylist/practical-statistics-for-data-scientists/heart.csv /content/heart.csv\n",
        "\n",
        "# Unmount the gdrive\n",
        "drive.flush_and_unmount()"
      ],
      "metadata": {
        "id": "yINMuElz4Fll"
      },
      "execution_count": null,
      "outputs": []
    },
    {
      "cell_type": "code",
      "source": [
        "# Import the modules\n",
        "import pandas as pd\n",
        "\n",
        "# Read the data\n",
        "# Source: https://www.kaggle.com/datasets/johnsmith88/heart-disease-dataset\n",
        "data = pd.read_csv(\"/content/heart.csv\"); data.sample(n=5, random_state=43)"
      ],
      "metadata": {
        "colab": {
          "base_uri": "https://localhost:8080/",
          "height": 206
        },
        "id": "g_PsnFh44x1F",
        "outputId": "4af01138-a243-428c-faa3-1bdf41a82a1e"
      },
      "execution_count": null,
      "outputs": [
        {
          "output_type": "execute_result",
          "data": {
            "text/plain": [
              "     age  sex  cp  trestbps  chol  fbs  restecg  thalach  exang  oldpeak  \\\n",
              "547   67    0   0       106   223    0        1      142      0      0.3   \n",
              "109   54    1   0       110   206    0        0      108      1      0.0   \n",
              "348   43    1   0       132   247    1        0      143      1      0.1   \n",
              "138   47    1   2       138   257    0        0      156      0      0.0   \n",
              "734   52    1   0       128   204    1        1      156      1      1.0   \n",
              "\n",
              "     slope  ca  thal  target  \n",
              "547      2   2     2       1  \n",
              "109      1   1     2       0  \n",
              "348      1   4     3       0  \n",
              "138      2   0     2       1  \n",
              "734      1   0     0       0  "
            ],
            "text/html": [
              "\n",
              "  <div id=\"df-73ff89aa-64a7-4652-9a46-74c3842a0cd5\">\n",
              "    <div class=\"colab-df-container\">\n",
              "      <div>\n",
              "<style scoped>\n",
              "    .dataframe tbody tr th:only-of-type {\n",
              "        vertical-align: middle;\n",
              "    }\n",
              "\n",
              "    .dataframe tbody tr th {\n",
              "        vertical-align: top;\n",
              "    }\n",
              "\n",
              "    .dataframe thead th {\n",
              "        text-align: right;\n",
              "    }\n",
              "</style>\n",
              "<table border=\"1\" class=\"dataframe\">\n",
              "  <thead>\n",
              "    <tr style=\"text-align: right;\">\n",
              "      <th></th>\n",
              "      <th>age</th>\n",
              "      <th>sex</th>\n",
              "      <th>cp</th>\n",
              "      <th>trestbps</th>\n",
              "      <th>chol</th>\n",
              "      <th>fbs</th>\n",
              "      <th>restecg</th>\n",
              "      <th>thalach</th>\n",
              "      <th>exang</th>\n",
              "      <th>oldpeak</th>\n",
              "      <th>slope</th>\n",
              "      <th>ca</th>\n",
              "      <th>thal</th>\n",
              "      <th>target</th>\n",
              "    </tr>\n",
              "  </thead>\n",
              "  <tbody>\n",
              "    <tr>\n",
              "      <th>547</th>\n",
              "      <td>67</td>\n",
              "      <td>0</td>\n",
              "      <td>0</td>\n",
              "      <td>106</td>\n",
              "      <td>223</td>\n",
              "      <td>0</td>\n",
              "      <td>1</td>\n",
              "      <td>142</td>\n",
              "      <td>0</td>\n",
              "      <td>0.3</td>\n",
              "      <td>2</td>\n",
              "      <td>2</td>\n",
              "      <td>2</td>\n",
              "      <td>1</td>\n",
              "    </tr>\n",
              "    <tr>\n",
              "      <th>109</th>\n",
              "      <td>54</td>\n",
              "      <td>1</td>\n",
              "      <td>0</td>\n",
              "      <td>110</td>\n",
              "      <td>206</td>\n",
              "      <td>0</td>\n",
              "      <td>0</td>\n",
              "      <td>108</td>\n",
              "      <td>1</td>\n",
              "      <td>0.0</td>\n",
              "      <td>1</td>\n",
              "      <td>1</td>\n",
              "      <td>2</td>\n",
              "      <td>0</td>\n",
              "    </tr>\n",
              "    <tr>\n",
              "      <th>348</th>\n",
              "      <td>43</td>\n",
              "      <td>1</td>\n",
              "      <td>0</td>\n",
              "      <td>132</td>\n",
              "      <td>247</td>\n",
              "      <td>1</td>\n",
              "      <td>0</td>\n",
              "      <td>143</td>\n",
              "      <td>1</td>\n",
              "      <td>0.1</td>\n",
              "      <td>1</td>\n",
              "      <td>4</td>\n",
              "      <td>3</td>\n",
              "      <td>0</td>\n",
              "    </tr>\n",
              "    <tr>\n",
              "      <th>138</th>\n",
              "      <td>47</td>\n",
              "      <td>1</td>\n",
              "      <td>2</td>\n",
              "      <td>138</td>\n",
              "      <td>257</td>\n",
              "      <td>0</td>\n",
              "      <td>0</td>\n",
              "      <td>156</td>\n",
              "      <td>0</td>\n",
              "      <td>0.0</td>\n",
              "      <td>2</td>\n",
              "      <td>0</td>\n",
              "      <td>2</td>\n",
              "      <td>1</td>\n",
              "    </tr>\n",
              "    <tr>\n",
              "      <th>734</th>\n",
              "      <td>52</td>\n",
              "      <td>1</td>\n",
              "      <td>0</td>\n",
              "      <td>128</td>\n",
              "      <td>204</td>\n",
              "      <td>1</td>\n",
              "      <td>1</td>\n",
              "      <td>156</td>\n",
              "      <td>1</td>\n",
              "      <td>1.0</td>\n",
              "      <td>1</td>\n",
              "      <td>0</td>\n",
              "      <td>0</td>\n",
              "      <td>0</td>\n",
              "    </tr>\n",
              "  </tbody>\n",
              "</table>\n",
              "</div>\n",
              "      <button class=\"colab-df-convert\" onclick=\"convertToInteractive('df-73ff89aa-64a7-4652-9a46-74c3842a0cd5')\"\n",
              "              title=\"Convert this dataframe to an interactive table.\"\n",
              "              style=\"display:none;\">\n",
              "        \n",
              "  <svg xmlns=\"http://www.w3.org/2000/svg\" height=\"24px\"viewBox=\"0 0 24 24\"\n",
              "       width=\"24px\">\n",
              "    <path d=\"M0 0h24v24H0V0z\" fill=\"none\"/>\n",
              "    <path d=\"M18.56 5.44l.94 2.06.94-2.06 2.06-.94-2.06-.94-.94-2.06-.94 2.06-2.06.94zm-11 1L8.5 8.5l.94-2.06 2.06-.94-2.06-.94L8.5 2.5l-.94 2.06-2.06.94zm10 10l.94 2.06.94-2.06 2.06-.94-2.06-.94-.94-2.06-.94 2.06-2.06.94z\"/><path d=\"M17.41 7.96l-1.37-1.37c-.4-.4-.92-.59-1.43-.59-.52 0-1.04.2-1.43.59L10.3 9.45l-7.72 7.72c-.78.78-.78 2.05 0 2.83L4 21.41c.39.39.9.59 1.41.59.51 0 1.02-.2 1.41-.59l7.78-7.78 2.81-2.81c.8-.78.8-2.07 0-2.86zM5.41 20L4 18.59l7.72-7.72 1.47 1.35L5.41 20z\"/>\n",
              "  </svg>\n",
              "      </button>\n",
              "      \n",
              "  <style>\n",
              "    .colab-df-container {\n",
              "      display:flex;\n",
              "      flex-wrap:wrap;\n",
              "      gap: 12px;\n",
              "    }\n",
              "\n",
              "    .colab-df-convert {\n",
              "      background-color: #E8F0FE;\n",
              "      border: none;\n",
              "      border-radius: 50%;\n",
              "      cursor: pointer;\n",
              "      display: none;\n",
              "      fill: #1967D2;\n",
              "      height: 32px;\n",
              "      padding: 0 0 0 0;\n",
              "      width: 32px;\n",
              "    }\n",
              "\n",
              "    .colab-df-convert:hover {\n",
              "      background-color: #E2EBFA;\n",
              "      box-shadow: 0px 1px 2px rgba(60, 64, 67, 0.3), 0px 1px 3px 1px rgba(60, 64, 67, 0.15);\n",
              "      fill: #174EA6;\n",
              "    }\n",
              "\n",
              "    [theme=dark] .colab-df-convert {\n",
              "      background-color: #3B4455;\n",
              "      fill: #D2E3FC;\n",
              "    }\n",
              "\n",
              "    [theme=dark] .colab-df-convert:hover {\n",
              "      background-color: #434B5C;\n",
              "      box-shadow: 0px 1px 3px 1px rgba(0, 0, 0, 0.15);\n",
              "      filter: drop-shadow(0px 1px 2px rgba(0, 0, 0, 0.3));\n",
              "      fill: #FFFFFF;\n",
              "    }\n",
              "  </style>\n",
              "\n",
              "      <script>\n",
              "        const buttonEl =\n",
              "          document.querySelector('#df-73ff89aa-64a7-4652-9a46-74c3842a0cd5 button.colab-df-convert');\n",
              "        buttonEl.style.display =\n",
              "          google.colab.kernel.accessAllowed ? 'block' : 'none';\n",
              "\n",
              "        async function convertToInteractive(key) {\n",
              "          const element = document.querySelector('#df-73ff89aa-64a7-4652-9a46-74c3842a0cd5');\n",
              "          const dataTable =\n",
              "            await google.colab.kernel.invokeFunction('convertToInteractive',\n",
              "                                                     [key], {});\n",
              "          if (!dataTable) return;\n",
              "\n",
              "          const docLinkHtml = 'Like what you see? Visit the ' +\n",
              "            '<a target=\"_blank\" href=https://colab.research.google.com/notebooks/data_table.ipynb>data table notebook</a>'\n",
              "            + ' to learn more about interactive tables.';\n",
              "          element.innerHTML = '';\n",
              "          dataTable['output_type'] = 'display_data';\n",
              "          await google.colab.output.renderOutput(dataTable, element);\n",
              "          const docLink = document.createElement('div');\n",
              "          docLink.innerHTML = docLinkHtml;\n",
              "          element.appendChild(docLink);\n",
              "        }\n",
              "      </script>\n",
              "    </div>\n",
              "  </div>\n",
              "  "
            ]
          },
          "metadata": {},
          "execution_count": 6
        }
      ]
    },
    {
      "cell_type": "code",
      "source": [
        "# Transposed describe\n",
        "data.describe()\\\n",
        "    .T\\\n",
        "    .drop(columns=[\"count\"])\\\n",
        "    .sort_values(by=\"std\", ascending=False)"
      ],
      "metadata": {
        "colab": {
          "base_uri": "https://localhost:8080/",
          "height": 488
        },
        "id": "IJ3wRgzJ5GB8",
        "outputId": "c71dbe15-5606-4906-910c-c65a8dad36bf"
      },
      "execution_count": null,
      "outputs": [
        {
          "output_type": "execute_result",
          "data": {
            "text/plain": [
              "                mean        std    min    25%    50%    75%    max\n",
              "chol      246.000000  51.592510  126.0  211.0  240.0  275.0  564.0\n",
              "thalach   149.114146  23.005724   71.0  132.0  152.0  166.0  202.0\n",
              "trestbps  131.611707  17.516718   94.0  120.0  130.0  140.0  200.0\n",
              "age        54.434146   9.072290   29.0   48.0   56.0   61.0   77.0\n",
              "oldpeak     1.071512   1.175053    0.0    0.0    0.8    1.8    6.2\n",
              "ca          0.754146   1.030798    0.0    0.0    0.0    1.0    4.0\n",
              "cp          0.942439   1.029641    0.0    0.0    1.0    2.0    3.0\n",
              "thal        2.323902   0.620660    0.0    2.0    2.0    3.0    3.0\n",
              "slope       1.385366   0.617755    0.0    1.0    1.0    2.0    2.0\n",
              "restecg     0.529756   0.527878    0.0    0.0    1.0    1.0    2.0\n",
              "target      0.513171   0.500070    0.0    0.0    1.0    1.0    1.0\n",
              "exang       0.336585   0.472772    0.0    0.0    0.0    1.0    1.0\n",
              "sex         0.695610   0.460373    0.0    0.0    1.0    1.0    1.0\n",
              "fbs         0.149268   0.356527    0.0    0.0    0.0    0.0    1.0"
            ],
            "text/html": [
              "\n",
              "  <div id=\"df-f245526f-3801-4c6d-a7be-7d80bd8ec1a5\">\n",
              "    <div class=\"colab-df-container\">\n",
              "      <div>\n",
              "<style scoped>\n",
              "    .dataframe tbody tr th:only-of-type {\n",
              "        vertical-align: middle;\n",
              "    }\n",
              "\n",
              "    .dataframe tbody tr th {\n",
              "        vertical-align: top;\n",
              "    }\n",
              "\n",
              "    .dataframe thead th {\n",
              "        text-align: right;\n",
              "    }\n",
              "</style>\n",
              "<table border=\"1\" class=\"dataframe\">\n",
              "  <thead>\n",
              "    <tr style=\"text-align: right;\">\n",
              "      <th></th>\n",
              "      <th>mean</th>\n",
              "      <th>std</th>\n",
              "      <th>min</th>\n",
              "      <th>25%</th>\n",
              "      <th>50%</th>\n",
              "      <th>75%</th>\n",
              "      <th>max</th>\n",
              "    </tr>\n",
              "  </thead>\n",
              "  <tbody>\n",
              "    <tr>\n",
              "      <th>chol</th>\n",
              "      <td>246.000000</td>\n",
              "      <td>51.592510</td>\n",
              "      <td>126.0</td>\n",
              "      <td>211.0</td>\n",
              "      <td>240.0</td>\n",
              "      <td>275.0</td>\n",
              "      <td>564.0</td>\n",
              "    </tr>\n",
              "    <tr>\n",
              "      <th>thalach</th>\n",
              "      <td>149.114146</td>\n",
              "      <td>23.005724</td>\n",
              "      <td>71.0</td>\n",
              "      <td>132.0</td>\n",
              "      <td>152.0</td>\n",
              "      <td>166.0</td>\n",
              "      <td>202.0</td>\n",
              "    </tr>\n",
              "    <tr>\n",
              "      <th>trestbps</th>\n",
              "      <td>131.611707</td>\n",
              "      <td>17.516718</td>\n",
              "      <td>94.0</td>\n",
              "      <td>120.0</td>\n",
              "      <td>130.0</td>\n",
              "      <td>140.0</td>\n",
              "      <td>200.0</td>\n",
              "    </tr>\n",
              "    <tr>\n",
              "      <th>age</th>\n",
              "      <td>54.434146</td>\n",
              "      <td>9.072290</td>\n",
              "      <td>29.0</td>\n",
              "      <td>48.0</td>\n",
              "      <td>56.0</td>\n",
              "      <td>61.0</td>\n",
              "      <td>77.0</td>\n",
              "    </tr>\n",
              "    <tr>\n",
              "      <th>oldpeak</th>\n",
              "      <td>1.071512</td>\n",
              "      <td>1.175053</td>\n",
              "      <td>0.0</td>\n",
              "      <td>0.0</td>\n",
              "      <td>0.8</td>\n",
              "      <td>1.8</td>\n",
              "      <td>6.2</td>\n",
              "    </tr>\n",
              "    <tr>\n",
              "      <th>ca</th>\n",
              "      <td>0.754146</td>\n",
              "      <td>1.030798</td>\n",
              "      <td>0.0</td>\n",
              "      <td>0.0</td>\n",
              "      <td>0.0</td>\n",
              "      <td>1.0</td>\n",
              "      <td>4.0</td>\n",
              "    </tr>\n",
              "    <tr>\n",
              "      <th>cp</th>\n",
              "      <td>0.942439</td>\n",
              "      <td>1.029641</td>\n",
              "      <td>0.0</td>\n",
              "      <td>0.0</td>\n",
              "      <td>1.0</td>\n",
              "      <td>2.0</td>\n",
              "      <td>3.0</td>\n",
              "    </tr>\n",
              "    <tr>\n",
              "      <th>thal</th>\n",
              "      <td>2.323902</td>\n",
              "      <td>0.620660</td>\n",
              "      <td>0.0</td>\n",
              "      <td>2.0</td>\n",
              "      <td>2.0</td>\n",
              "      <td>3.0</td>\n",
              "      <td>3.0</td>\n",
              "    </tr>\n",
              "    <tr>\n",
              "      <th>slope</th>\n",
              "      <td>1.385366</td>\n",
              "      <td>0.617755</td>\n",
              "      <td>0.0</td>\n",
              "      <td>1.0</td>\n",
              "      <td>1.0</td>\n",
              "      <td>2.0</td>\n",
              "      <td>2.0</td>\n",
              "    </tr>\n",
              "    <tr>\n",
              "      <th>restecg</th>\n",
              "      <td>0.529756</td>\n",
              "      <td>0.527878</td>\n",
              "      <td>0.0</td>\n",
              "      <td>0.0</td>\n",
              "      <td>1.0</td>\n",
              "      <td>1.0</td>\n",
              "      <td>2.0</td>\n",
              "    </tr>\n",
              "    <tr>\n",
              "      <th>target</th>\n",
              "      <td>0.513171</td>\n",
              "      <td>0.500070</td>\n",
              "      <td>0.0</td>\n",
              "      <td>0.0</td>\n",
              "      <td>1.0</td>\n",
              "      <td>1.0</td>\n",
              "      <td>1.0</td>\n",
              "    </tr>\n",
              "    <tr>\n",
              "      <th>exang</th>\n",
              "      <td>0.336585</td>\n",
              "      <td>0.472772</td>\n",
              "      <td>0.0</td>\n",
              "      <td>0.0</td>\n",
              "      <td>0.0</td>\n",
              "      <td>1.0</td>\n",
              "      <td>1.0</td>\n",
              "    </tr>\n",
              "    <tr>\n",
              "      <th>sex</th>\n",
              "      <td>0.695610</td>\n",
              "      <td>0.460373</td>\n",
              "      <td>0.0</td>\n",
              "      <td>0.0</td>\n",
              "      <td>1.0</td>\n",
              "      <td>1.0</td>\n",
              "      <td>1.0</td>\n",
              "    </tr>\n",
              "    <tr>\n",
              "      <th>fbs</th>\n",
              "      <td>0.149268</td>\n",
              "      <td>0.356527</td>\n",
              "      <td>0.0</td>\n",
              "      <td>0.0</td>\n",
              "      <td>0.0</td>\n",
              "      <td>0.0</td>\n",
              "      <td>1.0</td>\n",
              "    </tr>\n",
              "  </tbody>\n",
              "</table>\n",
              "</div>\n",
              "      <button class=\"colab-df-convert\" onclick=\"convertToInteractive('df-f245526f-3801-4c6d-a7be-7d80bd8ec1a5')\"\n",
              "              title=\"Convert this dataframe to an interactive table.\"\n",
              "              style=\"display:none;\">\n",
              "        \n",
              "  <svg xmlns=\"http://www.w3.org/2000/svg\" height=\"24px\"viewBox=\"0 0 24 24\"\n",
              "       width=\"24px\">\n",
              "    <path d=\"M0 0h24v24H0V0z\" fill=\"none\"/>\n",
              "    <path d=\"M18.56 5.44l.94 2.06.94-2.06 2.06-.94-2.06-.94-.94-2.06-.94 2.06-2.06.94zm-11 1L8.5 8.5l.94-2.06 2.06-.94-2.06-.94L8.5 2.5l-.94 2.06-2.06.94zm10 10l.94 2.06.94-2.06 2.06-.94-2.06-.94-.94-2.06-.94 2.06-2.06.94z\"/><path d=\"M17.41 7.96l-1.37-1.37c-.4-.4-.92-.59-1.43-.59-.52 0-1.04.2-1.43.59L10.3 9.45l-7.72 7.72c-.78.78-.78 2.05 0 2.83L4 21.41c.39.39.9.59 1.41.59.51 0 1.02-.2 1.41-.59l7.78-7.78 2.81-2.81c.8-.78.8-2.07 0-2.86zM5.41 20L4 18.59l7.72-7.72 1.47 1.35L5.41 20z\"/>\n",
              "  </svg>\n",
              "      </button>\n",
              "      \n",
              "  <style>\n",
              "    .colab-df-container {\n",
              "      display:flex;\n",
              "      flex-wrap:wrap;\n",
              "      gap: 12px;\n",
              "    }\n",
              "\n",
              "    .colab-df-convert {\n",
              "      background-color: #E8F0FE;\n",
              "      border: none;\n",
              "      border-radius: 50%;\n",
              "      cursor: pointer;\n",
              "      display: none;\n",
              "      fill: #1967D2;\n",
              "      height: 32px;\n",
              "      padding: 0 0 0 0;\n",
              "      width: 32px;\n",
              "    }\n",
              "\n",
              "    .colab-df-convert:hover {\n",
              "      background-color: #E2EBFA;\n",
              "      box-shadow: 0px 1px 2px rgba(60, 64, 67, 0.3), 0px 1px 3px 1px rgba(60, 64, 67, 0.15);\n",
              "      fill: #174EA6;\n",
              "    }\n",
              "\n",
              "    [theme=dark] .colab-df-convert {\n",
              "      background-color: #3B4455;\n",
              "      fill: #D2E3FC;\n",
              "    }\n",
              "\n",
              "    [theme=dark] .colab-df-convert:hover {\n",
              "      background-color: #434B5C;\n",
              "      box-shadow: 0px 1px 3px 1px rgba(0, 0, 0, 0.15);\n",
              "      filter: drop-shadow(0px 1px 2px rgba(0, 0, 0, 0.3));\n",
              "      fill: #FFFFFF;\n",
              "    }\n",
              "  </style>\n",
              "\n",
              "      <script>\n",
              "        const buttonEl =\n",
              "          document.querySelector('#df-f245526f-3801-4c6d-a7be-7d80bd8ec1a5 button.colab-df-convert');\n",
              "        buttonEl.style.display =\n",
              "          google.colab.kernel.accessAllowed ? 'block' : 'none';\n",
              "\n",
              "        async function convertToInteractive(key) {\n",
              "          const element = document.querySelector('#df-f245526f-3801-4c6d-a7be-7d80bd8ec1a5');\n",
              "          const dataTable =\n",
              "            await google.colab.kernel.invokeFunction('convertToInteractive',\n",
              "                                                     [key], {});\n",
              "          if (!dataTable) return;\n",
              "\n",
              "          const docLinkHtml = 'Like what you see? Visit the ' +\n",
              "            '<a target=\"_blank\" href=https://colab.research.google.com/notebooks/data_table.ipynb>data table notebook</a>'\n",
              "            + ' to learn more about interactive tables.';\n",
              "          element.innerHTML = '';\n",
              "          dataTable['output_type'] = 'display_data';\n",
              "          await google.colab.output.renderOutput(dataTable, element);\n",
              "          const docLink = document.createElement('div');\n",
              "          docLink.innerHTML = docLinkHtml;\n",
              "          element.appendChild(docLink);\n",
              "        }\n",
              "      </script>\n",
              "    </div>\n",
              "  </div>\n",
              "  "
            ]
          },
          "metadata": {},
          "execution_count": 7
        }
      ]
    },
    {
      "cell_type": "code",
      "source": [
        "# Import the modules\n",
        "from scipy.stats import probplot\n",
        "from statsmodels.api import ProbPlot\n",
        "\n",
        "# Take \"maximum heart rate achieved\" values\n",
        "max_hr = data.thalach.values\n",
        "# Declare a Probability Plot object\n",
        "pplot = ProbPlot(data=max_hr, dist=norm, fit=True)\n",
        "\n",
        "# Figure setup\n",
        "fig, axes = plt.subplots(nrows=2, ncols=2, figsize=(12, 10))\n",
        "# Histogram of the original data\n",
        "histplot(x=max_hr, kde=True, stat=\"density\", bins=30, ax=axes[0][0])\n",
        "# X and y lims\n",
        "axes[0][0].set_xlim(xmin=60., xmax=210.)\n",
        "axes[0][0].set_ylim(ymin=0., ymax=0.025)\n",
        "# X label\n",
        "axes[0][0].set_xlabel(xlabel=\"Data\")\n",
        "# Title\n",
        "axes[0][0].set_title(label=\"Histogram w/ density function\")\n",
        "# Probability plot\n",
        "probplot(x=max_hr, plot=axes[0][1])\n",
        "# QQ plot\n",
        "pplot.qqplot(line=\"45\", ax=axes[1][0])\n",
        "# Title\n",
        "axes[1][0].set_title(label=\"QQ Plot\")\n",
        "# PP plot\n",
        "pplot.ppplot(line=\"45\", ax=axes[1][1])\n",
        "# Title\n",
        "axes[1][1].set_title(label=\"PP Plot\")\n",
        "\n",
        "# Show the plots\n",
        "plt.show()"
      ],
      "metadata": {
        "colab": {
          "base_uri": "https://localhost:8080/",
          "height": 621
        },
        "id": "xvYmo2C7dbww",
        "outputId": "e07103ee-a1a4-4647-b825-3fa54f6e7c36"
      },
      "execution_count": null,
      "outputs": [
        {
          "output_type": "display_data",
          "data": {
            "text/plain": [
              "<Figure size 864x720 with 4 Axes>"
            ],
            "image/png": "[encoded data removed]"
          },
          "metadata": {
            "needs_background": "light"
          }
        }
      ]
    },
    {
      "cell_type": "code",
      "source": [
        "# Delete not needed objects\n",
        "del data"
      ],
      "metadata": {
        "id": "J3NDtnO7HV21"
      },
      "execution_count": null,
      "outputs": []
    },
    {
      "cell_type": "markdown",
      "source": [
        "# Central Limit Theorem"
      ],
      "metadata": {
        "id": "5LNBRDneDoEE"
      }
    },
    {
      "cell_type": "code",
      "source": [
        "# Import the modules\n",
        "from numpy import mean\n",
        "from scipy.stats import chi2\n",
        "\n",
        "# Declare sample size\n",
        "sizes = [10, 1000, 10000]\n",
        "# 10K Chi-square sample\n",
        "r = chi2.rvs(24, size=10000, random_state=43)\n",
        "# Figure setup\n",
        "_, axes = plt.subplots(nrows=1, ncols=4, figsize=(20, 4))\n",
        "# Histogram of the original sample\n",
        "histplot(x=r, stat=\"density\", kde=True, ax=axes[0])\n",
        "# X label\n",
        "axes[0].set_xlabel(xlabel=\"Data Points\")\n",
        "# Y lim\n",
        "axes[0].set_ylim(ymin=0., ymax=0.07)\n",
        "\n",
        "for (ax, size) in zip(axes[1:], sizes):\n",
        "    # Sample 1 at a time for \"size\" times\n",
        "    r = [mean(chi2.rvs(24, size=5)) for _ in range(size)]\n",
        "    # Histogram\n",
        "    histplot(x=r, stat=\"density\", kde=True, ax=ax)\n",
        "    # X label\n",
        "    ax.set_xlabel(xlabel=\"Data Points\")\n",
        "\n",
        "# Plot\n",
        "plt.show()"
      ],
      "metadata": {
        "id": "F-2Tzd215X-v",
        "colab": {
          "base_uri": "https://localhost:8080/",
          "height": 283
        },
        "outputId": "57b5718b-2406-48b6-987e-924a2c89bbc3"
      },
      "execution_count": null,
      "outputs": [
        {
          "output_type": "display_data",
          "data": {
            "text/plain": [
              "<Figure size 1152x288 with 4 Axes>"
            ],
            "image/png": "[encoded data removed]"
          },
          "metadata": {
            "needs_background": "light"
          }
        }
      ]
    },
    {
      "cell_type": "markdown",
      "source": [
        "# Kolmogorov-Smirnov Goodness-of-Fit Tests"
      ],
      "metadata": {
        "id": "-vg5a4y5K7uY"
      }
    },
    {
      "cell_type": "code",
      "source": [
        "from scipy.stats import binom, expon, kstest\n",
        "\n",
        "# Declare a normally distributed sample\n",
        "r = norm.rvs(size=1000, random_state=43)\n",
        "# Hypothesis result dict\n",
        "d = {\n",
        "    True: \"Reject\",\n",
        "    False: \"Cannot Reject\"\n",
        "}\n",
        "\n",
        "# Kolmogorov-Smirnov Goodness-of-Fit Tests\n",
        "res = kstest(rvs=r, cdf=norm.cdf) # Gaussian\n",
        "# Trace\n",
        "print(\"Gaussian:\", round(res.pvalue, 5), d[res.pvalue < 0.05])\n",
        "res = kstest(rvs=r, cdf=binom(n=5, p=0.4).cdf) # Binom\n",
        "# Trace\n",
        "print(\"Binom:\", round(res.pvalue, 5), d[res.pvalue < 0.05])\n",
        "res = kstest(rvs=r, cdf=expon.cdf) # Exponential\n",
        "# Trace\n",
        "print(\"Exponential:\", round(res.pvalue, 5), d[res.pvalue < 0.05])\n",
        "res = kstest(rvs=r, cdf=chi2(df=78).cdf) # Chi-square\n",
        "# Trace\n",
        "print(\"Chi-square [df=78]:\", round(res.pvalue, 5), d[res.pvalue < 0.05])"
      ],
      "metadata": {
        "colab": {
          "base_uri": "https://localhost:8080/"
        },
        "id": "JhRK_O96zck1",
        "outputId": "ed953054-811a-4e8a-88be-40acddc46bc8"
      },
      "execution_count": null,
      "outputs": [
        {
          "output_type": "stream",
          "name": "stdout",
          "text": [
            "Gaussian: 0.8316 Cannot Reject\n",
            "Binom: 0.0 Reject\n",
            "Exponential: 0.0 Reject\n",
            "Chi-square [df=78]: 0.0 Reject\n"
          ]
        }
      ]
    },
    {
      "cell_type": "code",
      "source": [
        "# Kolmogorov-Smirnov Goodness-of-Fit Test on heart rate data\n",
        "res = kstest(rvs=max_hr, cdf=norm.cdf) # Gaussian\n",
        "# Trace\n",
        "print(\"Gaussian:\", round(res.pvalue, 5), d[res.pvalue < 0.05])"
      ],
      "metadata": {
        "colab": {
          "base_uri": "https://localhost:8080/"
        },
        "id": "sJX-XNHwoUol",
        "outputId": "fe584b58-2f04-451e-a63c-f83508c8f52d"
      },
      "execution_count": null,
      "outputs": [
        {
          "output_type": "stream",
          "name": "stdout",
          "text": [
            "Gaussian: 0.0 Reject\n"
          ]
        }
      ]
    },
    {
      "cell_type": "code",
      "source": [
        "import numpy as np\n",
        "from scipy.stats import kstest\n",
        "\n",
        "from typing import List\n",
        "\n",
        "\n",
        "def fit_distribution(data: np.ndarray, distributions: List[str]) -> tuple:\n",
        "    \"\"\"\n",
        "    Applies the Kolmogorov-Smirnov Goodness-of-Fit Test to the given data\n",
        "    to find out which kind of distribution the data relates to.\n",
        "\n",
        "    Parameters:\n",
        "    data (numpy.ndarray): 1D array containing the data.\n",
        "    distributions (list of str): A list of strings that specify the distributions to test against. \n",
        "        Must be a list of scipy.stats supported distributions.\n",
        "\n",
        "    Returns:\n",
        "    tuple: A tuple containing the best fitting distribution and its p-value.\n",
        "    \"\"\"\n",
        "    # Declare trackers\n",
        "    best_fit = None # for the best fit\n",
        "    best_p = None # for the best p-value\n",
        "    # Iterate through the given distribution list\n",
        "    for dist in distributions:\n",
        "        # Apply the Kolmogorov-Smirnov Goodness-of-Fit Test\n",
        "        D, p = kstest(data, dist)\n",
        "        # If a better p-value is acquired\n",
        "        if best_p is None or p > best_p:\n",
        "            # Update trackers\n",
        "            best_fit = dist # the best fit\n",
        "            best_p = p # the best p-value\n",
        "    # Return the results\n",
        "    return (best_fit, best_p)\n",
        "\n",
        "\n",
        "# Apply the Kolmogorov-Smirnov Goodness-of-Fit Test\n",
        "# to the maximum heart rate feature\n",
        "\n",
        "# Example list of distributions to test against\n",
        "dists = [\"norm\", \"uniform\", \"expon\"]\n",
        "# Results\n",
        "best_fit, p = fit_distribution(data=expon.rvs(size=10000), distributions=dists)\n",
        "# Trace the results\n",
        "print(f\"Best fit: {best_fit}, p-value: {p:.4f}, {d[p < 0.05]}\")"
      ],
      "metadata": {
        "colab": {
          "base_uri": "https://localhost:8080/"
        },
        "id": "PesdtoMio821",
        "outputId": "ea5cf881-30cd-4beb-80d5-992ed549c661"
      },
      "execution_count": null,
      "outputs": [
        {
          "output_type": "stream",
          "name": "stdout",
          "text": [
            "Best fit: expon, p-value: 0.8796, Cannot Reject\n"
          ]
        }
      ]
    },
    {
      "cell_type": "markdown",
      "source": [
        "# Most known distribution types for statistical tests\n",
        "\n",
        "- Normal ~ Long-Tailed ~ Student's T\n",
        "- Binomial ~ Bernoulli\n",
        "- Chi-square ~ F\n",
        "- Poisson ~ Exponential ~ Weibull"
      ],
      "metadata": {
        "id": "gdhlJVvW9oY1"
      }
    }
  ]
}